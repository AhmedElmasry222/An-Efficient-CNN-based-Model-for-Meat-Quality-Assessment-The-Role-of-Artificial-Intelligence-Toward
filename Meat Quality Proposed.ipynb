{
 "cells": [
  {
   "cell_type": "code",
   "execution_count": 1,
   "id": "ab5dd42c",
   "metadata": {
    "execution": {
     "iopub.execute_input": "2024-04-05T12:15:34.656823Z",
     "iopub.status.busy": "2024-04-05T12:15:34.656443Z",
     "iopub.status.idle": "2024-04-05T12:15:48.485945Z",
     "shell.execute_reply": "2024-04-05T12:15:48.484910Z"
    },
    "id": "zvP8pw6FhmeM",
    "outputId": "38657371-b3d9-4aee-9706-0284f2708292",
    "papermill": {
     "duration": 13.843249,
     "end_time": "2024-04-05T12:15:48.488511",
     "exception": false,
     "start_time": "2024-04-05T12:15:34.645262",
     "status": "completed"
    },
    "tags": []
   },
   "outputs": [
    {
     "name": "stderr",
     "output_type": "stream",
     "text": [
      "2024-04-05 12:15:36.391859: E external/local_xla/xla/stream_executor/cuda/cuda_dnn.cc:9261] Unable to register cuDNN factory: Attempting to register factory for plugin cuDNN when one has already been registered\n",
      "2024-04-05 12:15:36.391954: E external/local_xla/xla/stream_executor/cuda/cuda_fft.cc:607] Unable to register cuFFT factory: Attempting to register factory for plugin cuFFT when one has already been registered\n",
      "2024-04-05 12:15:36.525099: E external/local_xla/xla/stream_executor/cuda/cuda_blas.cc:1515] Unable to register cuBLAS factory: Attempting to register factory for plugin cuBLAS when one has already been registered\n"
     ]
    }
   ],
   "source": [
    "import numpy as np\n",
    "import tensorflow as tf\n",
    "from tensorflow import keras\n",
    "from tensorflow.keras import layers\n",
    "import tensorflow as tf\n",
    "import matplotlib.pyplot as plt\n",
    "from tensorflow.keras.preprocessing.image import ImageDataGenerator\n",
    "from PIL import Image\n",
    "import matplotlib.pyplot as plt\n",
    "import pandas as pd\n",
    "import numpy as np\n",
    "import seaborn as sb\n",
    "import os\n",
    "import warnings\n",
    "warnings.filterwarnings('ignore')\n",
    "import tensorflow as tf\n",
    "import glob as gb\n",
    "import cv2\n",
    "import keras\n",
    "import io\n",
    "import typing\n",
    "from keras import backend\n",
    "import math\n",
    "from keras.models import Sequential, Model,load_model\n",
    "from keras.callbacks import EarlyStopping,ModelCheckpoint\n",
    "from keras.layers import Dropout, Input, Add, Dense, Activation, ZeroPadding2D, BatchNormalization, Flatten, Conv2D, AveragePooling2D, MaxPooling2D, GlobalMaxPooling2D,MaxPool2D\n",
    "from keras.preprocessing import image\n",
    "from keras.initializers import glorot_uniform\n",
    "from sklearn.metrics import classification_report\n",
    "\n",
    "from sklearn.metrics import accuracy_score\n",
    "from sklearn.metrics import precision_score\n",
    "from sklearn.metrics import recall_score\n",
    "from sklearn.metrics import f1_score\n",
    "from sklearn.metrics import roc_auc_score\n",
    "\n",
    "\n",
    "import matplotlib.pyplot as plt \n",
    "from sklearn.preprocessing import LabelBinarizer\n",
    "from sklearn.metrics import roc_curve, auc, roc_auc_score\n",
    "from itertools import cycle\n",
    "import itertools \n",
    "\n",
    "#Model Graphs\n",
    "from sklearn.metrics import confusion_matrix\n",
    "from sklearn.metrics import ConfusionMatrixDisplay\n",
    "\n",
    "\n",
    "from tensorflow.keras.layers import Input, Conv2D, BatchNormalization, Dense\n",
    "from tensorflow.keras.layers import AvgPool2D, GlobalAveragePooling2D, MaxPool2D\n",
    "from tensorflow.keras.models import Model\n",
    "from tensorflow.keras.layers import ReLU, concatenate\n",
    "import tensorflow.keras.backend as K\n",
    "from tensorflow.keras import layers"
   ]
  },
  {
   "cell_type": "code",
   "execution_count": 2,
   "id": "198ddd9e",
   "metadata": {
    "execution": {
     "iopub.execute_input": "2024-04-05T12:15:48.509785Z",
     "iopub.status.busy": "2024-04-05T12:15:48.508628Z",
     "iopub.status.idle": "2024-04-05T12:16:02.440112Z",
     "shell.execute_reply": "2024-04-05T12:16:02.438903Z"
    },
    "id": "nivPNlXnNF3S",
    "outputId": "0cfaffbf-4ac7-451a-c6ac-32a4de7da851",
    "papermill": {
     "duration": 13.944313,
     "end_time": "2024-04-05T12:16:02.442572",
     "exception": false,
     "start_time": "2024-04-05T12:15:48.498259",
     "status": "completed"
    },
    "tags": []
   },
   "outputs": [
    {
     "name": "stdout",
     "output_type": "stream",
     "text": [
      "Collecting split-folders\r\n",
      "  Downloading split_folders-0.5.1-py3-none-any.whl.metadata (6.2 kB)\r\n",
      "Downloading split_folders-0.5.1-py3-none-any.whl (8.4 kB)\r\n",
      "Installing collected packages: split-folders\r\n",
      "Successfully installed split-folders-0.5.1\r\n"
     ]
    }
   ],
   "source": [
    "!pip install split-folders"
   ]
  },
  {
   "cell_type": "code",
   "execution_count": 3,
   "id": "b873d241",
   "metadata": {
    "execution": {
     "iopub.execute_input": "2024-04-05T12:16:02.463546Z",
     "iopub.status.busy": "2024-04-05T12:16:02.463216Z",
     "iopub.status.idle": "2024-04-05T12:16:22.862161Z",
     "shell.execute_reply": "2024-04-05T12:16:22.861088Z"
    },
    "id": "h6EIyFq8NF3Y",
    "outputId": "0a1f7851-271d-4c2e-9a9e-21483c07b816",
    "papermill": {
     "duration": 20.412154,
     "end_time": "2024-04-05T12:16:22.864588",
     "exception": false,
     "start_time": "2024-04-05T12:16:02.452434",
     "status": "completed"
    },
    "tags": []
   },
   "outputs": [
    {
     "name": "stderr",
     "output_type": "stream",
     "text": [
      "Copying files: 1896 files [00:20, 93.10 files/s] \n"
     ]
    }
   ],
   "source": [
    "import splitfolders\n",
    "\n",
    "# Split with a ratio.\n",
    "# To only split into training and validation set, set a tuple to `ratio`, i.e, `(.8, .2)`.\n",
    "splitfolders.ratio(\"/kaggle/input/meat-quality-assessment-based-on-deep-learning/\", output=\"./new\",\n",
    "    seed=1337, ratio=(.8, .1, .1), group_prefix=None, move=False)"
   ]
  },
  {
   "cell_type": "code",
   "execution_count": 4,
   "id": "b18d36db",
   "metadata": {
    "execution": {
     "iopub.execute_input": "2024-04-05T12:16:22.910862Z",
     "iopub.status.busy": "2024-04-05T12:16:22.910493Z",
     "iopub.status.idle": "2024-04-05T12:16:22.915081Z",
     "shell.execute_reply": "2024-04-05T12:16:22.914195Z"
    },
    "id": "XZIDSMdwNF3d",
    "papermill": {
     "duration": 0.030604,
     "end_time": "2024-04-05T12:16:22.917134",
     "exception": false,
     "start_time": "2024-04-05T12:16:22.886530",
     "status": "completed"
    },
    "tags": []
   },
   "outputs": [],
   "source": [
    "train_path='/kaggle/working/new/train/'\n",
    "test_path='/kaggle/working/new/test/'\n",
    "val_path='/kaggle/working/new/val/'"
   ]
  },
  {
   "cell_type": "code",
   "execution_count": 5,
   "id": "46301086",
   "metadata": {
    "execution": {
     "iopub.execute_input": "2024-04-05T12:16:22.962000Z",
     "iopub.status.busy": "2024-04-05T12:16:22.961118Z",
     "iopub.status.idle": "2024-04-05T12:16:22.966402Z",
     "shell.execute_reply": "2024-04-05T12:16:22.965438Z"
    },
    "id": "IxP2BPegNF3f",
    "papermill": {
     "duration": 0.02964,
     "end_time": "2024-04-05T12:16:22.968372",
     "exception": false,
     "start_time": "2024-04-05T12:16:22.938732",
     "status": "completed"
    },
    "tags": []
   },
   "outputs": [],
   "source": [
    "traingen = tf.keras.preprocessing.image.ImageDataGenerator()\n",
    "testgen = tf.keras.preprocessing.image.ImageDataGenerator()\n",
    "validgen =tf.keras.preprocessing.image.ImageDataGenerator()"
   ]
  },
  {
   "cell_type": "code",
   "execution_count": 6,
   "id": "57b8e0f5",
   "metadata": {
    "execution": {
     "iopub.execute_input": "2024-04-05T12:16:23.013262Z",
     "iopub.status.busy": "2024-04-05T12:16:23.012869Z",
     "iopub.status.idle": "2024-04-05T12:16:23.083411Z",
     "shell.execute_reply": "2024-04-05T12:16:23.082669Z"
    },
    "id": "GuXw2uzFNF3h",
    "outputId": "67481c8a-a91a-4854-a60e-e744ce5bec97",
    "papermill": {
     "duration": 0.095753,
     "end_time": "2024-04-05T12:16:23.085344",
     "exception": false,
     "start_time": "2024-04-05T12:16:22.989591",
     "status": "completed"
    },
    "tags": []
   },
   "outputs": [
    {
     "name": "stdout",
     "output_type": "stream",
     "text": [
      "Found 1516 images belonging to 2 classes.\n",
      "Found 192 images belonging to 2 classes.\n",
      "Found 188 images belonging to 2 classes.\n"
     ]
    }
   ],
   "source": [
    "train_ds=traingen.flow_from_directory(batch_size=32,directory=train_path,shuffle=True,\n",
    "                                                 target_size=(224,224),class_mode='categorical')\n",
    "test_ds=traingen.flow_from_directory(batch_size=32,directory=test_path,shuffle=False,target_size=(224,224), \n",
    "                                                 class_mode='categorical')\n",
    "\n",
    "val_ds=traingen.flow_from_directory(batch_size=32,directory=val_path,shuffle=True,target_size=(224,224), \n",
    "                                                 class_mode='categorical')"
   ]
  },
  {
   "cell_type": "code",
   "execution_count": 7,
   "id": "c5fd98ac",
   "metadata": {
    "execution": {
     "iopub.execute_input": "2024-04-05T12:16:23.130867Z",
     "iopub.status.busy": "2024-04-05T12:16:23.130523Z",
     "iopub.status.idle": "2024-04-05T12:16:24.179029Z",
     "shell.execute_reply": "2024-04-05T12:16:24.178234Z"
    },
    "papermill": {
     "duration": 1.075121,
     "end_time": "2024-04-05T12:16:24.181530",
     "exception": false,
     "start_time": "2024-04-05T12:16:23.106409",
     "status": "completed"
    },
    "tags": []
   },
   "outputs": [],
   "source": [
    "from tensorflow.keras import layers, models\n",
    "model = Sequential()\n",
    "\n",
    "model.add(Conv2D(filters = 128, kernel_size = (5,5),padding = 'Same', \n",
    "                 activation ='relu', input_shape = (224,224,3)))\n",
    "\n",
    "model.add(MaxPool2D(pool_size=(4,4)))\n",
    "model.add(Dropout(0.25))\n",
    "\n",
    "\n",
    "model.add(Conv2D(filters = 64, kernel_size = (5,5),padding = 'Same', \n",
    "                 activation ='relu'))\n",
    "model.add(MaxPool2D(pool_size=(2,2)))\n",
    "model.add(Dropout(0.25))\n",
    "\n",
    "\n",
    "model.add(GlobalAveragePooling2D())\n",
    "model.add(Dense(32, activation = \"relu\"))\n",
    "model.add(Dropout(0.5))\n",
    "model.add(Dense(2, activation = \"softmax\"))"
   ]
  },
  {
   "cell_type": "code",
   "execution_count": 8,
   "id": "f509b9ee",
   "metadata": {
    "execution": {
     "iopub.execute_input": "2024-04-05T12:16:24.225730Z",
     "iopub.status.busy": "2024-04-05T12:16:24.225359Z",
     "iopub.status.idle": "2024-04-05T12:16:24.251241Z",
     "shell.execute_reply": "2024-04-05T12:16:24.250312Z"
    },
    "papermill": {
     "duration": 0.049752,
     "end_time": "2024-04-05T12:16:24.253244",
     "exception": false,
     "start_time": "2024-04-05T12:16:24.203492",
     "status": "completed"
    },
    "tags": []
   },
   "outputs": [
    {
     "data": {
      "text/html": [
       "<pre style=\"white-space:pre;overflow-x:auto;line-height:normal;font-family:Menlo,'DejaVu Sans Mono',consolas,'Courier New',monospace\"><span style=\"font-weight: bold\">Model: \"sequential\"</span>\n",
       "</pre>\n"
      ],
      "text/plain": [
       "\u001b[1mModel: \"sequential\"\u001b[0m\n"
      ]
     },
     "metadata": {},
     "output_type": "display_data"
    },
    {
     "data": {
      "text/html": [
       "<pre style=\"white-space:pre;overflow-x:auto;line-height:normal;font-family:Menlo,'DejaVu Sans Mono',consolas,'Courier New',monospace\">┏━━━━━━━━━━━━━━━━━━━━━━━━━━━━━━━━━┳━━━━━━━━━━━━━━━━━━━━━━━━┳━━━━━━━━━━━━━━━┓\n",
       "┃<span style=\"font-weight: bold\"> Layer (type)                    </span>┃<span style=\"font-weight: bold\"> Output Shape           </span>┃<span style=\"font-weight: bold\">       Param # </span>┃\n",
       "┡━━━━━━━━━━━━━━━━━━━━━━━━━━━━━━━━━╇━━━━━━━━━━━━━━━━━━━━━━━━╇━━━━━━━━━━━━━━━┩\n",
       "│ conv2d (<span style=\"color: #0087ff; text-decoration-color: #0087ff\">Conv2D</span>)                 │ (<span style=\"color: #00d7ff; text-decoration-color: #00d7ff\">None</span>, <span style=\"color: #00af00; text-decoration-color: #00af00\">224</span>, <span style=\"color: #00af00; text-decoration-color: #00af00\">224</span>, <span style=\"color: #00af00; text-decoration-color: #00af00\">128</span>)  │         <span style=\"color: #00af00; text-decoration-color: #00af00\">9,728</span> │\n",
       "├─────────────────────────────────┼────────────────────────┼───────────────┤\n",
       "│ max_pooling2d (<span style=\"color: #0087ff; text-decoration-color: #0087ff\">MaxPooling2D</span>)    │ (<span style=\"color: #00d7ff; text-decoration-color: #00d7ff\">None</span>, <span style=\"color: #00af00; text-decoration-color: #00af00\">56</span>, <span style=\"color: #00af00; text-decoration-color: #00af00\">56</span>, <span style=\"color: #00af00; text-decoration-color: #00af00\">128</span>)    │             <span style=\"color: #00af00; text-decoration-color: #00af00\">0</span> │\n",
       "├─────────────────────────────────┼────────────────────────┼───────────────┤\n",
       "│ dropout (<span style=\"color: #0087ff; text-decoration-color: #0087ff\">Dropout</span>)               │ (<span style=\"color: #00d7ff; text-decoration-color: #00d7ff\">None</span>, <span style=\"color: #00af00; text-decoration-color: #00af00\">56</span>, <span style=\"color: #00af00; text-decoration-color: #00af00\">56</span>, <span style=\"color: #00af00; text-decoration-color: #00af00\">128</span>)    │             <span style=\"color: #00af00; text-decoration-color: #00af00\">0</span> │\n",
       "├─────────────────────────────────┼────────────────────────┼───────────────┤\n",
       "│ conv2d_1 (<span style=\"color: #0087ff; text-decoration-color: #0087ff\">Conv2D</span>)               │ (<span style=\"color: #00d7ff; text-decoration-color: #00d7ff\">None</span>, <span style=\"color: #00af00; text-decoration-color: #00af00\">56</span>, <span style=\"color: #00af00; text-decoration-color: #00af00\">56</span>, <span style=\"color: #00af00; text-decoration-color: #00af00\">64</span>)     │       <span style=\"color: #00af00; text-decoration-color: #00af00\">204,864</span> │\n",
       "├─────────────────────────────────┼────────────────────────┼───────────────┤\n",
       "│ max_pooling2d_1 (<span style=\"color: #0087ff; text-decoration-color: #0087ff\">MaxPooling2D</span>)  │ (<span style=\"color: #00d7ff; text-decoration-color: #00d7ff\">None</span>, <span style=\"color: #00af00; text-decoration-color: #00af00\">28</span>, <span style=\"color: #00af00; text-decoration-color: #00af00\">28</span>, <span style=\"color: #00af00; text-decoration-color: #00af00\">64</span>)     │             <span style=\"color: #00af00; text-decoration-color: #00af00\">0</span> │\n",
       "├─────────────────────────────────┼────────────────────────┼───────────────┤\n",
       "│ dropout_1 (<span style=\"color: #0087ff; text-decoration-color: #0087ff\">Dropout</span>)             │ (<span style=\"color: #00d7ff; text-decoration-color: #00d7ff\">None</span>, <span style=\"color: #00af00; text-decoration-color: #00af00\">28</span>, <span style=\"color: #00af00; text-decoration-color: #00af00\">28</span>, <span style=\"color: #00af00; text-decoration-color: #00af00\">64</span>)     │             <span style=\"color: #00af00; text-decoration-color: #00af00\">0</span> │\n",
       "├─────────────────────────────────┼────────────────────────┼───────────────┤\n",
       "│ global_average_pooling2d        │ (<span style=\"color: #00d7ff; text-decoration-color: #00d7ff\">None</span>, <span style=\"color: #00af00; text-decoration-color: #00af00\">64</span>)             │             <span style=\"color: #00af00; text-decoration-color: #00af00\">0</span> │\n",
       "│ (<span style=\"color: #0087ff; text-decoration-color: #0087ff\">GlobalAveragePooling2D</span>)        │                        │               │\n",
       "├─────────────────────────────────┼────────────────────────┼───────────────┤\n",
       "│ dense (<span style=\"color: #0087ff; text-decoration-color: #0087ff\">Dense</span>)                   │ (<span style=\"color: #00d7ff; text-decoration-color: #00d7ff\">None</span>, <span style=\"color: #00af00; text-decoration-color: #00af00\">32</span>)             │         <span style=\"color: #00af00; text-decoration-color: #00af00\">2,080</span> │\n",
       "├─────────────────────────────────┼────────────────────────┼───────────────┤\n",
       "│ dropout_2 (<span style=\"color: #0087ff; text-decoration-color: #0087ff\">Dropout</span>)             │ (<span style=\"color: #00d7ff; text-decoration-color: #00d7ff\">None</span>, <span style=\"color: #00af00; text-decoration-color: #00af00\">32</span>)             │             <span style=\"color: #00af00; text-decoration-color: #00af00\">0</span> │\n",
       "├─────────────────────────────────┼────────────────────────┼───────────────┤\n",
       "│ dense_1 (<span style=\"color: #0087ff; text-decoration-color: #0087ff\">Dense</span>)                 │ (<span style=\"color: #00d7ff; text-decoration-color: #00d7ff\">None</span>, <span style=\"color: #00af00; text-decoration-color: #00af00\">2</span>)              │            <span style=\"color: #00af00; text-decoration-color: #00af00\">66</span> │\n",
       "└─────────────────────────────────┴────────────────────────┴───────────────┘\n",
       "</pre>\n"
      ],
      "text/plain": [
       "┏━━━━━━━━━━━━━━━━━━━━━━━━━━━━━━━━━┳━━━━━━━━━━━━━━━━━━━━━━━━┳━━━━━━━━━━━━━━━┓\n",
       "┃\u001b[1m \u001b[0m\u001b[1mLayer (type)                   \u001b[0m\u001b[1m \u001b[0m┃\u001b[1m \u001b[0m\u001b[1mOutput Shape          \u001b[0m\u001b[1m \u001b[0m┃\u001b[1m \u001b[0m\u001b[1m      Param #\u001b[0m\u001b[1m \u001b[0m┃\n",
       "┡━━━━━━━━━━━━━━━━━━━━━━━━━━━━━━━━━╇━━━━━━━━━━━━━━━━━━━━━━━━╇━━━━━━━━━━━━━━━┩\n",
       "│ conv2d (\u001b[38;5;33mConv2D\u001b[0m)                 │ (\u001b[38;5;45mNone\u001b[0m, \u001b[38;5;34m224\u001b[0m, \u001b[38;5;34m224\u001b[0m, \u001b[38;5;34m128\u001b[0m)  │         \u001b[38;5;34m9,728\u001b[0m │\n",
       "├─────────────────────────────────┼────────────────────────┼───────────────┤\n",
       "│ max_pooling2d (\u001b[38;5;33mMaxPooling2D\u001b[0m)    │ (\u001b[38;5;45mNone\u001b[0m, \u001b[38;5;34m56\u001b[0m, \u001b[38;5;34m56\u001b[0m, \u001b[38;5;34m128\u001b[0m)    │             \u001b[38;5;34m0\u001b[0m │\n",
       "├─────────────────────────────────┼────────────────────────┼───────────────┤\n",
       "│ dropout (\u001b[38;5;33mDropout\u001b[0m)               │ (\u001b[38;5;45mNone\u001b[0m, \u001b[38;5;34m56\u001b[0m, \u001b[38;5;34m56\u001b[0m, \u001b[38;5;34m128\u001b[0m)    │             \u001b[38;5;34m0\u001b[0m │\n",
       "├─────────────────────────────────┼────────────────────────┼───────────────┤\n",
       "│ conv2d_1 (\u001b[38;5;33mConv2D\u001b[0m)               │ (\u001b[38;5;45mNone\u001b[0m, \u001b[38;5;34m56\u001b[0m, \u001b[38;5;34m56\u001b[0m, \u001b[38;5;34m64\u001b[0m)     │       \u001b[38;5;34m204,864\u001b[0m │\n",
       "├─────────────────────────────────┼────────────────────────┼───────────────┤\n",
       "│ max_pooling2d_1 (\u001b[38;5;33mMaxPooling2D\u001b[0m)  │ (\u001b[38;5;45mNone\u001b[0m, \u001b[38;5;34m28\u001b[0m, \u001b[38;5;34m28\u001b[0m, \u001b[38;5;34m64\u001b[0m)     │             \u001b[38;5;34m0\u001b[0m │\n",
       "├─────────────────────────────────┼────────────────────────┼───────────────┤\n",
       "│ dropout_1 (\u001b[38;5;33mDropout\u001b[0m)             │ (\u001b[38;5;45mNone\u001b[0m, \u001b[38;5;34m28\u001b[0m, \u001b[38;5;34m28\u001b[0m, \u001b[38;5;34m64\u001b[0m)     │             \u001b[38;5;34m0\u001b[0m │\n",
       "├─────────────────────────────────┼────────────────────────┼───────────────┤\n",
       "│ global_average_pooling2d        │ (\u001b[38;5;45mNone\u001b[0m, \u001b[38;5;34m64\u001b[0m)             │             \u001b[38;5;34m0\u001b[0m │\n",
       "│ (\u001b[38;5;33mGlobalAveragePooling2D\u001b[0m)        │                        │               │\n",
       "├─────────────────────────────────┼────────────────────────┼───────────────┤\n",
       "│ dense (\u001b[38;5;33mDense\u001b[0m)                   │ (\u001b[38;5;45mNone\u001b[0m, \u001b[38;5;34m32\u001b[0m)             │         \u001b[38;5;34m2,080\u001b[0m │\n",
       "├─────────────────────────────────┼────────────────────────┼───────────────┤\n",
       "│ dropout_2 (\u001b[38;5;33mDropout\u001b[0m)             │ (\u001b[38;5;45mNone\u001b[0m, \u001b[38;5;34m32\u001b[0m)             │             \u001b[38;5;34m0\u001b[0m │\n",
       "├─────────────────────────────────┼────────────────────────┼───────────────┤\n",
       "│ dense_1 (\u001b[38;5;33mDense\u001b[0m)                 │ (\u001b[38;5;45mNone\u001b[0m, \u001b[38;5;34m2\u001b[0m)              │            \u001b[38;5;34m66\u001b[0m │\n",
       "└─────────────────────────────────┴────────────────────────┴───────────────┘\n"
      ]
     },
     "metadata": {},
     "output_type": "display_data"
    },
    {
     "data": {
      "text/html": [
       "<pre style=\"white-space:pre;overflow-x:auto;line-height:normal;font-family:Menlo,'DejaVu Sans Mono',consolas,'Courier New',monospace\"><span style=\"font-weight: bold\"> Total params: </span><span style=\"color: #00af00; text-decoration-color: #00af00\">216,738</span> (846.63 KB)\n",
       "</pre>\n"
      ],
      "text/plain": [
       "\u001b[1m Total params: \u001b[0m\u001b[38;5;34m216,738\u001b[0m (846.63 KB)\n"
      ]
     },
     "metadata": {},
     "output_type": "display_data"
    },
    {
     "data": {
      "text/html": [
       "<pre style=\"white-space:pre;overflow-x:auto;line-height:normal;font-family:Menlo,'DejaVu Sans Mono',consolas,'Courier New',monospace\"><span style=\"font-weight: bold\"> Trainable params: </span><span style=\"color: #00af00; text-decoration-color: #00af00\">216,738</span> (846.63 KB)\n",
       "</pre>\n"
      ],
      "text/plain": [
       "\u001b[1m Trainable params: \u001b[0m\u001b[38;5;34m216,738\u001b[0m (846.63 KB)\n"
      ]
     },
     "metadata": {},
     "output_type": "display_data"
    },
    {
     "data": {
      "text/html": [
       "<pre style=\"white-space:pre;overflow-x:auto;line-height:normal;font-family:Menlo,'DejaVu Sans Mono',consolas,'Courier New',monospace\"><span style=\"font-weight: bold\"> Non-trainable params: </span><span style=\"color: #00af00; text-decoration-color: #00af00\">0</span> (0.00 B)\n",
       "</pre>\n"
      ],
      "text/plain": [
       "\u001b[1m Non-trainable params: \u001b[0m\u001b[38;5;34m0\u001b[0m (0.00 B)\n"
      ]
     },
     "metadata": {},
     "output_type": "display_data"
    }
   ],
   "source": [
    "model.summary()"
   ]
  },
  {
   "cell_type": "code",
   "execution_count": 9,
   "id": "f0045b80",
   "metadata": {
    "execution": {
     "iopub.execute_input": "2024-04-05T12:16:24.299225Z",
     "iopub.status.busy": "2024-04-05T12:16:24.298562Z",
     "iopub.status.idle": "2024-04-05T12:16:24.303758Z",
     "shell.execute_reply": "2024-04-05T12:16:24.302700Z"
    },
    "id": "qxnjxaIjNF3y",
    "papermill": {
     "duration": 0.030156,
     "end_time": "2024-04-05T12:16:24.305604",
     "exception": false,
     "start_time": "2024-04-05T12:16:24.275448",
     "status": "completed"
    },
    "tags": []
   },
   "outputs": [],
   "source": [
    "callback = tf.keras.callbacks.EarlyStopping(monitor='val_loss', patience=10)"
   ]
  },
  {
   "cell_type": "code",
   "execution_count": 10,
   "id": "696d570f",
   "metadata": {
    "execution": {
     "iopub.execute_input": "2024-04-05T12:16:24.350871Z",
     "iopub.status.busy": "2024-04-05T12:16:24.350487Z",
     "iopub.status.idle": "2024-04-05T12:16:24.367344Z",
     "shell.execute_reply": "2024-04-05T12:16:24.366554Z"
    },
    "id": "7qic40JXNF3y",
    "papermill": {
     "duration": 0.042012,
     "end_time": "2024-04-05T12:16:24.369488",
     "exception": false,
     "start_time": "2024-04-05T12:16:24.327476",
     "status": "completed"
    },
    "tags": []
   },
   "outputs": [],
   "source": [
    "model.compile(\n",
    "    loss=keras.losses.CategoricalCrossentropy(),optimizer = tf.keras.optimizers.Adam(beta_1=0.9,\n",
    "    beta_2=0.999),\n",
    "    metrics=[keras.metrics.CategoricalAccuracy(name=\"accuracy\")],\n",
    ")"
   ]
  },
  {
   "cell_type": "code",
   "execution_count": 11,
   "id": "db249470",
   "metadata": {
    "execution": {
     "iopub.execute_input": "2024-04-05T12:16:24.414496Z",
     "iopub.status.busy": "2024-04-05T12:16:24.414112Z",
     "iopub.status.idle": "2024-04-05T12:21:52.037210Z",
     "shell.execute_reply": "2024-04-05T12:21:52.036329Z"
    },
    "id": "kUox8hWbSjqX",
    "outputId": "164b0024-0167-4ade-fffa-de8c8c095045",
    "papermill": {
     "duration": 327.647894,
     "end_time": "2024-04-05T12:21:52.039406",
     "exception": false,
     "start_time": "2024-04-05T12:16:24.391512",
     "status": "completed"
    },
    "tags": []
   },
   "outputs": [
    {
     "name": "stdout",
     "output_type": "stream",
     "text": [
      "Epoch 1/30\n",
      "\u001b[1m 1/48\u001b[0m \u001b[37m━━━━━━━━━━━━━━━━━━━━\u001b[0m \u001b[1m11:37\u001b[0m 15s/step - accuracy: 0.6250 - loss: 17.1532"
     ]
    },
    {
     "name": "stderr",
     "output_type": "stream",
     "text": [
      "WARNING: All log messages before absl::InitializeLog() is called are written to STDERR\n",
      "I0000 00:00:1712319399.457266      96 device_compiler.h:186] Compiled cluster using XLA!  This line is logged at most once for the lifetime of the process.\n"
     ]
    },
    {
     "name": "stdout",
     "output_type": "stream",
     "text": [
      "\u001b[1m48/48\u001b[0m \u001b[32m━━━━━━━━━━━━━━━━━━━━\u001b[0m\u001b[37m\u001b[0m \u001b[1m34s\u001b[0m 402ms/step - accuracy: 0.5177 - loss: 19.7049 - val_accuracy: 0.8032 - val_loss: 0.6520\n",
      "Epoch 2/30\n",
      "\u001b[1m48/48\u001b[0m \u001b[32m━━━━━━━━━━━━━━━━━━━━\u001b[0m\u001b[37m\u001b[0m \u001b[1m10s\u001b[0m 185ms/step - accuracy: 0.5960 - loss: 0.6554 - val_accuracy: 0.7979 - val_loss: 0.5774\n",
      "Epoch 3/30\n",
      "\u001b[1m48/48\u001b[0m \u001b[32m━━━━━━━━━━━━━━━━━━━━\u001b[0m\u001b[37m\u001b[0m \u001b[1m10s\u001b[0m 178ms/step - accuracy: 0.6212 - loss: 0.6504 - val_accuracy: 0.6862 - val_loss: 0.5877\n",
      "Epoch 4/30\n",
      "\u001b[1m48/48\u001b[0m \u001b[32m━━━━━━━━━━━━━━━━━━━━\u001b[0m\u001b[37m\u001b[0m \u001b[1m10s\u001b[0m 185ms/step - accuracy: 0.7232 - loss: 0.5288 - val_accuracy: 0.7766 - val_loss: 0.4365\n",
      "Epoch 5/30\n",
      "\u001b[1m48/48\u001b[0m \u001b[32m━━━━━━━━━━━━━━━━━━━━\u001b[0m\u001b[37m\u001b[0m \u001b[1m10s\u001b[0m 185ms/step - accuracy: 0.7975 - loss: 0.4265 - val_accuracy: 0.9468 - val_loss: 0.3104\n",
      "Epoch 6/30\n",
      "\u001b[1m48/48\u001b[0m \u001b[32m━━━━━━━━━━━━━━━━━━━━\u001b[0m\u001b[37m\u001b[0m \u001b[1m10s\u001b[0m 183ms/step - accuracy: 0.8685 - loss: 0.3412 - val_accuracy: 0.8085 - val_loss: 0.3836\n",
      "Epoch 7/30\n",
      "\u001b[1m48/48\u001b[0m \u001b[32m━━━━━━━━━━━━━━━━━━━━\u001b[0m\u001b[37m\u001b[0m \u001b[1m10s\u001b[0m 185ms/step - accuracy: 0.7908 - loss: 0.4799 - val_accuracy: 0.9734 - val_loss: 0.1559\n",
      "Epoch 8/30\n",
      "\u001b[1m48/48\u001b[0m \u001b[32m━━━━━━━━━━━━━━━━━━━━\u001b[0m\u001b[37m\u001b[0m \u001b[1m10s\u001b[0m 181ms/step - accuracy: 0.8883 - loss: 0.2942 - val_accuracy: 0.9681 - val_loss: 0.1321\n",
      "Epoch 9/30\n",
      "\u001b[1m48/48\u001b[0m \u001b[32m━━━━━━━━━━━━━━━━━━━━\u001b[0m\u001b[37m\u001b[0m \u001b[1m10s\u001b[0m 188ms/step - accuracy: 0.8102 - loss: 0.4136 - val_accuracy: 0.9521 - val_loss: 0.2149\n",
      "Epoch 10/30\n",
      "\u001b[1m48/48\u001b[0m \u001b[32m━━━━━━━━━━━━━━━━━━━━\u001b[0m\u001b[37m\u001b[0m \u001b[1m10s\u001b[0m 179ms/step - accuracy: 0.8861 - loss: 0.2728 - val_accuracy: 0.9681 - val_loss: 0.1116\n",
      "Epoch 11/30\n",
      "\u001b[1m48/48\u001b[0m \u001b[32m━━━━━━━━━━━━━━━━━━━━\u001b[0m\u001b[37m\u001b[0m \u001b[1m10s\u001b[0m 184ms/step - accuracy: 0.9187 - loss: 0.2210 - val_accuracy: 0.8723 - val_loss: 0.3341\n",
      "Epoch 12/30\n",
      "\u001b[1m48/48\u001b[0m \u001b[32m━━━━━━━━━━━━━━━━━━━━\u001b[0m\u001b[37m\u001b[0m \u001b[1m10s\u001b[0m 184ms/step - accuracy: 0.8923 - loss: 0.2797 - val_accuracy: 0.9894 - val_loss: 0.0586\n",
      "Epoch 13/30\n",
      "\u001b[1m48/48\u001b[0m \u001b[32m━━━━━━━━━━━━━━━━━━━━\u001b[0m\u001b[37m\u001b[0m \u001b[1m10s\u001b[0m 180ms/step - accuracy: 0.9063 - loss: 0.2042 - val_accuracy: 0.9521 - val_loss: 0.2398\n",
      "Epoch 14/30\n",
      "\u001b[1m48/48\u001b[0m \u001b[32m━━━━━━━━━━━━━━━━━━━━\u001b[0m\u001b[37m\u001b[0m \u001b[1m10s\u001b[0m 180ms/step - accuracy: 0.9316 - loss: 0.2063 - val_accuracy: 0.9894 - val_loss: 0.1020\n",
      "Epoch 15/30\n",
      "\u001b[1m48/48\u001b[0m \u001b[32m━━━━━━━━━━━━━━━━━━━━\u001b[0m\u001b[37m\u001b[0m \u001b[1m10s\u001b[0m 182ms/step - accuracy: 0.9440 - loss: 0.1783 - val_accuracy: 0.9574 - val_loss: 0.1048\n",
      "Epoch 16/30\n",
      "\u001b[1m48/48\u001b[0m \u001b[32m━━━━━━━━━━━━━━━━━━━━\u001b[0m\u001b[37m\u001b[0m \u001b[1m10s\u001b[0m 183ms/step - accuracy: 0.9390 - loss: 0.1762 - val_accuracy: 0.9894 - val_loss: 0.0474\n",
      "Epoch 17/30\n",
      "\u001b[1m48/48\u001b[0m \u001b[32m━━━━━━━━━━━━━━━━━━━━\u001b[0m\u001b[37m\u001b[0m \u001b[1m10s\u001b[0m 182ms/step - accuracy: 0.9122 - loss: 0.2480 - val_accuracy: 0.9947 - val_loss: 0.0460\n",
      "Epoch 18/30\n",
      "\u001b[1m48/48\u001b[0m \u001b[32m━━━━━━━━━━━━━━━━━━━━\u001b[0m\u001b[37m\u001b[0m \u001b[1m10s\u001b[0m 187ms/step - accuracy: 0.9548 - loss: 0.1338 - val_accuracy: 0.9947 - val_loss: 0.0571\n",
      "Epoch 19/30\n",
      "\u001b[1m48/48\u001b[0m \u001b[32m━━━━━━━━━━━━━━━━━━━━\u001b[0m\u001b[37m\u001b[0m \u001b[1m10s\u001b[0m 182ms/step - accuracy: 0.9555 - loss: 0.1162 - val_accuracy: 0.9574 - val_loss: 0.0983\n",
      "Epoch 20/30\n",
      "\u001b[1m48/48\u001b[0m \u001b[32m━━━━━━━━━━━━━━━━━━━━\u001b[0m\u001b[37m\u001b[0m \u001b[1m10s\u001b[0m 188ms/step - accuracy: 0.9667 - loss: 0.0994 - val_accuracy: 0.9947 - val_loss: 0.0282\n",
      "Epoch 21/30\n",
      "\u001b[1m48/48\u001b[0m \u001b[32m━━━━━━━━━━━━━━━━━━━━\u001b[0m\u001b[37m\u001b[0m \u001b[1m10s\u001b[0m 180ms/step - accuracy: 0.9706 - loss: 0.0869 - val_accuracy: 0.9734 - val_loss: 0.0492\n",
      "Epoch 22/30\n",
      "\u001b[1m48/48\u001b[0m \u001b[32m━━━━━━━━━━━━━━━━━━━━\u001b[0m\u001b[37m\u001b[0m \u001b[1m10s\u001b[0m 173ms/step - accuracy: 0.9863 - loss: 0.0542 - val_accuracy: 1.0000 - val_loss: 0.0124\n",
      "Epoch 23/30\n",
      "\u001b[1m48/48\u001b[0m \u001b[32m━━━━━━━━━━━━━━━━━━━━\u001b[0m\u001b[37m\u001b[0m \u001b[1m10s\u001b[0m 186ms/step - accuracy: 0.9797 - loss: 0.0735 - val_accuracy: 0.9681 - val_loss: 0.0560\n",
      "Epoch 24/30\n",
      "\u001b[1m48/48\u001b[0m \u001b[32m━━━━━━━━━━━━━━━━━━━━\u001b[0m\u001b[37m\u001b[0m \u001b[1m10s\u001b[0m 184ms/step - accuracy: 0.9815 - loss: 0.0484 - val_accuracy: 0.9628 - val_loss: 0.0694\n",
      "Epoch 25/30\n",
      "\u001b[1m48/48\u001b[0m \u001b[32m━━━━━━━━━━━━━━━━━━━━\u001b[0m\u001b[37m\u001b[0m \u001b[1m10s\u001b[0m 190ms/step - accuracy: 0.9828 - loss: 0.0641 - val_accuracy: 1.0000 - val_loss: 0.0071\n",
      "Epoch 26/30\n",
      "\u001b[1m48/48\u001b[0m \u001b[32m━━━━━━━━━━━━━━━━━━━━\u001b[0m\u001b[37m\u001b[0m \u001b[1m10s\u001b[0m 184ms/step - accuracy: 0.9828 - loss: 0.0450 - val_accuracy: 0.9947 - val_loss: 0.0185\n",
      "Epoch 27/30\n",
      "\u001b[1m48/48\u001b[0m \u001b[32m━━━━━━━━━━━━━━━━━━━━\u001b[0m\u001b[37m\u001b[0m \u001b[1m10s\u001b[0m 187ms/step - accuracy: 0.9852 - loss: 0.0455 - val_accuracy: 0.9947 - val_loss: 0.0106\n",
      "Epoch 28/30\n",
      "\u001b[1m48/48\u001b[0m \u001b[32m━━━━━━━━━━━━━━━━━━━━\u001b[0m\u001b[37m\u001b[0m \u001b[1m10s\u001b[0m 182ms/step - accuracy: 0.9664 - loss: 0.0882 - val_accuracy: 0.9947 - val_loss: 0.0229\n",
      "Epoch 29/30\n",
      "\u001b[1m48/48\u001b[0m \u001b[32m━━━━━━━━━━━━━━━━━━━━\u001b[0m\u001b[37m\u001b[0m \u001b[1m10s\u001b[0m 184ms/step - accuracy: 0.9804 - loss: 0.0663 - val_accuracy: 0.9947 - val_loss: 0.0128\n",
      "Epoch 30/30\n",
      "\u001b[1m48/48\u001b[0m \u001b[32m━━━━━━━━━━━━━━━━━━━━\u001b[0m\u001b[37m\u001b[0m \u001b[1m10s\u001b[0m 187ms/step - accuracy: 0.9869 - loss: 0.0438 - val_accuracy: 0.9947 - val_loss: 0.0071\n"
     ]
    }
   ],
   "source": [
    "history = model.fit(train_ds,\n",
    "                 validation_data=val_ds,batch_size=32,epochs=30,\n",
    "                    verbose=1 )"
   ]
  },
  {
   "cell_type": "code",
   "execution_count": 12,
   "id": "b7657880",
   "metadata": {
    "execution": {
     "iopub.execute_input": "2024-04-05T12:21:52.303854Z",
     "iopub.status.busy": "2024-04-05T12:21:52.303493Z",
     "iopub.status.idle": "2024-04-05T12:21:53.921134Z",
     "shell.execute_reply": "2024-04-05T12:21:53.920046Z"
    },
    "id": "MMkmRvtYNF32",
    "papermill": {
     "duration": 1.753177,
     "end_time": "2024-04-05T12:21:53.923504",
     "exception": false,
     "start_time": "2024-04-05T12:21:52.170327",
     "status": "completed"
    },
    "tags": []
   },
   "outputs": [
    {
     "name": "stdout",
     "output_type": "stream",
     "text": [
      "\u001b[1m6/6\u001b[0m \u001b[32m━━━━━━━━━━━━━━━━━━━━\u001b[0m\u001b[37m\u001b[0m \u001b[1m1s\u001b[0m 157ms/step\n"
     ]
    }
   ],
   "source": [
    "from tensorflow.keras.utils import to_categorical\n",
    "y_pred = model.predict(test_ds)\n",
    "y_pred2= to_categorical(np.argmax(y_pred, axis=1), 2)\n",
    "\n",
    "y_test= to_categorical(test_ds.labels, 2)\n",
    "\n",
    "# Using it in AUC\n",
    "y_pred1=(np.argmax(y_pred, axis=1))\n",
    "y_test1=(np.argmax(y_test, axis=1))"
   ]
  },
  {
   "cell_type": "code",
   "execution_count": 13,
   "id": "ec70dc2e",
   "metadata": {
    "execution": {
     "iopub.execute_input": "2024-04-05T12:21:54.190134Z",
     "iopub.status.busy": "2024-04-05T12:21:54.189678Z",
     "iopub.status.idle": "2024-04-05T12:21:54.194703Z",
     "shell.execute_reply": "2024-04-05T12:21:54.193819Z"
    },
    "id": "5T7AcO-qNF39",
    "papermill": {
     "duration": 0.140848,
     "end_time": "2024-04-05T12:21:54.196668",
     "exception": false,
     "start_time": "2024-04-05T12:21:54.055820",
     "status": "completed"
    },
    "tags": []
   },
   "outputs": [],
   "source": [
    "# Computing the Accuracy Score  : ((TP + TN) / float(TP + TN + FP + FN))\n",
    "def Accuracy(y_test , y_pred):\n",
    "    AccScore = accuracy_score(y_test, y_pred, normalize=True)\n",
    "    return AccScore"
   ]
  },
  {
   "cell_type": "code",
   "execution_count": 14,
   "id": "05232f2d",
   "metadata": {
    "execution": {
     "iopub.execute_input": "2024-04-05T12:21:54.462078Z",
     "iopub.status.busy": "2024-04-05T12:21:54.461333Z",
     "iopub.status.idle": "2024-04-05T12:21:54.466122Z",
     "shell.execute_reply": "2024-04-05T12:21:54.465192Z"
    },
    "id": "F4ybNB84NF3-",
    "papermill": {
     "duration": 0.138899,
     "end_time": "2024-04-05T12:21:54.468106",
     "exception": false,
     "start_time": "2024-04-05T12:21:54.329207",
     "status": "completed"
    },
    "tags": []
   },
   "outputs": [],
   "source": [
    "#Computing the Precision metric (Some times called Specificity): #(True Positives / float(True Positives + False Posivites))  \n",
    "def macro_precision(y_test , y_pred):\n",
    "    PrecisionScore = precision_score(y_test, y_pred, average='macro') \n",
    "    return PrecisionScore"
   ]
  },
  {
   "cell_type": "code",
   "execution_count": 15,
   "id": "bfba7aec",
   "metadata": {
    "execution": {
     "iopub.execute_input": "2024-04-05T12:21:54.730761Z",
     "iopub.status.busy": "2024-04-05T12:21:54.729933Z",
     "iopub.status.idle": "2024-04-05T12:21:54.734666Z",
     "shell.execute_reply": "2024-04-05T12:21:54.733776Z"
    },
    "id": "jGSq3v5gNF3_",
    "papermill": {
     "duration": 0.138275,
     "end_time": "2024-04-05T12:21:54.736498",
     "exception": false,
     "start_time": "2024-04-05T12:21:54.598223",
     "status": "completed"
    },
    "tags": []
   },
   "outputs": [],
   "source": [
    "#Computing the Recall Score : (Some times called Sensitivity) (TP / float(TP + FN))   1 / 1+2  \n",
    "def macro_recall(y_test , y_pred):\n",
    "    RecallScore = recall_score(y_test, y_pred, average='macro') \n",
    "    return  RecallScore"
   ]
  },
  {
   "cell_type": "code",
   "execution_count": 16,
   "id": "51d7aea6",
   "metadata": {
    "execution": {
     "iopub.execute_input": "2024-04-05T12:21:54.999393Z",
     "iopub.status.busy": "2024-04-05T12:21:54.998733Z",
     "iopub.status.idle": "2024-04-05T12:21:55.003567Z",
     "shell.execute_reply": "2024-04-05T12:21:55.002651Z"
    },
    "id": "zbng8rzRNF3_",
    "papermill": {
     "duration": 0.138691,
     "end_time": "2024-04-05T12:21:55.005453",
     "exception": false,
     "start_time": "2024-04-05T12:21:54.866762",
     "status": "completed"
    },
    "tags": []
   },
   "outputs": [],
   "source": [
    "#Computing the F1 Score  : 2 * (precision * recall) / (precision + recall)\n",
    "def macro_F1Score(y_test , y_pred):\n",
    "    F1Score = f1_score(y_test, y_pred, average='macro') \n",
    "    return F1Score"
   ]
  },
  {
   "cell_type": "code",
   "execution_count": 17,
   "id": "d8d95671",
   "metadata": {
    "execution": {
     "iopub.execute_input": "2024-04-05T12:21:55.272547Z",
     "iopub.status.busy": "2024-04-05T12:21:55.272186Z",
     "iopub.status.idle": "2024-04-05T12:21:55.279027Z",
     "shell.execute_reply": "2024-04-05T12:21:55.278120Z"
    },
    "id": "SWbpYe9ENF4A",
    "papermill": {
     "duration": 0.143732,
     "end_time": "2024-04-05T12:21:55.280996",
     "exception": false,
     "start_time": "2024-04-05T12:21:55.137264",
     "status": "completed"
    },
    "tags": []
   },
   "outputs": [],
   "source": [
    "from sklearn.metrics import roc_auc_score\n",
    "\n",
    "# Calculating Area under the curve\n",
    "def AUC(actual_class, pred_class, average = \"micro\"):\n",
    "    \n",
    "    #Making a set of all the unique classes \n",
    "    unique_class = set(actual_class)\n",
    "    roc_auc_dict = {}\n",
    "    for per_class in unique_class:\n",
    "        \n",
    "        #Making a list of all the classes except the current class \n",
    "        other_class = [x for x in unique_class if x != per_class]\n",
    "\n",
    "        #Making the current class with label 1 and all other classes as a label 0\n",
    "        new_actual_class = [0 if x in other_class else 1 for x in actual_class]\n",
    "        new_pred_class = [0 if x in other_class else 1 for x in pred_class]\n",
    "\n",
    "        # Calculating the roc_auc_score\n",
    "        roc_auc = roc_auc_score(new_actual_class, new_pred_class, average = average)\n",
    "        roc_auc_dict[per_class] = roc_auc\n",
    "\n",
    "    return roc_auc_dict"
   ]
  },
  {
   "cell_type": "code",
   "execution_count": 18,
   "id": "222fd401",
   "metadata": {
    "execution": {
     "iopub.execute_input": "2024-04-05T12:21:55.546655Z",
     "iopub.status.busy": "2024-04-05T12:21:55.546287Z",
     "iopub.status.idle": "2024-04-05T12:21:56.949628Z",
     "shell.execute_reply": "2024-04-05T12:21:56.948562Z"
    },
    "id": "OIJ_0Cd3NF4B",
    "outputId": "1f5d13ea-6730-4838-d974-3e03fa9452fc",
    "papermill": {
     "duration": 1.5378,
     "end_time": "2024-04-05T12:21:56.951572",
     "exception": false,
     "start_time": "2024-04-05T12:21:55.413772",
     "status": "completed"
    },
    "tags": []
   },
   "outputs": [
    {
     "name": "stdout",
     "output_type": "stream",
     "text": [
      "***** Model Evaluations Details ******** \n",
      "\n",
      "\u001b[1m6/6\u001b[0m \u001b[32m━━━━━━━━━━━━━━━━━━━━\u001b[0m\u001b[37m\u001b[0m \u001b[1m1s\u001b[0m 188ms/step - accuracy: 1.0000 - loss: 0.0082\n",
      "Test loss, Test acc :  [0.00851236842572689, 1.0]\n",
      "******************************\n",
      "Accurayc  :  1.0\n",
      "******************************\n",
      "Precision Score is :  1.0\n",
      "******************************\n",
      "Recall Scores is :  1.0\n",
      "******************************\n",
      "F1 Score is :  1.0\n",
      "******************************\n",
      "AUC Score is :  {0: 1.0, 1: 1.0}\n"
     ]
    }
   ],
   "source": [
    "print(\"***** Model Evaluations Details ******** \\n\")\n",
    "print(\"Test loss, Test acc : \" , model.evaluate(test_ds)) \n",
    "print(\"******************************\")\n",
    "print(\"Accurayc  : \" , Accuracy(test_ds.classes , y_pred1)) \n",
    "print(\"******************************\")\n",
    "print(\"Precision Score is : \" , macro_precision(test_ds.classes , y_pred1))\n",
    "print(\"******************************\")\n",
    "print(\"Recall Scores is : \" , macro_recall(test_ds.classes , y_pred1))\n",
    "print(\"******************************\")\n",
    "print('F1 Score is : ', macro_F1Score(test_ds.classes , y_pred1))\n",
    "print(\"******************************\")\n",
    "print('AUC Score is : ' , AUC(test_ds.classes, y_pred1))"
   ]
  },
  {
   "cell_type": "code",
   "execution_count": 19,
   "id": "4f340925",
   "metadata": {
    "execution": {
     "iopub.execute_input": "2024-04-05T12:21:57.218778Z",
     "iopub.status.busy": "2024-04-05T12:21:57.218381Z",
     "iopub.status.idle": "2024-04-05T12:21:57.222811Z",
     "shell.execute_reply": "2024-04-05T12:21:57.221929Z"
    },
    "papermill": {
     "duration": 0.140422,
     "end_time": "2024-04-05T12:21:57.224698",
     "exception": false,
     "start_time": "2024-04-05T12:21:57.084276",
     "status": "completed"
    },
    "tags": []
   },
   "outputs": [],
   "source": [
    "labels=[\"Class 0\",\"Class 1\"]"
   ]
  },
  {
   "cell_type": "code",
   "execution_count": 20,
   "id": "8e6dfa82",
   "metadata": {
    "execution": {
     "iopub.execute_input": "2024-04-05T12:21:57.492304Z",
     "iopub.status.busy": "2024-04-05T12:21:57.491267Z",
     "iopub.status.idle": "2024-04-05T12:21:57.504850Z",
     "shell.execute_reply": "2024-04-05T12:21:57.503850Z"
    },
    "papermill": {
     "duration": 0.148255,
     "end_time": "2024-04-05T12:21:57.506870",
     "exception": false,
     "start_time": "2024-04-05T12:21:57.358615",
     "status": "completed"
    },
    "tags": []
   },
   "outputs": [
    {
     "name": "stdout",
     "output_type": "stream",
     "text": [
      "              precision    recall  f1-score   support\n",
      "\n",
      "     Class 0       1.00      1.00      1.00        96\n",
      "     Class 1       1.00      1.00      1.00        96\n",
      "\n",
      "    accuracy                           1.00       192\n",
      "   macro avg       1.00      1.00      1.00       192\n",
      "weighted avg       1.00      1.00      1.00       192\n",
      "\n"
     ]
    }
   ],
   "source": [
    "print(classification_report(test_ds.classes, y_pred1,target_names=labels))\n"
   ]
  },
  {
   "cell_type": "code",
   "execution_count": 21,
   "id": "1f8c4575",
   "metadata": {
    "execution": {
     "iopub.execute_input": "2024-04-05T12:21:57.775925Z",
     "iopub.status.busy": "2024-04-05T12:21:57.775570Z",
     "iopub.status.idle": "2024-04-05T12:21:57.783592Z",
     "shell.execute_reply": "2024-04-05T12:21:57.782702Z"
    },
    "papermill": {
     "duration": 0.142495,
     "end_time": "2024-04-05T12:21:57.785677",
     "exception": false,
     "start_time": "2024-04-05T12:21:57.643182",
     "status": "completed"
    },
    "tags": []
   },
   "outputs": [
    {
     "data": {
      "text/plain": [
       "RcParams({'axes.axisbelow': True,\n",
       "          'axes.edgecolor': '.8',\n",
       "          'axes.facecolor': 'white',\n",
       "          'axes.grid': True,\n",
       "          'axes.labelcolor': '.15',\n",
       "          'axes.linewidth': 1.0,\n",
       "          'figure.facecolor': 'white',\n",
       "          'font.family': ['sans-serif'],\n",
       "          'font.sans-serif': ['Arial',\n",
       "                              'Liberation Sans',\n",
       "                              'DejaVu Sans',\n",
       "                              'Bitstream Vera Sans',\n",
       "                              'sans-serif'],\n",
       "          'grid.color': '.8',\n",
       "          'grid.linestyle': '-',\n",
       "          'image.cmap': 'Greys',\n",
       "          'legend.frameon': False,\n",
       "          'legend.numpoints': 1,\n",
       "          'legend.scatterpoints': 1,\n",
       "          'lines.solid_capstyle': <CapStyle.round: 'round'>,\n",
       "          'text.color': '.15',\n",
       "          'xtick.color': '.15',\n",
       "          'xtick.direction': 'out',\n",
       "          'xtick.major.size': 0.0,\n",
       "          'xtick.minor.size': 0.0,\n",
       "          'ytick.color': '.15',\n",
       "          'ytick.direction': 'out',\n",
       "          'ytick.major.size': 0.0,\n",
       "          'ytick.minor.size': 0.0})"
      ]
     },
     "execution_count": 21,
     "metadata": {},
     "output_type": "execute_result"
    }
   ],
   "source": [
    "import seaborn as sns\n",
    "import matplotlib.pyplot as plt\n",
    "sns.set_style('whitegrid')\n",
    "plt.style.library['seaborn-whitegrid']"
   ]
  },
  {
   "cell_type": "code",
   "execution_count": 22,
   "id": "11f3d5db",
   "metadata": {
    "execution": {
     "iopub.execute_input": "2024-04-05T12:21:58.050661Z",
     "iopub.status.busy": "2024-04-05T12:21:58.050310Z",
     "iopub.status.idle": "2024-04-05T12:21:58.065402Z",
     "shell.execute_reply": "2024-04-05T12:21:58.064474Z"
    },
    "id": "V93RKPJKNF4C",
    "papermill": {
     "duration": 0.149975,
     "end_time": "2024-04-05T12:21:58.067432",
     "exception": false,
     "start_time": "2024-04-05T12:21:57.917457",
     "status": "completed"
    },
    "tags": []
   },
   "outputs": [],
   "source": [
    "def plot_roc_curve(y_test,y_pred):\n",
    "    n_classes=2\n",
    "    fpr = dict()\n",
    "    tpr = dict()\n",
    "    roc_auc = dict()\n",
    "    for i in range(n_classes):\n",
    "        fpr[i], tpr[i], _ = roc_curve(y_test[:, i], y_pred[:, i])\n",
    "        roc_auc[i] = auc(fpr[i], tpr[i])\n",
    "    fpr[\"micro\"], tpr[\"micro\"], _ = roc_curve(y_test.ravel(), y_pred.ravel())\n",
    "    roc_auc[\"micro\"] = auc(fpr[\"micro\"], tpr[\"micro\"])\n",
    "    lw=2\n",
    "    all_fpr = np.unique(np.concatenate([fpr[i] for i in range(n_classes)]))\n",
    "\n",
    "    mean_tpr = np.zeros_like(all_fpr)\n",
    "    for i in range(n_classes):\n",
    "        mean_tpr += np.interp(all_fpr, fpr[i], tpr[i])\n",
    "\n",
    "    mean_tpr /= n_classes\n",
    "\n",
    "    fpr[\"macro\"] = all_fpr\n",
    "    tpr[\"macro\"] = mean_tpr\n",
    "    roc_auc[\"macro\"] = auc(fpr[\"macro\"], tpr[\"macro\"])\n",
    "\n",
    "# Plot all ROC curves\n",
    "    plt.figure(figsize=(10, 10))\n",
    "    plt.plot(fpr[\"micro\"],\n",
    "    tpr[\"micro\"],\n",
    "    label=\"micro-average ROC curve (area = {0:0.2f})\".format(roc_auc[\"micro\"]),\n",
    "    color=\"deeppink\",\n",
    "    linestyle=\":\",\n",
    "    linewidth=4,)\n",
    "\n",
    "    plt.plot(fpr[\"macro\"],\n",
    "    tpr[\"macro\"],\n",
    "    label=\"macro-average ROC curve (area = {0:0.2f})\".format(roc_auc[\"macro\"]),\n",
    "    color=\"navy\",\n",
    "    linestyle=\":\",\n",
    "    linewidth=4,\n",
    ")\n",
    "    colors = cycle([\"aqua\", \"darkorange\", \"cornflowerblue\",'#9e9e9e','#b19a7e','#CD5C5C','#DFFF00',\n",
    "                   '#DE3163','#ff4d4d','#CCCCFF','#800080','#4F1D25','#ccffcc','#ff0040'\n",
    "                   ,'#4000ff','#0080ff','#ff8000','#666600','#b37700','#00b3b3','#003300','#FFC300','#A6F7BD',\n",
    "                   '#A6BDF7','#CAA6F7','#F7A6AC','#ADF7A6','#F5F7A6','#F7CCA6','#EE4949',\n",
    "                    '#DEA41F','#334471','#33716F','#343371','#772CE3','#B8BF20','#666B01','#0B6B01',\n",
    "                    '#F4B708','#179690'\n",
    "                   ])\n",
    "\n",
    "    for i, color in zip(range(n_classes), colors):\n",
    "        plt.plot(\n",
    "           fpr[i],\n",
    "           tpr[i],\n",
    "           color=color,\n",
    "           lw=lw,\n",
    "        label=\"ROC curve of class {0} (area = {1:0.2f})\".format(i, roc_auc[i]),\n",
    "    )\n",
    "\n",
    "    plt.plot([0, 1], [0, 1], \"k--\", lw=lw)\n",
    "    plt.xlim([0.0, 1.0])\n",
    "    plt.ylim([0.0, 1.05])\n",
    "    plt.xlabel(\"False Positive Rate\")\n",
    "    plt.ylabel(\"True Positive Rate\")\n",
    "    plt.title(\"Roc Curve\")\n",
    "    plt.legend(bbox_to_anchor=(1, 1))\n",
    "    plt.show()"
   ]
  },
  {
   "cell_type": "code",
   "execution_count": 23,
   "id": "46d21e95",
   "metadata": {
    "execution": {
     "iopub.execute_input": "2024-04-05T12:21:58.336792Z",
     "iopub.status.busy": "2024-04-05T12:21:58.336120Z",
     "iopub.status.idle": "2024-04-05T12:21:58.342434Z",
     "shell.execute_reply": "2024-04-05T12:21:58.341497Z"
    },
    "id": "DEOkUcuvNF4C",
    "papermill": {
     "duration": 0.143287,
     "end_time": "2024-04-05T12:21:58.344388",
     "exception": false,
     "start_time": "2024-04-05T12:21:58.201101",
     "status": "completed"
    },
    "tags": []
   },
   "outputs": [],
   "source": [
    "def Acc_Loss_Graph(history):\n",
    "    # converting hsitory to dataframe\n",
    "    pd.DataFrame(history.history)\n",
    "\n",
    "    pd.DataFrame(history.history)[['accuracy', 'val_accuracy']].plot()\n",
    "    plt.title('Training Accuracy')\n",
    "    plt.xlabel('Epochs')\n",
    "    plt.ylabel('accuracy')\n",
    "\n",
    "    pd.DataFrame(history.history)[['loss', 'val_loss']].plot()\n",
    "    plt.title('Model Loss')\n",
    "    plt.xlabel('Epochs')\n",
    "    plt.ylabel('Loss')"
   ]
  },
  {
   "cell_type": "code",
   "execution_count": 24,
   "id": "e79cd614",
   "metadata": {
    "execution": {
     "iopub.execute_input": "2024-04-05T12:21:58.612769Z",
     "iopub.status.busy": "2024-04-05T12:21:58.612434Z",
     "iopub.status.idle": "2024-04-05T12:21:58.616741Z",
     "shell.execute_reply": "2024-04-05T12:21:58.615844Z"
    },
    "papermill": {
     "duration": 0.140229,
     "end_time": "2024-04-05T12:21:58.618703",
     "exception": false,
     "start_time": "2024-04-05T12:21:58.478474",
     "status": "completed"
    },
    "tags": []
   },
   "outputs": [],
   "source": [
    "labels=np.array([\"Class 0\",\"Class 1\"])"
   ]
  },
  {
   "cell_type": "code",
   "execution_count": 25,
   "id": "89f2a457",
   "metadata": {
    "execution": {
     "iopub.execute_input": "2024-04-05T12:21:58.885740Z",
     "iopub.status.busy": "2024-04-05T12:21:58.885327Z",
     "iopub.status.idle": "2024-04-05T12:21:58.890539Z",
     "shell.execute_reply": "2024-04-05T12:21:58.889668Z"
    },
    "id": "lGA3LmwQNF4D",
    "papermill": {
     "duration": 0.141376,
     "end_time": "2024-04-05T12:21:58.892462",
     "exception": false,
     "start_time": "2024-04-05T12:21:58.751086",
     "status": "completed"
    },
    "tags": []
   },
   "outputs": [],
   "source": [
    "def Confusion_Matrix(y_test , y_pred):\n",
    "    fig, ax = plt.subplots(figsize=(5,5))\n",
    "\n",
    "    #cnf_matrix = confusion_matrix()\n",
    "    disp = ConfusionMatrixDisplay.from_predictions(y_test, y_pred,display_labels=labels,ax=ax,xticks_rotation='vertical'\n",
    "                                                  ,cmap=\"Blues\")"
   ]
  },
  {
   "cell_type": "markdown",
   "id": "151464f0",
   "metadata": {
    "id": "-F5dvUt-NF4E",
    "papermill": {
     "duration": 0.132243,
     "end_time": "2024-04-05T12:21:59.157057",
     "exception": false,
     "start_time": "2024-04-05T12:21:59.024814",
     "status": "completed"
    },
    "tags": []
   },
   "source": []
  },
  {
   "cell_type": "code",
   "execution_count": 26,
   "id": "f05a60c5",
   "metadata": {
    "execution": {
     "iopub.execute_input": "2024-04-05T12:21:59.425453Z",
     "iopub.status.busy": "2024-04-05T12:21:59.425063Z",
     "iopub.status.idle": "2024-04-05T12:22:00.319704Z",
     "shell.execute_reply": "2024-04-05T12:22:00.318825Z"
    },
    "id": "xUfvuLXMNF4H",
    "outputId": "4035144f-3ba6-4f6e-c668-9492e1f00f8f",
    "papermill": {
     "duration": 1.031956,
     "end_time": "2024-04-05T12:22:00.321828",
     "exception": false,
     "start_time": "2024-04-05T12:21:59.289872",
     "status": "completed"
    },
    "tags": []
   },
   "outputs": [
    {
     "data": {
      "image/png": "[encoded data removed]",
      "text/plain": [
       "<Figure size 640x480 with 1 Axes>"
      ]
     },
     "metadata": {},
     "output_type": "display_data"
    },
    {
     "data": {
      "image/png": "[encoded data removed]",
      "text/plain": [
       "<Figure size 640x480 with 1 Axes>"
      ]
     },
     "metadata": {},
     "output_type": "display_data"
    }
   ],
   "source": [
    "Acc_Loss_Graph(history)"
   ]
  },
  {
   "cell_type": "code",
   "execution_count": 27,
   "id": "c554ff7e",
   "metadata": {
    "execution": {
     "iopub.execute_input": "2024-04-05T12:22:00.592474Z",
     "iopub.status.busy": "2024-04-05T12:22:00.592072Z",
     "iopub.status.idle": "2024-04-05T12:22:01.033135Z",
     "shell.execute_reply": "2024-04-05T12:22:01.032220Z"
    },
    "id": "dsXTjrCQNF4I",
    "outputId": "90859e23-d618-45f8-f939-4e44e2a0d93c",
    "papermill": {
     "duration": 0.578762,
     "end_time": "2024-04-05T12:22:01.035280",
     "exception": false,
     "start_time": "2024-04-05T12:22:00.456518",
     "status": "completed"
    },
    "tags": []
   },
   "outputs": [
    {
     "data": {
      "image/png": "[encoded data removed]",
      "text/plain": [
       "<Figure size 1000x1000 with 1 Axes>"
      ]
     },
     "metadata": {},
     "output_type": "display_data"
    }
   ],
   "source": [
    "plot_roc_curve(y_test,y_pred2)"
   ]
  },
  {
   "cell_type": "code",
   "execution_count": 28,
   "id": "4938efd5",
   "metadata": {
    "execution": {
     "iopub.execute_input": "2024-04-05T12:22:01.309011Z",
     "iopub.status.busy": "2024-04-05T12:22:01.308669Z",
     "iopub.status.idle": "2024-04-05T12:22:01.618180Z",
     "shell.execute_reply": "2024-04-05T12:22:01.617256Z"
    },
    "id": "Sv_qoovZNF4I",
    "outputId": "1ae0ce96-b37c-43b4-b3ca-33d66b1ae904",
    "papermill": {
     "duration": 0.449475,
     "end_time": "2024-04-05T12:22:01.620294",
     "exception": false,
     "start_time": "2024-04-05T12:22:01.170819",
     "status": "completed"
    },
    "tags": []
   },
   "outputs": [
    {
     "data": {
      "image/png": "[encoded data removed]",
      "text/plain": [
       "<Figure size 500x500 with 2 Axes>"
      ]
     },
     "metadata": {},
     "output_type": "display_data"
    }
   ],
   "source": [
    "Confusion_Matrix(test_ds.classes , y_pred1)"
   ]
  },
  {
   "cell_type": "code",
   "execution_count": 29,
   "id": "3085b0be",
   "metadata": {
    "execution": {
     "iopub.execute_input": "2024-04-05T12:22:01.894061Z",
     "iopub.status.busy": "2024-04-05T12:22:01.893670Z",
     "iopub.status.idle": "2024-04-05T12:22:01.901197Z",
     "shell.execute_reply": "2024-04-05T12:22:01.900279Z"
    },
    "papermill": {
     "duration": 0.148795,
     "end_time": "2024-04-05T12:22:01.903589",
     "exception": false,
     "start_time": "2024-04-05T12:22:01.754794",
     "status": "completed"
    },
    "tags": []
   },
   "outputs": [],
   "source": [
    "target_name={0:\"Class 0\",1:\"Class 1\",2:\"Class 2\",3:\"Class 3\",4:\"Class 4\",5:\"Class 5\",6:\"Class 6\",7:\"Class 7\",8:\"Class 8\",9:\"Class 9\",\n",
    "             10:\"Class 10\",11:\"Class 11\",12:\"Class 12\",\n",
    "               13:\"Class 13\",14:\"Class 14\",15:\"Class 15\",16:\"Class 16\",17:\"Class 17\",18:\"Class 18\",19:\"Class 19\",20:\"Class 20\",21:\"Class 21\",\n",
    "             22:\"Class 22\",23:\"Class 23\",24:\"Class 24\",25:\"Class 25\",26:\"Class 26\",27:\"Class 27\",28:\"Class 28\",29:\"Class 29\",30:\"Class 30\",31:\"Class 31\",32:\"Class 32\",33:\"Class 33\",34:\"Class 34\"\n",
    "                ,35:\"Class 35\",36:\"Class 36\",37:\"Class 37\"}"
   ]
  },
  {
   "cell_type": "code",
   "execution_count": 30,
   "id": "61a80b54",
   "metadata": {
    "execution": {
     "iopub.execute_input": "2024-04-05T12:22:02.202631Z",
     "iopub.status.busy": "2024-04-05T12:22:02.201817Z",
     "iopub.status.idle": "2024-04-05T12:22:02.797061Z",
     "shell.execute_reply": "2024-04-05T12:22:02.796064Z"
    },
    "papermill": {
     "duration": 0.755037,
     "end_time": "2024-04-05T12:22:02.799740",
     "exception": false,
     "start_time": "2024-04-05T12:22:02.044703",
     "status": "completed"
    },
    "tags": []
   },
   "outputs": [],
   "source": [
    "from sklearn.manifold import TSNE\n",
    "tsne1 = TSNE(random_state = 42, n_components=2, verbose=0, perplexity=40, n_iter=300).fit_transform(y_pred)"
   ]
  },
  {
   "cell_type": "code",
   "execution_count": 31,
   "id": "87c20eee",
   "metadata": {
    "execution": {
     "iopub.execute_input": "2024-04-05T12:22:03.131017Z",
     "iopub.status.busy": "2024-04-05T12:22:03.130640Z",
     "iopub.status.idle": "2024-04-05T12:22:03.143648Z",
     "shell.execute_reply": "2024-04-05T12:22:03.142733Z"
    },
    "papermill": {
     "duration": 0.152461,
     "end_time": "2024-04-05T12:22:03.145735",
     "exception": false,
     "start_time": "2024-04-05T12:22:02.993274",
     "status": "completed"
    },
    "tags": []
   },
   "outputs": [],
   "source": [
    "# create dataframe\n",
    "cps_df = pd.DataFrame(columns=['CP1', 'CP2', 'target'],\n",
    "                       data=np.column_stack((tsne1, \n",
    "                                            y_test1)))# cast targets column to int\n",
    "cps_df.loc[:, 'target'] = cps_df.target.astype(int)\n",
    "cps_df.loc[:, 'target'] = cps_df.target.map(target_name)"
   ]
  },
  {
   "cell_type": "code",
   "execution_count": 32,
   "id": "535daa68",
   "metadata": {
    "execution": {
     "iopub.execute_input": "2024-04-05T12:22:03.419381Z",
     "iopub.status.busy": "2024-04-05T12:22:03.418967Z",
     "iopub.status.idle": "2024-04-05T12:22:04.173860Z",
     "shell.execute_reply": "2024-04-05T12:22:04.172926Z"
    },
    "papermill": {
     "duration": 0.895001,
     "end_time": "2024-04-05T12:22:04.175998",
     "exception": false,
     "start_time": "2024-04-05T12:22:03.280997",
     "status": "completed"
    },
    "tags": []
   },
   "outputs": [
    {
     "data": {
      "text/plain": [
       "<seaborn.axisgrid.FacetGrid at 0x7822b07a7940>"
      ]
     },
     "execution_count": 32,
     "metadata": {},
     "output_type": "execute_result"
    },
    {
     "data": {
      "image/png": "[encoded data removed]",
      "text/plain": [
       "<Figure size 899.75x800 with 1 Axes>"
      ]
     },
     "metadata": {},
     "output_type": "display_data"
    }
   ],
   "source": [
    "import seaborn as sns\n",
    "d = {'color': [\"aqua\", \"darkorange\", \"cornflowerblue\",'#9e9e9e','#b19a7e','#CD5C5C','#DFFF00',\n",
    "                   '#DE3163','#ff4d4d','#CCCCFF','#800080','#4F1D25','#ccffcc','#ff0040'\n",
    "                   ,'#4000ff','#0080ff','#ff8000','#666600','#b37700','#00b3b3','#003300','#FFC300','#A6F7BD',\n",
    "                   '#A6BDF7','#CAA6F7','#F7A6AC','#ADF7A6','#F5F7A6','#F7CCA6','#EE4949',\n",
    "                    '#DEA41F','#334471','#33716F','#343371','#772CE3','#B8BF20','#666B01','#0B6B01',\n",
    "                    '#F4B708','#179690'] }\n",
    "grid = sns.FacetGrid(cps_df, hue=\"target\",hue_kws=d, height=8)\n",
    "grid.map(plt.scatter, 'CP1', 'CP2').add_legend()"
   ]
  },
  {
   "cell_type": "code",
   "execution_count": 33,
   "id": "8574dbc9",
   "metadata": {
    "execution": {
     "iopub.execute_input": "2024-04-05T12:22:04.451653Z",
     "iopub.status.busy": "2024-04-05T12:22:04.450910Z",
     "iopub.status.idle": "2024-04-05T12:22:04.497776Z",
     "shell.execute_reply": "2024-04-05T12:22:04.496750Z"
    },
    "papermill": {
     "duration": 0.188032,
     "end_time": "2024-04-05T12:22:04.500022",
     "exception": false,
     "start_time": "2024-04-05T12:22:04.311990",
     "status": "completed"
    },
    "tags": []
   },
   "outputs": [],
   "source": [
    "model.save_weights('/kaggle/working/model1.weights.h5')"
   ]
  }
 ],
 "metadata": {
  "kaggle": {
   "accelerator": "gpu",
   "dataSources": [
    {
     "datasetId": 1254197,
     "sourceId": 2091656,
     "sourceType": "datasetVersion"
    }
   ],
   "isGpuEnabled": true,
   "isInternetEnabled": true,
   "language": "python",
   "sourceType": "notebook"
  },
  "kernelspec": {
   "display_name": "Python 3",
   "language": "python",
   "name": "python3"
  },
  "language_info": {
   "codemirror_mode": {
    "name": "ipython",
    "version": 3
   },
   "file_extension": ".py",
   "mimetype": "text/x-python",
   "name": "python",
   "nbconvert_exporter": "python",
   "pygments_lexer": "ipython3",
   "version": "3.10.13"
  },
  "papermill": {
   "default_parameters": {},
   "duration": 395.454015,
   "end_time": "2024-04-05T12:22:07.281056",
   "environment_variables": {},
   "exception": null,
   "input_path": "__notebook__.ipynb",
   "output_path": "__notebook__.ipynb",
   "parameters": {},
   "start_time": "2024-04-05T12:15:31.827041",
   "version": "2.4.0"
  }
 },
 "nbformat": 4,
 "nbformat_minor": 5
}
