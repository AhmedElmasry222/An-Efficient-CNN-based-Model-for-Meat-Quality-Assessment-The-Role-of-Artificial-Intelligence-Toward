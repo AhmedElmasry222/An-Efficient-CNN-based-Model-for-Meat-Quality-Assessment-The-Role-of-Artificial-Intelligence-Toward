{
 "cells": [
  {
   "cell_type": "code",
   "execution_count": 1,
   "id": "a1049c2b",
   "metadata": {
    "execution": {
     "iopub.execute_input": "2024-04-03T20:57:09.157248Z",
     "iopub.status.busy": "2024-04-03T20:57:09.156895Z",
     "iopub.status.idle": "2024-04-03T20:57:24.051486Z",
     "shell.execute_reply": "2024-04-03T20:57:24.050349Z"
    },
    "id": "zvP8pw6FhmeM",
    "outputId": "38657371-b3d9-4aee-9706-0284f2708292",
    "papermill": {
     "duration": 14.909855,
     "end_time": "2024-04-03T20:57:24.054249",
     "exception": false,
     "start_time": "2024-04-03T20:57:09.144394",
     "status": "completed"
    },
    "tags": []
   },
   "outputs": [
    {
     "name": "stderr",
     "output_type": "stream",
     "text": [
      "2024-04-03 20:57:10.992261: E external/local_xla/xla/stream_executor/cuda/cuda_dnn.cc:9261] Unable to register cuDNN factory: Attempting to register factory for plugin cuDNN when one has already been registered\n",
      "2024-04-03 20:57:10.992369: E external/local_xla/xla/stream_executor/cuda/cuda_fft.cc:607] Unable to register cuFFT factory: Attempting to register factory for plugin cuFFT when one has already been registered\n",
      "2024-04-03 20:57:11.121882: E external/local_xla/xla/stream_executor/cuda/cuda_blas.cc:1515] Unable to register cuBLAS factory: Attempting to register factory for plugin cuBLAS when one has already been registered\n"
     ]
    }
   ],
   "source": [
    "import numpy as np\n",
    "import tensorflow as tf\n",
    "from tensorflow import keras\n",
    "from tensorflow.keras import layers\n",
    "import tensorflow as tf\n",
    "import matplotlib.pyplot as plt\n",
    "from tensorflow.keras.preprocessing.image import ImageDataGenerator\n",
    "from PIL import Image\n",
    "import matplotlib.pyplot as plt\n",
    "import pandas as pd\n",
    "import numpy as np\n",
    "import seaborn as sb\n",
    "import os\n",
    "import warnings\n",
    "warnings.filterwarnings('ignore')\n",
    "import tensorflow as tf\n",
    "import glob as gb\n",
    "import cv2\n",
    "import keras\n",
    "import io\n",
    "import typing\n",
    "from keras import backend\n",
    "import math\n",
    "from keras.models import Sequential, Model,load_model\n",
    "from keras.callbacks import EarlyStopping,ModelCheckpoint\n",
    "from keras.layers import Dropout, Input, Add, Dense, Activation, ZeroPadding2D, BatchNormalization, Flatten, Conv2D, AveragePooling2D, MaxPooling2D, GlobalMaxPooling2D,MaxPool2D\n",
    "from keras.preprocessing import image\n",
    "from keras.initializers import glorot_uniform\n",
    "from sklearn.metrics import classification_report\n",
    "\n",
    "from sklearn.metrics import accuracy_score\n",
    "from sklearn.metrics import precision_score\n",
    "from sklearn.metrics import recall_score\n",
    "from sklearn.metrics import f1_score\n",
    "from sklearn.metrics import roc_auc_score\n",
    "\n",
    "\n",
    "import matplotlib.pyplot as plt \n",
    "from sklearn.preprocessing import LabelBinarizer\n",
    "from sklearn.metrics import roc_curve, auc, roc_auc_score\n",
    "from itertools import cycle\n",
    "import itertools \n",
    "\n",
    "#Model Graphs\n",
    "from sklearn.metrics import confusion_matrix\n",
    "from sklearn.metrics import ConfusionMatrixDisplay\n",
    "\n",
    "\n",
    "from tensorflow.keras.layers import Input, Conv2D, BatchNormalization, Dense\n",
    "from tensorflow.keras.layers import AvgPool2D, GlobalAveragePooling2D, MaxPool2D\n",
    "from tensorflow.keras.models import Model\n",
    "from tensorflow.keras.layers import ReLU, concatenate\n",
    "import tensorflow.keras.backend as K\n",
    "from tensorflow.keras import layers"
   ]
  },
  {
   "cell_type": "code",
   "execution_count": 2,
   "id": "e2fc9a87",
   "metadata": {
    "execution": {
     "iopub.execute_input": "2024-04-03T20:57:24.077918Z",
     "iopub.status.busy": "2024-04-03T20:57:24.077047Z",
     "iopub.status.idle": "2024-04-03T20:57:39.128383Z",
     "shell.execute_reply": "2024-04-03T20:57:39.127363Z"
    },
    "id": "nivPNlXnNF3S",
    "outputId": "0cfaffbf-4ac7-451a-c6ac-32a4de7da851",
    "papermill": {
     "duration": 15.065724,
     "end_time": "2024-04-03T20:57:39.130891",
     "exception": false,
     "start_time": "2024-04-03T20:57:24.065167",
     "status": "completed"
    },
    "tags": []
   },
   "outputs": [
    {
     "name": "stdout",
     "output_type": "stream",
     "text": [
      "Collecting split-folders\r\n",
      "  Downloading split_folders-0.5.1-py3-none-any.whl.metadata (6.2 kB)\r\n",
      "Downloading split_folders-0.5.1-py3-none-any.whl (8.4 kB)\r\n",
      "Installing collected packages: split-folders\r\n",
      "Successfully installed split-folders-0.5.1\r\n"
     ]
    }
   ],
   "source": [
    "!pip install split-folders"
   ]
  },
  {
   "cell_type": "code",
   "execution_count": 3,
   "id": "1b836db2",
   "metadata": {
    "execution": {
     "iopub.execute_input": "2024-04-03T20:57:39.155533Z",
     "iopub.status.busy": "2024-04-03T20:57:39.154827Z",
     "iopub.status.idle": "2024-04-03T20:57:50.882933Z",
     "shell.execute_reply": "2024-04-03T20:57:50.881951Z"
    },
    "id": "h6EIyFq8NF3Y",
    "outputId": "0a1f7851-271d-4c2e-9a9e-21483c07b816",
    "papermill": {
     "duration": 11.742993,
     "end_time": "2024-04-03T20:57:50.885110",
     "exception": false,
     "start_time": "2024-04-03T20:57:39.142117",
     "status": "completed"
    },
    "tags": []
   },
   "outputs": [
    {
     "name": "stderr",
     "output_type": "stream",
     "text": [
      "Copying files: 1896 files [00:11, 162.12 files/s]\n"
     ]
    }
   ],
   "source": [
    "import splitfolders\n",
    "\n",
    "# Split with a ratio.\n",
    "# To only split into training and validation set, set a tuple to `ratio`, i.e, `(.8, .2)`.\n",
    "splitfolders.ratio(\"/kaggle/input/meat-quality-assessment-based-on-deep-learning/\", output=\"./new\",\n",
    "    seed=1337, ratio=(.8, .1, .1), group_prefix=None, move=False)"
   ]
  },
  {
   "cell_type": "code",
   "execution_count": 4,
   "id": "4fb0ad6e",
   "metadata": {
    "execution": {
     "iopub.execute_input": "2024-04-03T20:57:50.929783Z",
     "iopub.status.busy": "2024-04-03T20:57:50.928690Z",
     "iopub.status.idle": "2024-04-03T20:57:50.933489Z",
     "shell.execute_reply": "2024-04-03T20:57:50.932709Z"
    },
    "id": "XZIDSMdwNF3d",
    "papermill": {
     "duration": 0.029305,
     "end_time": "2024-04-03T20:57:50.935499",
     "exception": false,
     "start_time": "2024-04-03T20:57:50.906194",
     "status": "completed"
    },
    "tags": []
   },
   "outputs": [],
   "source": [
    "train_path='/kaggle/working/new/train/'\n",
    "test_path='/kaggle/working/new/test/'\n",
    "val_path='/kaggle/working/new/val/'"
   ]
  },
  {
   "cell_type": "code",
   "execution_count": 5,
   "id": "91f92f4e",
   "metadata": {
    "execution": {
     "iopub.execute_input": "2024-04-03T20:57:50.976134Z",
     "iopub.status.busy": "2024-04-03T20:57:50.975569Z",
     "iopub.status.idle": "2024-04-03T20:57:50.980466Z",
     "shell.execute_reply": "2024-04-03T20:57:50.979577Z"
    },
    "id": "IxP2BPegNF3f",
    "papermill": {
     "duration": 0.027604,
     "end_time": "2024-04-03T20:57:50.982676",
     "exception": false,
     "start_time": "2024-04-03T20:57:50.955072",
     "status": "completed"
    },
    "tags": []
   },
   "outputs": [],
   "source": [
    "traingen = tf.keras.preprocessing.image.ImageDataGenerator()\n",
    "testgen = tf.keras.preprocessing.image.ImageDataGenerator()\n",
    "validgen =tf.keras.preprocessing.image.ImageDataGenerator()"
   ]
  },
  {
   "cell_type": "code",
   "execution_count": 6,
   "id": "9f2916c0",
   "metadata": {
    "execution": {
     "iopub.execute_input": "2024-04-03T20:57:51.024031Z",
     "iopub.status.busy": "2024-04-03T20:57:51.023451Z",
     "iopub.status.idle": "2024-04-03T20:57:51.102796Z",
     "shell.execute_reply": "2024-04-03T20:57:51.101604Z"
    },
    "id": "GuXw2uzFNF3h",
    "outputId": "67481c8a-a91a-4854-a60e-e744ce5bec97",
    "papermill": {
     "duration": 0.102641,
     "end_time": "2024-04-03T20:57:51.104961",
     "exception": false,
     "start_time": "2024-04-03T20:57:51.002320",
     "status": "completed"
    },
    "tags": []
   },
   "outputs": [
    {
     "name": "stdout",
     "output_type": "stream",
     "text": [
      "Found 1516 images belonging to 2 classes.\n",
      "Found 192 images belonging to 2 classes.\n",
      "Found 188 images belonging to 2 classes.\n"
     ]
    }
   ],
   "source": [
    "train_ds=traingen.flow_from_directory(batch_size=32,directory=train_path,shuffle=True,\n",
    "                                                 target_size=(224,224),class_mode='categorical')\n",
    "test_ds=traingen.flow_from_directory(batch_size=32,directory=test_path,shuffle=False,target_size=(224,224), \n",
    "                                                 class_mode='categorical')\n",
    "\n",
    "val_ds=traingen.flow_from_directory(batch_size=32,directory=val_path,shuffle=True,target_size=(224,224), \n",
    "                                                 class_mode='categorical')"
   ]
  },
  {
   "cell_type": "code",
   "execution_count": 7,
   "id": "0fd91544",
   "metadata": {
    "execution": {
     "iopub.execute_input": "2024-04-03T20:57:51.145232Z",
     "iopub.status.busy": "2024-04-03T20:57:51.144387Z",
     "iopub.status.idle": "2024-04-03T20:57:53.863227Z",
     "shell.execute_reply": "2024-04-03T20:57:53.862313Z"
    },
    "papermill": {
     "duration": 2.741251,
     "end_time": "2024-04-03T20:57:53.865657",
     "exception": false,
     "start_time": "2024-04-03T20:57:51.124406",
     "status": "completed"
    },
    "tags": []
   },
   "outputs": [
    {
     "name": "stdout",
     "output_type": "stream",
     "text": [
      "Downloading data from https://storage.googleapis.com/tensorflow/keras-applications/xception/xception_weights_tf_dim_ordering_tf_kernels_notop.h5\n",
      "\u001b[1m83683744/83683744\u001b[0m \u001b[32m━━━━━━━━━━━━━━━━━━━━\u001b[0m\u001b[37m\u001b[0m \u001b[1m0s\u001b[0m 0us/step\n"
     ]
    }
   ],
   "source": [
    "from tensorflow.keras.applications import Xception\n",
    "\n",
    "base_model = Xception(weights=\"imagenet\", include_top=False, input_shape=(224,224,3))\n",
    "base_model.trainable = False"
   ]
  },
  {
   "cell_type": "code",
   "execution_count": 8,
   "id": "bafb15b7",
   "metadata": {
    "execution": {
     "iopub.execute_input": "2024-04-03T20:57:53.909804Z",
     "iopub.status.busy": "2024-04-03T20:57:53.909083Z",
     "iopub.status.idle": "2024-04-03T20:57:53.917776Z",
     "shell.execute_reply": "2024-04-03T20:57:53.916789Z"
    },
    "papermill": {
     "duration": 0.033316,
     "end_time": "2024-04-03T20:57:53.919763",
     "exception": false,
     "start_time": "2024-04-03T20:57:53.886447",
     "status": "completed"
    },
    "tags": []
   },
   "outputs": [],
   "source": [
    "from tensorflow.keras import layers, models\n",
    "\n",
    "global_layer = GlobalAveragePooling2D()\n",
    "prediction_layer = layers.Dense(2, activation='softmax')\n",
    "\n",
    "\n",
    "model = models.Sequential([\n",
    "    base_model,\n",
    "    global_layer,\n",
    "   \n",
    "    prediction_layer\n",
    "])"
   ]
  },
  {
   "cell_type": "code",
   "execution_count": 9,
   "id": "3f657f20",
   "metadata": {
    "execution": {
     "iopub.execute_input": "2024-04-03T20:57:53.964174Z",
     "iopub.status.busy": "2024-04-03T20:57:53.963798Z",
     "iopub.status.idle": "2024-04-03T20:57:53.991939Z",
     "shell.execute_reply": "2024-04-03T20:57:53.990983Z"
    },
    "papermill": {
     "duration": 0.053488,
     "end_time": "2024-04-03T20:57:53.994100",
     "exception": false,
     "start_time": "2024-04-03T20:57:53.940612",
     "status": "completed"
    },
    "tags": []
   },
   "outputs": [
    {
     "data": {
      "text/html": [
       "<pre style=\"white-space:pre;overflow-x:auto;line-height:normal;font-family:Menlo,'DejaVu Sans Mono',consolas,'Courier New',monospace\"><span style=\"font-weight: bold\">Model: \"sequential\"</span>\n",
       "</pre>\n"
      ],
      "text/plain": [
       "\u001b[1mModel: \"sequential\"\u001b[0m\n"
      ]
     },
     "metadata": {},
     "output_type": "display_data"
    },
    {
     "data": {
      "text/html": [
       "<pre style=\"white-space:pre;overflow-x:auto;line-height:normal;font-family:Menlo,'DejaVu Sans Mono',consolas,'Courier New',monospace\">┏━━━━━━━━━━━━━━━━━━━━━━━━━━━━━━━━━┳━━━━━━━━━━━━━━━━━━━━━━━━┳━━━━━━━━━━━━━━━┓\n",
       "┃<span style=\"font-weight: bold\"> Layer (type)                    </span>┃<span style=\"font-weight: bold\"> Output Shape           </span>┃<span style=\"font-weight: bold\">       Param # </span>┃\n",
       "┡━━━━━━━━━━━━━━━━━━━━━━━━━━━━━━━━━╇━━━━━━━━━━━━━━━━━━━━━━━━╇━━━━━━━━━━━━━━━┩\n",
       "│ xception (<span style=\"color: #0087ff; text-decoration-color: #0087ff\">Functional</span>)           │ ?                      │    <span style=\"color: #00af00; text-decoration-color: #00af00\">20,861,480</span> │\n",
       "├─────────────────────────────────┼────────────────────────┼───────────────┤\n",
       "│ global_average_pooling2d        │ ?                      │   <span style=\"color: #00af00; text-decoration-color: #00af00\">0</span> (unbuilt) │\n",
       "│ (<span style=\"color: #0087ff; text-decoration-color: #0087ff\">GlobalAveragePooling2D</span>)        │                        │               │\n",
       "├─────────────────────────────────┼────────────────────────┼───────────────┤\n",
       "│ dense (<span style=\"color: #0087ff; text-decoration-color: #0087ff\">Dense</span>)                   │ ?                      │   <span style=\"color: #00af00; text-decoration-color: #00af00\">0</span> (unbuilt) │\n",
       "└─────────────────────────────────┴────────────────────────┴───────────────┘\n",
       "</pre>\n"
      ],
      "text/plain": [
       "┏━━━━━━━━━━━━━━━━━━━━━━━━━━━━━━━━━┳━━━━━━━━━━━━━━━━━━━━━━━━┳━━━━━━━━━━━━━━━┓\n",
       "┃\u001b[1m \u001b[0m\u001b[1mLayer (type)                   \u001b[0m\u001b[1m \u001b[0m┃\u001b[1m \u001b[0m\u001b[1mOutput Shape          \u001b[0m\u001b[1m \u001b[0m┃\u001b[1m \u001b[0m\u001b[1m      Param #\u001b[0m\u001b[1m \u001b[0m┃\n",
       "┡━━━━━━━━━━━━━━━━━━━━━━━━━━━━━━━━━╇━━━━━━━━━━━━━━━━━━━━━━━━╇━━━━━━━━━━━━━━━┩\n",
       "│ xception (\u001b[38;5;33mFunctional\u001b[0m)           │ ?                      │    \u001b[38;5;34m20,861,480\u001b[0m │\n",
       "├─────────────────────────────────┼────────────────────────┼───────────────┤\n",
       "│ global_average_pooling2d        │ ?                      │   \u001b[38;5;34m0\u001b[0m (unbuilt) │\n",
       "│ (\u001b[38;5;33mGlobalAveragePooling2D\u001b[0m)        │                        │               │\n",
       "├─────────────────────────────────┼────────────────────────┼───────────────┤\n",
       "│ dense (\u001b[38;5;33mDense\u001b[0m)                   │ ?                      │   \u001b[38;5;34m0\u001b[0m (unbuilt) │\n",
       "└─────────────────────────────────┴────────────────────────┴───────────────┘\n"
      ]
     },
     "metadata": {},
     "output_type": "display_data"
    },
    {
     "data": {
      "text/html": [
       "<pre style=\"white-space:pre;overflow-x:auto;line-height:normal;font-family:Menlo,'DejaVu Sans Mono',consolas,'Courier New',monospace\"><span style=\"font-weight: bold\"> Total params: </span><span style=\"color: #00af00; text-decoration-color: #00af00\">20,861,480</span> (79.58 MB)\n",
       "</pre>\n"
      ],
      "text/plain": [
       "\u001b[1m Total params: \u001b[0m\u001b[38;5;34m20,861,480\u001b[0m (79.58 MB)\n"
      ]
     },
     "metadata": {},
     "output_type": "display_data"
    },
    {
     "data": {
      "text/html": [
       "<pre style=\"white-space:pre;overflow-x:auto;line-height:normal;font-family:Menlo,'DejaVu Sans Mono',consolas,'Courier New',monospace\"><span style=\"font-weight: bold\"> Trainable params: </span><span style=\"color: #00af00; text-decoration-color: #00af00\">0</span> (0.00 B)\n",
       "</pre>\n"
      ],
      "text/plain": [
       "\u001b[1m Trainable params: \u001b[0m\u001b[38;5;34m0\u001b[0m (0.00 B)\n"
      ]
     },
     "metadata": {},
     "output_type": "display_data"
    },
    {
     "data": {
      "text/html": [
       "<pre style=\"white-space:pre;overflow-x:auto;line-height:normal;font-family:Menlo,'DejaVu Sans Mono',consolas,'Courier New',monospace\"><span style=\"font-weight: bold\"> Non-trainable params: </span><span style=\"color: #00af00; text-decoration-color: #00af00\">20,861,480</span> (79.58 MB)\n",
       "</pre>\n"
      ],
      "text/plain": [
       "\u001b[1m Non-trainable params: \u001b[0m\u001b[38;5;34m20,861,480\u001b[0m (79.58 MB)\n"
      ]
     },
     "metadata": {},
     "output_type": "display_data"
    }
   ],
   "source": [
    "model.summary()"
   ]
  },
  {
   "cell_type": "code",
   "execution_count": 10,
   "id": "dad2d1cb",
   "metadata": {
    "execution": {
     "iopub.execute_input": "2024-04-03T20:57:54.040455Z",
     "iopub.status.busy": "2024-04-03T20:57:54.039879Z",
     "iopub.status.idle": "2024-04-03T20:57:54.044507Z",
     "shell.execute_reply": "2024-04-03T20:57:54.043579Z"
    },
    "id": "qxnjxaIjNF3y",
    "papermill": {
     "duration": 0.029915,
     "end_time": "2024-04-03T20:57:54.046578",
     "exception": false,
     "start_time": "2024-04-03T20:57:54.016663",
     "status": "completed"
    },
    "tags": []
   },
   "outputs": [],
   "source": [
    "callback = tf.keras.callbacks.EarlyStopping(monitor='val_loss', patience=10)"
   ]
  },
  {
   "cell_type": "code",
   "execution_count": 11,
   "id": "a9178957",
   "metadata": {
    "execution": {
     "iopub.execute_input": "2024-04-03T20:57:54.095593Z",
     "iopub.status.busy": "2024-04-03T20:57:54.095237Z",
     "iopub.status.idle": "2024-04-03T20:57:54.113493Z",
     "shell.execute_reply": "2024-04-03T20:57:54.112674Z"
    },
    "id": "7qic40JXNF3y",
    "papermill": {
     "duration": 0.046672,
     "end_time": "2024-04-03T20:57:54.115840",
     "exception": false,
     "start_time": "2024-04-03T20:57:54.069168",
     "status": "completed"
    },
    "tags": []
   },
   "outputs": [],
   "source": [
    "model.compile(\n",
    "    loss=keras.losses.CategoricalCrossentropy(),optimizer = tf.keras.optimizers.Adam(beta_1=0.9,\n",
    "    beta_2=0.999),\n",
    "    metrics=[keras.metrics.CategoricalAccuracy(name=\"accuracy\")],\n",
    ")"
   ]
  },
  {
   "cell_type": "code",
   "execution_count": 12,
   "id": "2a52ab58",
   "metadata": {
    "execution": {
     "iopub.execute_input": "2024-04-03T20:57:54.164339Z",
     "iopub.status.busy": "2024-04-03T20:57:54.163565Z",
     "iopub.status.idle": "2024-04-03T21:04:39.577936Z",
     "shell.execute_reply": "2024-04-03T21:04:39.576979Z"
    },
    "id": "kUox8hWbSjqX",
    "outputId": "164b0024-0167-4ade-fffa-de8c8c095045",
    "papermill": {
     "duration": 405.441166,
     "end_time": "2024-04-03T21:04:39.580346",
     "exception": false,
     "start_time": "2024-04-03T20:57:54.139180",
     "status": "completed"
    },
    "tags": []
   },
   "outputs": [
    {
     "name": "stdout",
     "output_type": "stream",
     "text": [
      "Epoch 1/30\n",
      "\u001b[1m 2/48\u001b[0m \u001b[37m━━━━━━━━━━━━━━━━━━━━\u001b[0m \u001b[1m3s\u001b[0m 74ms/step - accuracy: 0.5625 - loss: 0.8894  "
     ]
    },
    {
     "name": "stderr",
     "output_type": "stream",
     "text": [
      "WARNING: All log messages before absl::InitializeLog() is called are written to STDERR\n",
      "I0000 00:00:1712177890.515058      96 device_compiler.h:186] Compiled cluster using XLA!  This line is logged at most once for the lifetime of the process.\n",
      "W0000 00:00:1712177890.559003      96 graph_launch.cc:671] Fallback to op-by-op mode because memset node breaks graph update\n"
     ]
    },
    {
     "name": "stdout",
     "output_type": "stream",
     "text": [
      "\u001b[1m48/48\u001b[0m \u001b[32m━━━━━━━━━━━━━━━━━━━━\u001b[0m\u001b[37m\u001b[0m \u001b[1m0s\u001b[0m 300ms/step - accuracy: 0.6705 - loss: 0.6874"
     ]
    },
    {
     "name": "stderr",
     "output_type": "stream",
     "text": [
      "W0000 00:00:1712177908.470628      95 graph_launch.cc:671] Fallback to op-by-op mode because memset node breaks graph update\n"
     ]
    },
    {
     "name": "stdout",
     "output_type": "stream",
     "text": [
      "\u001b[1m48/48\u001b[0m \u001b[32m━━━━━━━━━━━━━━━━━━━━\u001b[0m\u001b[37m\u001b[0m \u001b[1m44s\u001b[0m 598ms/step - accuracy: 0.6727 - loss: 0.6834 - val_accuracy: 0.9362 - val_loss: 0.2352\n",
      "Epoch 2/30\n",
      "\u001b[1m48/48\u001b[0m \u001b[32m━━━━━━━━━━━━━━━━━━━━\u001b[0m\u001b[37m\u001b[0m \u001b[1m12s\u001b[0m 217ms/step - accuracy: 0.9362 - loss: 0.2169 - val_accuracy: 0.9415 - val_loss: 0.1627\n",
      "Epoch 3/30\n",
      "\u001b[1m48/48\u001b[0m \u001b[32m━━━━━━━━━━━━━━━━━━━━\u001b[0m\u001b[37m\u001b[0m \u001b[1m12s\u001b[0m 223ms/step - accuracy: 0.9483 - loss: 0.1582 - val_accuracy: 0.9521 - val_loss: 0.1292\n",
      "Epoch 4/30\n",
      "\u001b[1m48/48\u001b[0m \u001b[32m━━━━━━━━━━━━━━━━━━━━\u001b[0m\u001b[37m\u001b[0m \u001b[1m12s\u001b[0m 218ms/step - accuracy: 0.9588 - loss: 0.1278 - val_accuracy: 0.9734 - val_loss: 0.1111\n",
      "Epoch 5/30\n",
      "\u001b[1m48/48\u001b[0m \u001b[32m━━━━━━━━━━━━━━━━━━━━\u001b[0m\u001b[37m\u001b[0m \u001b[1m21s\u001b[0m 221ms/step - accuracy: 0.9697 - loss: 0.1113 - val_accuracy: 0.9787 - val_loss: 0.0948\n",
      "Epoch 6/30\n",
      "\u001b[1m48/48\u001b[0m \u001b[32m━━━━━━━━━━━━━━━━━━━━\u001b[0m\u001b[37m\u001b[0m \u001b[1m12s\u001b[0m 221ms/step - accuracy: 0.9670 - loss: 0.1040 - val_accuracy: 0.9840 - val_loss: 0.0845\n",
      "Epoch 7/30\n",
      "\u001b[1m48/48\u001b[0m \u001b[32m━━━━━━━━━━━━━━━━━━━━\u001b[0m\u001b[37m\u001b[0m \u001b[1m12s\u001b[0m 221ms/step - accuracy: 0.9645 - loss: 0.0944 - val_accuracy: 0.9734 - val_loss: 0.0825\n",
      "Epoch 8/30\n",
      "\u001b[1m48/48\u001b[0m \u001b[32m━━━━━━━━━━━━━━━━━━━━\u001b[0m\u001b[37m\u001b[0m \u001b[1m12s\u001b[0m 216ms/step - accuracy: 0.9748 - loss: 0.0806 - val_accuracy: 0.9574 - val_loss: 0.0841\n",
      "Epoch 9/30\n",
      "\u001b[1m48/48\u001b[0m \u001b[32m━━━━━━━━━━━━━━━━━━━━\u001b[0m\u001b[37m\u001b[0m \u001b[1m12s\u001b[0m 214ms/step - accuracy: 0.9749 - loss: 0.0762 - val_accuracy: 0.9840 - val_loss: 0.0689\n",
      "Epoch 10/30\n",
      "\u001b[1m48/48\u001b[0m \u001b[32m━━━━━━━━━━━━━━━━━━━━\u001b[0m\u001b[37m\u001b[0m \u001b[1m13s\u001b[0m 234ms/step - accuracy: 0.9658 - loss: 0.0812 - val_accuracy: 0.9947 - val_loss: 0.0615\n",
      "Epoch 11/30\n",
      "\u001b[1m48/48\u001b[0m \u001b[32m━━━━━━━━━━━━━━━━━━━━\u001b[0m\u001b[37m\u001b[0m \u001b[1m12s\u001b[0m 218ms/step - accuracy: 0.9775 - loss: 0.0677 - val_accuracy: 0.9947 - val_loss: 0.0599\n",
      "Epoch 12/30\n",
      "\u001b[1m48/48\u001b[0m \u001b[32m━━━━━━━━━━━━━━━━━━━━\u001b[0m\u001b[37m\u001b[0m \u001b[1m12s\u001b[0m 221ms/step - accuracy: 0.9770 - loss: 0.0658 - val_accuracy: 0.9840 - val_loss: 0.0530\n",
      "Epoch 13/30\n",
      "\u001b[1m48/48\u001b[0m \u001b[32m━━━━━━━━━━━━━━━━━━━━\u001b[0m\u001b[37m\u001b[0m \u001b[1m12s\u001b[0m 216ms/step - accuracy: 0.9836 - loss: 0.0607 - val_accuracy: 0.9840 - val_loss: 0.0502\n",
      "Epoch 14/30\n",
      "\u001b[1m48/48\u001b[0m \u001b[32m━━━━━━━━━━━━━━━━━━━━\u001b[0m\u001b[37m\u001b[0m \u001b[1m12s\u001b[0m 224ms/step - accuracy: 0.9760 - loss: 0.0639 - val_accuracy: 0.9628 - val_loss: 0.0769\n",
      "Epoch 15/30\n",
      "\u001b[1m48/48\u001b[0m \u001b[32m━━━━━━━━━━━━━━━━━━━━\u001b[0m\u001b[37m\u001b[0m \u001b[1m12s\u001b[0m 222ms/step - accuracy: 0.9812 - loss: 0.0613 - val_accuracy: 0.9840 - val_loss: 0.0545\n",
      "Epoch 16/30\n",
      "\u001b[1m48/48\u001b[0m \u001b[32m━━━━━━━━━━━━━━━━━━━━\u001b[0m\u001b[37m\u001b[0m \u001b[1m12s\u001b[0m 224ms/step - accuracy: 0.9816 - loss: 0.0522 - val_accuracy: 0.9947 - val_loss: 0.0454\n",
      "Epoch 17/30\n",
      "\u001b[1m48/48\u001b[0m \u001b[32m━━━━━━━━━━━━━━━━━━━━\u001b[0m\u001b[37m\u001b[0m \u001b[1m12s\u001b[0m 215ms/step - accuracy: 0.9809 - loss: 0.0547 - val_accuracy: 0.9840 - val_loss: 0.0484\n",
      "Epoch 18/30\n",
      "\u001b[1m48/48\u001b[0m \u001b[32m━━━━━━━━━━━━━━━━━━━━\u001b[0m\u001b[37m\u001b[0m \u001b[1m12s\u001b[0m 218ms/step - accuracy: 0.9835 - loss: 0.0529 - val_accuracy: 0.9947 - val_loss: 0.0421\n",
      "Epoch 19/30\n",
      "\u001b[1m48/48\u001b[0m \u001b[32m━━━━━━━━━━━━━━━━━━━━\u001b[0m\u001b[37m\u001b[0m \u001b[1m12s\u001b[0m 222ms/step - accuracy: 0.9814 - loss: 0.0518 - val_accuracy: 0.9947 - val_loss: 0.0408\n",
      "Epoch 20/30\n",
      "\u001b[1m48/48\u001b[0m \u001b[32m━━━━━━━━━━━━━━━━━━━━\u001b[0m\u001b[37m\u001b[0m \u001b[1m12s\u001b[0m 224ms/step - accuracy: 0.9759 - loss: 0.0650 - val_accuracy: 0.9947 - val_loss: 0.0426\n",
      "Epoch 21/30\n",
      "\u001b[1m48/48\u001b[0m \u001b[32m━━━━━━━━━━━━━━━━━━━━\u001b[0m\u001b[37m\u001b[0m \u001b[1m12s\u001b[0m 219ms/step - accuracy: 0.9799 - loss: 0.0513 - val_accuracy: 0.9947 - val_loss: 0.0410\n",
      "Epoch 22/30\n",
      "\u001b[1m48/48\u001b[0m \u001b[32m━━━━━━━━━━━━━━━━━━━━\u001b[0m\u001b[37m\u001b[0m \u001b[1m12s\u001b[0m 215ms/step - accuracy: 0.9768 - loss: 0.0564 - val_accuracy: 0.9947 - val_loss: 0.0356\n",
      "Epoch 23/30\n",
      "\u001b[1m48/48\u001b[0m \u001b[32m━━━━━━━━━━━━━━━━━━━━\u001b[0m\u001b[37m\u001b[0m \u001b[1m13s\u001b[0m 230ms/step - accuracy: 0.9850 - loss: 0.0470 - val_accuracy: 0.9681 - val_loss: 0.0575\n",
      "Epoch 24/30\n",
      "\u001b[1m48/48\u001b[0m \u001b[32m━━━━━━━━━━━━━━━━━━━━\u001b[0m\u001b[37m\u001b[0m \u001b[1m12s\u001b[0m 217ms/step - accuracy: 0.9676 - loss: 0.0675 - val_accuracy: 0.9947 - val_loss: 0.0336\n",
      "Epoch 25/30\n",
      "\u001b[1m48/48\u001b[0m \u001b[32m━━━━━━━━━━━━━━━━━━━━\u001b[0m\u001b[37m\u001b[0m \u001b[1m12s\u001b[0m 218ms/step - accuracy: 0.9797 - loss: 0.0620 - val_accuracy: 0.9947 - val_loss: 0.0394\n",
      "Epoch 26/30\n",
      "\u001b[1m48/48\u001b[0m \u001b[32m━━━━━━━━━━━━━━━━━━━━\u001b[0m\u001b[37m\u001b[0m \u001b[1m12s\u001b[0m 220ms/step - accuracy: 0.9775 - loss: 0.0540 - val_accuracy: 0.9947 - val_loss: 0.0321\n",
      "Epoch 27/30\n",
      "\u001b[1m48/48\u001b[0m \u001b[32m━━━━━━━━━━━━━━━━━━━━\u001b[0m\u001b[37m\u001b[0m \u001b[1m12s\u001b[0m 221ms/step - accuracy: 0.9863 - loss: 0.0402 - val_accuracy: 1.0000 - val_loss: 0.0333\n",
      "Epoch 28/30\n",
      "\u001b[1m48/48\u001b[0m \u001b[32m━━━━━━━━━━━━━━━━━━━━\u001b[0m\u001b[37m\u001b[0m \u001b[1m12s\u001b[0m 220ms/step - accuracy: 0.9841 - loss: 0.0444 - val_accuracy: 0.9947 - val_loss: 0.0296\n",
      "Epoch 29/30\n",
      "\u001b[1m48/48\u001b[0m \u001b[32m━━━━━━━━━━━━━━━━━━━━\u001b[0m\u001b[37m\u001b[0m \u001b[1m12s\u001b[0m 218ms/step - accuracy: 0.9866 - loss: 0.0425 - val_accuracy: 0.9787 - val_loss: 0.0478\n",
      "Epoch 30/30\n",
      "\u001b[1m48/48\u001b[0m \u001b[32m━━━━━━━━━━━━━━━━━━━━\u001b[0m\u001b[37m\u001b[0m \u001b[1m12s\u001b[0m 220ms/step - accuracy: 0.9807 - loss: 0.0508 - val_accuracy: 0.9734 - val_loss: 0.0676\n"
     ]
    }
   ],
   "source": [
    "history = model.fit(train_ds,\n",
    "                 validation_data=val_ds,batch_size=32,epochs=30,\n",
    "                    verbose=1 )"
   ]
  },
  {
   "cell_type": "code",
   "execution_count": 13,
   "id": "2e627c8b",
   "metadata": {
    "execution": {
     "iopub.execute_input": "2024-04-03T21:04:39.897809Z",
     "iopub.status.busy": "2024-04-03T21:04:39.896911Z",
     "iopub.status.idle": "2024-04-03T21:04:44.451520Z",
     "shell.execute_reply": "2024-04-03T21:04:44.450275Z"
    },
    "id": "MMkmRvtYNF32",
    "papermill": {
     "duration": 4.714989,
     "end_time": "2024-04-03T21:04:44.454530",
     "exception": false,
     "start_time": "2024-04-03T21:04:39.739541",
     "status": "completed"
    },
    "tags": []
   },
   "outputs": [
    {
     "name": "stdout",
     "output_type": "stream",
     "text": [
      "\u001b[1m2/6\u001b[0m \u001b[32m━━━━━━\u001b[0m\u001b[37m━━━━━━━━━━━━━━\u001b[0m \u001b[1m0s\u001b[0m 52ms/step"
     ]
    },
    {
     "name": "stderr",
     "output_type": "stream",
     "text": [
      "W0000 00:00:1712178283.537477      96 graph_launch.cc:671] Fallback to op-by-op mode because memset node breaks graph update\n"
     ]
    },
    {
     "name": "stdout",
     "output_type": "stream",
     "text": [
      "\u001b[1m6/6\u001b[0m \u001b[32m━━━━━━━━━━━━━━━━━━━━\u001b[0m\u001b[37m\u001b[0m \u001b[1m4s\u001b[0m 168ms/step\n"
     ]
    }
   ],
   "source": [
    "from tensorflow.keras.utils import to_categorical\n",
    "y_pred = model.predict(test_ds)\n",
    "y_pred2= to_categorical(np.argmax(y_pred, axis=1), 2)\n",
    "\n",
    "y_test= to_categorical(test_ds.labels, 2)\n",
    "\n",
    "# Using it in AUC\n",
    "y_pred1=(np.argmax(y_pred, axis=1))\n",
    "y_test1=(np.argmax(y_test, axis=1))"
   ]
  },
  {
   "cell_type": "code",
   "execution_count": 14,
   "id": "fb444bb5",
   "metadata": {
    "execution": {
     "iopub.execute_input": "2024-04-03T21:04:44.779806Z",
     "iopub.status.busy": "2024-04-03T21:04:44.778768Z",
     "iopub.status.idle": "2024-04-03T21:04:44.783871Z",
     "shell.execute_reply": "2024-04-03T21:04:44.783007Z"
    },
    "id": "5T7AcO-qNF39",
    "papermill": {
     "duration": 0.162115,
     "end_time": "2024-04-03T21:04:44.786104",
     "exception": false,
     "start_time": "2024-04-03T21:04:44.623989",
     "status": "completed"
    },
    "tags": []
   },
   "outputs": [],
   "source": [
    "# Computing the Accuracy Score  : ((TP + TN) / float(TP + TN + FP + FN))\n",
    "def Accuracy(y_test , y_pred):\n",
    "    AccScore = accuracy_score(y_test, y_pred, normalize=True)\n",
    "    return AccScore"
   ]
  },
  {
   "cell_type": "code",
   "execution_count": 15,
   "id": "68986344",
   "metadata": {
    "execution": {
     "iopub.execute_input": "2024-04-03T21:04:45.090548Z",
     "iopub.status.busy": "2024-04-03T21:04:45.089629Z",
     "iopub.status.idle": "2024-04-03T21:04:45.094775Z",
     "shell.execute_reply": "2024-04-03T21:04:45.093808Z"
    },
    "id": "F4ybNB84NF3-",
    "papermill": {
     "duration": 0.15753,
     "end_time": "2024-04-03T21:04:45.096975",
     "exception": false,
     "start_time": "2024-04-03T21:04:44.939445",
     "status": "completed"
    },
    "tags": []
   },
   "outputs": [],
   "source": [
    "#Computing the Precision metric (Some times called Specificity): #(True Positives / float(True Positives + False Posivites))  \n",
    "def macro_precision(y_test , y_pred):\n",
    "    PrecisionScore = precision_score(y_test, y_pred, average='macro') \n",
    "    return PrecisionScore"
   ]
  },
  {
   "cell_type": "code",
   "execution_count": 16,
   "id": "fa6fb99e",
   "metadata": {
    "execution": {
     "iopub.execute_input": "2024-04-03T21:04:45.411453Z",
     "iopub.status.busy": "2024-04-03T21:04:45.411084Z",
     "iopub.status.idle": "2024-04-03T21:04:45.416113Z",
     "shell.execute_reply": "2024-04-03T21:04:45.415075Z"
    },
    "id": "jGSq3v5gNF3_",
    "papermill": {
     "duration": 0.164112,
     "end_time": "2024-04-03T21:04:45.418446",
     "exception": false,
     "start_time": "2024-04-03T21:04:45.254334",
     "status": "completed"
    },
    "tags": []
   },
   "outputs": [],
   "source": [
    "#Computing the Recall Score : (Some times called Sensitivity) (TP / float(TP + FN))   1 / 1+2  \n",
    "def macro_recall(y_test , y_pred):\n",
    "    RecallScore = recall_score(y_test, y_pred, average='macro') \n",
    "    return  RecallScore"
   ]
  },
  {
   "cell_type": "code",
   "execution_count": 17,
   "id": "1a4ead23",
   "metadata": {
    "execution": {
     "iopub.execute_input": "2024-04-03T21:04:45.733180Z",
     "iopub.status.busy": "2024-04-03T21:04:45.732123Z",
     "iopub.status.idle": "2024-04-03T21:04:45.737593Z",
     "shell.execute_reply": "2024-04-03T21:04:45.736820Z"
    },
    "id": "zbng8rzRNF3_",
    "papermill": {
     "duration": 0.171417,
     "end_time": "2024-04-03T21:04:45.739808",
     "exception": false,
     "start_time": "2024-04-03T21:04:45.568391",
     "status": "completed"
    },
    "tags": []
   },
   "outputs": [],
   "source": [
    "#Computing the F1 Score  : 2 * (precision * recall) / (precision + recall)\n",
    "def macro_F1Score(y_test , y_pred):\n",
    "    F1Score = f1_score(y_test, y_pred, average='macro') \n",
    "    return F1Score"
   ]
  },
  {
   "cell_type": "code",
   "execution_count": 18,
   "id": "4ee1b693",
   "metadata": {
    "execution": {
     "iopub.execute_input": "2024-04-03T21:04:46.058896Z",
     "iopub.status.busy": "2024-04-03T21:04:46.058081Z",
     "iopub.status.idle": "2024-04-03T21:04:46.066562Z",
     "shell.execute_reply": "2024-04-03T21:04:46.065522Z"
    },
    "id": "SWbpYe9ENF4A",
    "papermill": {
     "duration": 0.174885,
     "end_time": "2024-04-03T21:04:46.068892",
     "exception": false,
     "start_time": "2024-04-03T21:04:45.894007",
     "status": "completed"
    },
    "tags": []
   },
   "outputs": [],
   "source": [
    "from sklearn.metrics import roc_auc_score\n",
    "\n",
    "# Calculating Area under the curve\n",
    "def AUC(actual_class, pred_class, average = \"micro\"):\n",
    "    \n",
    "    #Making a set of all the unique classes \n",
    "    unique_class = set(actual_class)\n",
    "    roc_auc_dict = {}\n",
    "    for per_class in unique_class:\n",
    "        \n",
    "        #Making a list of all the classes except the current class \n",
    "        other_class = [x for x in unique_class if x != per_class]\n",
    "\n",
    "        #Making the current class with label 1 and all other classes as a label 0\n",
    "        new_actual_class = [0 if x in other_class else 1 for x in actual_class]\n",
    "        new_pred_class = [0 if x in other_class else 1 for x in pred_class]\n",
    "\n",
    "        # Calculating the roc_auc_score\n",
    "        roc_auc = roc_auc_score(new_actual_class, new_pred_class, average = average)\n",
    "        roc_auc_dict[per_class] = roc_auc\n",
    "\n",
    "    return roc_auc_dict"
   ]
  },
  {
   "cell_type": "code",
   "execution_count": 19,
   "id": "bb1a89f1",
   "metadata": {
    "execution": {
     "iopub.execute_input": "2024-04-03T21:04:46.383316Z",
     "iopub.status.busy": "2024-04-03T21:04:46.382439Z",
     "iopub.status.idle": "2024-04-03T21:04:48.017921Z",
     "shell.execute_reply": "2024-04-03T21:04:48.016679Z"
    },
    "id": "OIJ_0Cd3NF4B",
    "outputId": "1f5d13ea-6730-4838-d974-3e03fa9452fc",
    "papermill": {
     "duration": 1.797515,
     "end_time": "2024-04-03T21:04:48.020188",
     "exception": false,
     "start_time": "2024-04-03T21:04:46.222673",
     "status": "completed"
    },
    "tags": []
   },
   "outputs": [
    {
     "name": "stdout",
     "output_type": "stream",
     "text": [
      "***** Model Evaluations Details ******** \n",
      "\n",
      "\u001b[1m6/6\u001b[0m \u001b[32m━━━━━━━━━━━━━━━━━━━━\u001b[0m\u001b[37m\u001b[0m \u001b[1m1s\u001b[0m 213ms/step - accuracy: 0.9651 - loss: 0.0835\n",
      "Test loss, Test acc :  [0.08780252188444138, 0.9635416865348816]\n",
      "******************************\n",
      "Accurayc  :  0.9635416666666666\n",
      "******************************\n",
      "Precision Score is :  0.9660194174757282\n",
      "******************************\n",
      "Recall Scores is :  0.9635416666666667\n",
      "******************************\n",
      "F1 Score is :  0.9634931413825887\n",
      "******************************\n",
      "AUC Score is :  {0: 0.9635416666666667, 1: 0.9635416666666667}\n"
     ]
    }
   ],
   "source": [
    "print(\"***** Model Evaluations Details ******** \\n\")\n",
    "print(\"Test loss, Test acc : \" , model.evaluate(test_ds)) \n",
    "print(\"******************************\")\n",
    "print(\"Accurayc  : \" , Accuracy(test_ds.classes , y_pred1)) \n",
    "print(\"******************************\")\n",
    "print(\"Precision Score is : \" , macro_precision(test_ds.classes , y_pred1))\n",
    "print(\"******************************\")\n",
    "print(\"Recall Scores is : \" , macro_recall(test_ds.classes , y_pred1))\n",
    "print(\"******************************\")\n",
    "print('F1 Score is : ', macro_F1Score(test_ds.classes , y_pred1))\n",
    "print(\"******************************\")\n",
    "print('AUC Score is : ' , AUC(test_ds.classes, y_pred1))"
   ]
  },
  {
   "cell_type": "code",
   "execution_count": 20,
   "id": "dfd79d52",
   "metadata": {
    "execution": {
     "iopub.execute_input": "2024-04-03T21:04:48.334688Z",
     "iopub.status.busy": "2024-04-03T21:04:48.333733Z",
     "iopub.status.idle": "2024-04-03T21:04:48.338458Z",
     "shell.execute_reply": "2024-04-03T21:04:48.337584Z"
    },
    "papermill": {
     "duration": 0.170359,
     "end_time": "2024-04-03T21:04:48.340706",
     "exception": false,
     "start_time": "2024-04-03T21:04:48.170347",
     "status": "completed"
    },
    "tags": []
   },
   "outputs": [],
   "source": [
    "labels=[\"Class 0\",\"Class 1\"]"
   ]
  },
  {
   "cell_type": "code",
   "execution_count": 21,
   "id": "a7b686af",
   "metadata": {
    "execution": {
     "iopub.execute_input": "2024-04-03T21:04:48.651813Z",
     "iopub.status.busy": "2024-04-03T21:04:48.650891Z",
     "iopub.status.idle": "2024-04-03T21:04:48.665870Z",
     "shell.execute_reply": "2024-04-03T21:04:48.664653Z"
    },
    "papermill": {
     "duration": 0.174885,
     "end_time": "2024-04-03T21:04:48.668141",
     "exception": false,
     "start_time": "2024-04-03T21:04:48.493256",
     "status": "completed"
    },
    "tags": []
   },
   "outputs": [
    {
     "name": "stdout",
     "output_type": "stream",
     "text": [
      "              precision    recall  f1-score   support\n",
      "\n",
      "     Class 0       1.00      0.93      0.96        96\n",
      "     Class 1       0.93      1.00      0.96        96\n",
      "\n",
      "    accuracy                           0.96       192\n",
      "   macro avg       0.97      0.96      0.96       192\n",
      "weighted avg       0.97      0.96      0.96       192\n",
      "\n"
     ]
    }
   ],
   "source": [
    "print(classification_report(test_ds.classes, y_pred1,target_names=labels))\n"
   ]
  },
  {
   "cell_type": "code",
   "execution_count": 22,
   "id": "2cbe9fce",
   "metadata": {
    "execution": {
     "iopub.execute_input": "2024-04-03T21:04:49.029779Z",
     "iopub.status.busy": "2024-04-03T21:04:49.028777Z",
     "iopub.status.idle": "2024-04-03T21:04:49.037451Z",
     "shell.execute_reply": "2024-04-03T21:04:49.036477Z"
    },
    "papermill": {
     "duration": 0.16491,
     "end_time": "2024-04-03T21:04:49.039727",
     "exception": false,
     "start_time": "2024-04-03T21:04:48.874817",
     "status": "completed"
    },
    "tags": []
   },
   "outputs": [
    {
     "data": {
      "text/plain": [
       "RcParams({'axes.axisbelow': True,\n",
       "          'axes.edgecolor': '.8',\n",
       "          'axes.facecolor': 'white',\n",
       "          'axes.grid': True,\n",
       "          'axes.labelcolor': '.15',\n",
       "          'axes.linewidth': 1.0,\n",
       "          'figure.facecolor': 'white',\n",
       "          'font.family': ['sans-serif'],\n",
       "          'font.sans-serif': ['Arial',\n",
       "                              'Liberation Sans',\n",
       "                              'DejaVu Sans',\n",
       "                              'Bitstream Vera Sans',\n",
       "                              'sans-serif'],\n",
       "          'grid.color': '.8',\n",
       "          'grid.linestyle': '-',\n",
       "          'image.cmap': 'Greys',\n",
       "          'legend.frameon': False,\n",
       "          'legend.numpoints': 1,\n",
       "          'legend.scatterpoints': 1,\n",
       "          'lines.solid_capstyle': <CapStyle.round: 'round'>,\n",
       "          'text.color': '.15',\n",
       "          'xtick.color': '.15',\n",
       "          'xtick.direction': 'out',\n",
       "          'xtick.major.size': 0.0,\n",
       "          'xtick.minor.size': 0.0,\n",
       "          'ytick.color': '.15',\n",
       "          'ytick.direction': 'out',\n",
       "          'ytick.major.size': 0.0,\n",
       "          'ytick.minor.size': 0.0})"
      ]
     },
     "execution_count": 22,
     "metadata": {},
     "output_type": "execute_result"
    }
   ],
   "source": [
    "import seaborn as sns\n",
    "import matplotlib.pyplot as plt\n",
    "sns.set_style('whitegrid')\n",
    "plt.style.library['seaborn-whitegrid']"
   ]
  },
  {
   "cell_type": "code",
   "execution_count": 23,
   "id": "dd108f74",
   "metadata": {
    "execution": {
     "iopub.execute_input": "2024-04-03T21:04:49.350500Z",
     "iopub.status.busy": "2024-04-03T21:04:49.350119Z",
     "iopub.status.idle": "2024-04-03T21:04:49.366323Z",
     "shell.execute_reply": "2024-04-03T21:04:49.365245Z"
    },
    "id": "V93RKPJKNF4C",
    "papermill": {
     "duration": 0.177399,
     "end_time": "2024-04-03T21:04:49.368306",
     "exception": false,
     "start_time": "2024-04-03T21:04:49.190907",
     "status": "completed"
    },
    "tags": []
   },
   "outputs": [],
   "source": [
    "def plot_roc_curve(y_test,y_pred):\n",
    "    n_classes=2\n",
    "    fpr = dict()\n",
    "    tpr = dict()\n",
    "    roc_auc = dict()\n",
    "    for i in range(n_classes):\n",
    "        fpr[i], tpr[i], _ = roc_curve(y_test[:, i], y_pred[:, i])\n",
    "        roc_auc[i] = auc(fpr[i], tpr[i])\n",
    "    fpr[\"micro\"], tpr[\"micro\"], _ = roc_curve(y_test.ravel(), y_pred.ravel())\n",
    "    roc_auc[\"micro\"] = auc(fpr[\"micro\"], tpr[\"micro\"])\n",
    "    lw=2\n",
    "    all_fpr = np.unique(np.concatenate([fpr[i] for i in range(n_classes)]))\n",
    "\n",
    "    mean_tpr = np.zeros_like(all_fpr)\n",
    "    for i in range(n_classes):\n",
    "        mean_tpr += np.interp(all_fpr, fpr[i], tpr[i])\n",
    "\n",
    "    mean_tpr /= n_classes\n",
    "\n",
    "    fpr[\"macro\"] = all_fpr\n",
    "    tpr[\"macro\"] = mean_tpr\n",
    "    roc_auc[\"macro\"] = auc(fpr[\"macro\"], tpr[\"macro\"])\n",
    "\n",
    "# Plot all ROC curves\n",
    "    plt.figure(figsize=(10, 10))\n",
    "    plt.plot(fpr[\"micro\"],\n",
    "    tpr[\"micro\"],\n",
    "    label=\"micro-average ROC curve (area = {0:0.2f})\".format(roc_auc[\"micro\"]),\n",
    "    color=\"deeppink\",\n",
    "    linestyle=\":\",\n",
    "    linewidth=4,)\n",
    "\n",
    "    plt.plot(fpr[\"macro\"],\n",
    "    tpr[\"macro\"],\n",
    "    label=\"macro-average ROC curve (area = {0:0.2f})\".format(roc_auc[\"macro\"]),\n",
    "    color=\"navy\",\n",
    "    linestyle=\":\",\n",
    "    linewidth=4,\n",
    ")\n",
    "    colors = cycle([\"aqua\", \"darkorange\", \"cornflowerblue\",'#9e9e9e','#b19a7e','#CD5C5C','#DFFF00',\n",
    "                   '#DE3163','#ff4d4d','#CCCCFF','#800080','#4F1D25','#ccffcc','#ff0040'\n",
    "                   ,'#4000ff','#0080ff','#ff8000','#666600','#b37700','#00b3b3','#003300','#FFC300','#A6F7BD',\n",
    "                   '#A6BDF7','#CAA6F7','#F7A6AC','#ADF7A6','#F5F7A6','#F7CCA6','#EE4949',\n",
    "                    '#DEA41F','#334471','#33716F','#343371','#772CE3','#B8BF20','#666B01','#0B6B01',\n",
    "                    '#F4B708','#179690'\n",
    "                   ])\n",
    "\n",
    "    for i, color in zip(range(n_classes), colors):\n",
    "        plt.plot(\n",
    "           fpr[i],\n",
    "           tpr[i],\n",
    "           color=color,\n",
    "           lw=lw,\n",
    "        label=\"ROC curve of class {0} (area = {1:0.2f})\".format(i, roc_auc[i]),\n",
    "    )\n",
    "\n",
    "    plt.plot([0, 1], [0, 1], \"k--\", lw=lw)\n",
    "    plt.xlim([0.0, 1.0])\n",
    "    plt.ylim([0.0, 1.05])\n",
    "    plt.xlabel(\"False Positive Rate\")\n",
    "    plt.ylabel(\"True Positive Rate\")\n",
    "    plt.title(\"Roc Curve\")\n",
    "    plt.legend(bbox_to_anchor=(1, 1))\n",
    "    plt.show()"
   ]
  },
  {
   "cell_type": "code",
   "execution_count": 24,
   "id": "30ba4a46",
   "metadata": {
    "execution": {
     "iopub.execute_input": "2024-04-03T21:04:49.674099Z",
     "iopub.status.busy": "2024-04-03T21:04:49.673238Z",
     "iopub.status.idle": "2024-04-03T21:04:49.680189Z",
     "shell.execute_reply": "2024-04-03T21:04:49.679140Z"
    },
    "id": "DEOkUcuvNF4C",
    "papermill": {
     "duration": 0.163948,
     "end_time": "2024-04-03T21:04:49.682403",
     "exception": false,
     "start_time": "2024-04-03T21:04:49.518455",
     "status": "completed"
    },
    "tags": []
   },
   "outputs": [],
   "source": [
    "def Acc_Loss_Graph(history):\n",
    "    # converting hsitory to dataframe\n",
    "    pd.DataFrame(history.history)\n",
    "\n",
    "    pd.DataFrame(history.history)[['accuracy', 'val_accuracy']].plot()\n",
    "    plt.title('Training Accuracy')\n",
    "    plt.xlabel('Epochs')\n",
    "    plt.ylabel('accuracy')\n",
    "\n",
    "    pd.DataFrame(history.history)[['loss', 'val_loss']].plot()\n",
    "    plt.title('Model Loss')\n",
    "    plt.xlabel('Epochs')\n",
    "    plt.ylabel('Loss')"
   ]
  },
  {
   "cell_type": "code",
   "execution_count": 25,
   "id": "7cfc6356",
   "metadata": {
    "execution": {
     "iopub.execute_input": "2024-04-03T21:04:49.994986Z",
     "iopub.status.busy": "2024-04-03T21:04:49.994335Z",
     "iopub.status.idle": "2024-04-03T21:04:49.999041Z",
     "shell.execute_reply": "2024-04-03T21:04:49.998170Z"
    },
    "papermill": {
     "duration": 0.158519,
     "end_time": "2024-04-03T21:04:50.001196",
     "exception": false,
     "start_time": "2024-04-03T21:04:49.842677",
     "status": "completed"
    },
    "tags": []
   },
   "outputs": [],
   "source": [
    "labels=np.array([\"Class 0\",\"Class 1\"])"
   ]
  },
  {
   "cell_type": "code",
   "execution_count": 26,
   "id": "26c1b5ae",
   "metadata": {
    "execution": {
     "iopub.execute_input": "2024-04-03T21:04:50.316084Z",
     "iopub.status.busy": "2024-04-03T21:04:50.315134Z",
     "iopub.status.idle": "2024-04-03T21:04:50.321098Z",
     "shell.execute_reply": "2024-04-03T21:04:50.320123Z"
    },
    "id": "lGA3LmwQNF4D",
    "papermill": {
     "duration": 0.170012,
     "end_time": "2024-04-03T21:04:50.323356",
     "exception": false,
     "start_time": "2024-04-03T21:04:50.153344",
     "status": "completed"
    },
    "tags": []
   },
   "outputs": [],
   "source": [
    "def Confusion_Matrix(y_test , y_pred):\n",
    "    fig, ax = plt.subplots(figsize=(5,5))\n",
    "\n",
    "    #cnf_matrix = confusion_matrix()\n",
    "    disp = ConfusionMatrixDisplay.from_predictions(y_test, y_pred,display_labels=labels,ax=ax,xticks_rotation='vertical'\n",
    "                                                  ,cmap=\"Blues\")"
   ]
  },
  {
   "cell_type": "markdown",
   "id": "c69ecf48",
   "metadata": {
    "id": "-F5dvUt-NF4E",
    "papermill": {
     "duration": 0.15453,
     "end_time": "2024-04-03T21:04:50.632446",
     "exception": false,
     "start_time": "2024-04-03T21:04:50.477916",
     "status": "completed"
    },
    "tags": []
   },
   "source": []
  },
  {
   "cell_type": "code",
   "execution_count": 27,
   "id": "9c493d22",
   "metadata": {
    "execution": {
     "iopub.execute_input": "2024-04-03T21:04:50.937366Z",
     "iopub.status.busy": "2024-04-03T21:04:50.936636Z",
     "iopub.status.idle": "2024-04-03T21:04:51.914652Z",
     "shell.execute_reply": "2024-04-03T21:04:51.913699Z"
    },
    "id": "xUfvuLXMNF4H",
    "outputId": "4035144f-3ba6-4f6e-c668-9492e1f00f8f",
    "papermill": {
     "duration": 1.130075,
     "end_time": "2024-04-03T21:04:51.917257",
     "exception": false,
     "start_time": "2024-04-03T21:04:50.787182",
     "status": "completed"
    },
    "tags": []
   },
   "outputs": [
    {
     "data": {
      "image/png": "[encoded data removed]",
      "text/plain": [
       "<Figure size 640x480 with 1 Axes>"
      ]
     },
     "metadata": {},
     "output_type": "display_data"
    },
    {
     "data": {
      "image/png": "[encoded data removed]",
      "text/plain": [
       "<Figure size 640x480 with 1 Axes>"
      ]
     },
     "metadata": {},
     "output_type": "display_data"
    }
   ],
   "source": [
    "Acc_Loss_Graph(history)"
   ]
  },
  {
   "cell_type": "code",
   "execution_count": 28,
   "id": "4e44cef7",
   "metadata": {
    "execution": {
     "iopub.execute_input": "2024-04-03T21:04:52.226786Z",
     "iopub.status.busy": "2024-04-03T21:04:52.225925Z",
     "iopub.status.idle": "2024-04-03T21:04:52.733143Z",
     "shell.execute_reply": "2024-04-03T21:04:52.732096Z"
    },
    "id": "dsXTjrCQNF4I",
    "outputId": "90859e23-d618-45f8-f939-4e44e2a0d93c",
    "papermill": {
     "duration": 0.667758,
     "end_time": "2024-04-03T21:04:52.735231",
     "exception": false,
     "start_time": "2024-04-03T21:04:52.067473",
     "status": "completed"
    },
    "tags": []
   },
   "outputs": [
    {
     "data": {
      "image/png": "[encoded data removed]",
      "text/plain": [
       "<Figure size 1000x1000 with 1 Axes>"
      ]
     },
     "metadata": {},
     "output_type": "display_data"
    }
   ],
   "source": [
    "plot_roc_curve(y_test,y_pred2)"
   ]
  },
  {
   "cell_type": "code",
   "execution_count": 29,
   "id": "97f0e7f5",
   "metadata": {
    "execution": {
     "iopub.execute_input": "2024-04-03T21:04:53.054551Z",
     "iopub.status.busy": "2024-04-03T21:04:53.053606Z",
     "iopub.status.idle": "2024-04-03T21:04:53.426830Z",
     "shell.execute_reply": "2024-04-03T21:04:53.425666Z"
    },
    "id": "Sv_qoovZNF4I",
    "outputId": "1ae0ce96-b37c-43b4-b3ca-33d66b1ae904",
    "papermill": {
     "duration": 0.53137,
     "end_time": "2024-04-03T21:04:53.429165",
     "exception": false,
     "start_time": "2024-04-03T21:04:52.897795",
     "status": "completed"
    },
    "tags": []
   },
   "outputs": [
    {
     "data": {
      "image/png": "[encoded data removed]",
      "text/plain": [
       "<Figure size 500x500 with 2 Axes>"
      ]
     },
     "metadata": {},
     "output_type": "display_data"
    }
   ],
   "source": [
    "Confusion_Matrix(test_ds.classes , y_pred1)"
   ]
  },
  {
   "cell_type": "code",
   "execution_count": 30,
   "id": "d890677d",
   "metadata": {
    "execution": {
     "iopub.execute_input": "2024-04-03T21:04:53.757876Z",
     "iopub.status.busy": "2024-04-03T21:04:53.757428Z",
     "iopub.status.idle": "2024-04-03T21:04:53.764943Z",
     "shell.execute_reply": "2024-04-03T21:04:53.763977Z"
    },
    "papermill": {
     "duration": 0.177526,
     "end_time": "2024-04-03T21:04:53.767343",
     "exception": false,
     "start_time": "2024-04-03T21:04:53.589817",
     "status": "completed"
    },
    "tags": []
   },
   "outputs": [],
   "source": [
    "target_name={0:\"Class 0\",1:\"Class 1\",2:\"Class 2\",3:\"Class 3\",4:\"Class 4\",5:\"Class 5\",6:\"Class 6\",7:\"Class 7\",8:\"Class 8\",9:\"Class 9\",\n",
    "             10:\"Class 10\",11:\"Class 11\",12:\"Class 12\",\n",
    "               13:\"Class 13\",14:\"Class 14\",15:\"Class 15\",16:\"Class 16\",17:\"Class 17\",18:\"Class 18\",19:\"Class 19\",20:\"Class 20\",21:\"Class 21\",\n",
    "             22:\"Class 22\",23:\"Class 23\",24:\"Class 24\",25:\"Class 25\",26:\"Class 26\",27:\"Class 27\",28:\"Class 28\",29:\"Class 29\",30:\"Class 30\",31:\"Class 31\",32:\"Class 32\",33:\"Class 33\",34:\"Class 34\"\n",
    "                ,35:\"Class 35\",36:\"Class 36\",37:\"Class 37\"}"
   ]
  },
  {
   "cell_type": "code",
   "execution_count": 31,
   "id": "9b1a2d38",
   "metadata": {
    "execution": {
     "iopub.execute_input": "2024-04-03T21:04:54.091602Z",
     "iopub.status.busy": "2024-04-03T21:04:54.090909Z",
     "iopub.status.idle": "2024-04-03T21:04:54.759663Z",
     "shell.execute_reply": "2024-04-03T21:04:54.758698Z"
    },
    "papermill": {
     "duration": 0.836095,
     "end_time": "2024-04-03T21:04:54.762111",
     "exception": false,
     "start_time": "2024-04-03T21:04:53.926016",
     "status": "completed"
    },
    "tags": []
   },
   "outputs": [],
   "source": [
    "from sklearn.manifold import TSNE\n",
    "tsne1 = TSNE(random_state = 42, n_components=2, verbose=0, perplexity=40, n_iter=300).fit_transform(y_pred)"
   ]
  },
  {
   "cell_type": "code",
   "execution_count": 32,
   "id": "c630bdc1",
   "metadata": {
    "execution": {
     "iopub.execute_input": "2024-04-03T21:04:55.080674Z",
     "iopub.status.busy": "2024-04-03T21:04:55.080240Z",
     "iopub.status.idle": "2024-04-03T21:04:55.093811Z",
     "shell.execute_reply": "2024-04-03T21:04:55.092813Z"
    },
    "papermill": {
     "duration": 0.17351,
     "end_time": "2024-04-03T21:04:55.096063",
     "exception": false,
     "start_time": "2024-04-03T21:04:54.922553",
     "status": "completed"
    },
    "tags": []
   },
   "outputs": [],
   "source": [
    "# create dataframe\n",
    "cps_df = pd.DataFrame(columns=['CP1', 'CP2', 'target'],\n",
    "                       data=np.column_stack((tsne1, \n",
    "                                            y_test1)))# cast targets column to int\n",
    "cps_df.loc[:, 'target'] = cps_df.target.astype(int)\n",
    "cps_df.loc[:, 'target'] = cps_df.target.map(target_name)"
   ]
  },
  {
   "cell_type": "code",
   "execution_count": 33,
   "id": "edeb9ff3",
   "metadata": {
    "execution": {
     "iopub.execute_input": "2024-04-03T21:04:55.465574Z",
     "iopub.status.busy": "2024-04-03T21:04:55.464644Z",
     "iopub.status.idle": "2024-04-03T21:04:56.266008Z",
     "shell.execute_reply": "2024-04-03T21:04:56.264938Z"
    },
    "papermill": {
     "duration": 1.01639,
     "end_time": "2024-04-03T21:04:56.268615",
     "exception": false,
     "start_time": "2024-04-03T21:04:55.252225",
     "status": "completed"
    },
    "tags": []
   },
   "outputs": [
    {
     "data": {
      "text/plain": [
       "<seaborn.axisgrid.FacetGrid at 0x7ff902e07df0>"
      ]
     },
     "execution_count": 33,
     "metadata": {},
     "output_type": "execute_result"
    },
    {
     "data": {
      "image/png": "[encoded data removed]",
      "text/plain": [
       "<Figure size 899.75x800 with 1 Axes>"
      ]
     },
     "metadata": {},
     "output_type": "display_data"
    }
   ],
   "source": [
    "import seaborn as sns\n",
    "d = {'color': [\"aqua\", \"darkorange\", \"cornflowerblue\",'#9e9e9e','#b19a7e','#CD5C5C','#DFFF00',\n",
    "                   '#DE3163','#ff4d4d','#CCCCFF','#800080','#4F1D25','#ccffcc','#ff0040'\n",
    "                   ,'#4000ff','#0080ff','#ff8000','#666600','#b37700','#00b3b3','#003300','#FFC300','#A6F7BD',\n",
    "                   '#A6BDF7','#CAA6F7','#F7A6AC','#ADF7A6','#F5F7A6','#F7CCA6','#EE4949',\n",
    "                    '#DEA41F','#334471','#33716F','#343371','#772CE3','#B8BF20','#666B01','#0B6B01',\n",
    "                    '#F4B708','#179690'] }\n",
    "grid = sns.FacetGrid(cps_df, hue=\"target\",hue_kws=d, height=8)\n",
    "grid.map(plt.scatter, 'CP1', 'CP2').add_legend()"
   ]
  },
  {
   "cell_type": "code",
   "execution_count": 34,
   "id": "9d1b3e89",
   "metadata": {
    "execution": {
     "iopub.execute_input": "2024-04-03T21:04:56.590404Z",
     "iopub.status.busy": "2024-04-03T21:04:56.589419Z",
     "iopub.status.idle": "2024-04-03T21:04:56.956195Z",
     "shell.execute_reply": "2024-04-03T21:04:56.955225Z"
    },
    "papermill": {
     "duration": 0.524342,
     "end_time": "2024-04-03T21:04:56.958677",
     "exception": false,
     "start_time": "2024-04-03T21:04:56.434335",
     "status": "completed"
    },
    "tags": []
   },
   "outputs": [],
   "source": [
    "model.save_weights('/kaggle/working/model1.weights.h5')"
   ]
  }
 ],
 "metadata": {
  "kaggle": {
   "accelerator": "gpu",
   "dataSources": [
    {
     "datasetId": 1254197,
     "sourceId": 2091656,
     "sourceType": "datasetVersion"
    }
   ],
   "dockerImageVersionId": 30674,
   "isGpuEnabled": true,
   "isInternetEnabled": true,
   "language": "python",
   "sourceType": "notebook"
  },
  "kernelspec": {
   "display_name": "Python 3",
   "language": "python",
   "name": "python3"
  },
  "language_info": {
   "codemirror_mode": {
    "name": "ipython",
    "version": 3
   },
   "file_extension": ".py",
   "mimetype": "text/x-python",
   "name": "python",
   "nbconvert_exporter": "python",
   "pygments_lexer": "ipython3",
   "version": "3.10.13"
  },
  "papermill": {
   "default_parameters": {},
   "duration": 473.585379,
   "end_time": "2024-04-03T21:04:59.736879",
   "environment_variables": {},
   "exception": null,
   "input_path": "__notebook__.ipynb",
   "output_path": "__notebook__.ipynb",
   "parameters": {},
   "start_time": "2024-04-03T20:57:06.151500",
   "version": "2.4.0"
  }
 },
 "nbformat": 4,
 "nbformat_minor": 5
}
