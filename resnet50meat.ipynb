{
 "cells": [
  {
   "cell_type": "code",
   "execution_count": 1,
   "id": "f007a500",
   "metadata": {
    "execution": {
     "iopub.execute_input": "2024-04-03T20:59:15.696782Z",
     "iopub.status.busy": "2024-04-03T20:59:15.696401Z",
     "iopub.status.idle": "2024-04-03T20:59:29.881786Z",
     "shell.execute_reply": "2024-04-03T20:59:29.880849Z"
    },
    "id": "zvP8pw6FhmeM",
    "outputId": "38657371-b3d9-4aee-9706-0284f2708292",
    "papermill": {
     "duration": 14.199962,
     "end_time": "2024-04-03T20:59:29.884416",
     "exception": false,
     "start_time": "2024-04-03T20:59:15.684454",
     "status": "completed"
    },
    "tags": []
   },
   "outputs": [
    {
     "name": "stderr",
     "output_type": "stream",
     "text": [
      "2024-04-03 20:59:17.570252: E external/local_xla/xla/stream_executor/cuda/cuda_dnn.cc:9261] Unable to register cuDNN factory: Attempting to register factory for plugin cuDNN when one has already been registered\n",
      "2024-04-03 20:59:17.570354: E external/local_xla/xla/stream_executor/cuda/cuda_fft.cc:607] Unable to register cuFFT factory: Attempting to register factory for plugin cuFFT when one has already been registered\n",
      "2024-04-03 20:59:17.735148: E external/local_xla/xla/stream_executor/cuda/cuda_blas.cc:1515] Unable to register cuBLAS factory: Attempting to register factory for plugin cuBLAS when one has already been registered\n"
     ]
    }
   ],
   "source": [
    "import numpy as np\n",
    "import tensorflow as tf\n",
    "from tensorflow import keras\n",
    "from tensorflow.keras import layers\n",
    "import tensorflow as tf\n",
    "import matplotlib.pyplot as plt\n",
    "from tensorflow.keras.preprocessing.image import ImageDataGenerator\n",
    "from PIL import Image\n",
    "import matplotlib.pyplot as plt\n",
    "import pandas as pd\n",
    "import numpy as np\n",
    "import seaborn as sb\n",
    "import os\n",
    "import warnings\n",
    "warnings.filterwarnings('ignore')\n",
    "import tensorflow as tf\n",
    "import glob as gb\n",
    "import cv2\n",
    "import keras\n",
    "import io\n",
    "import typing\n",
    "from keras import backend\n",
    "import math\n",
    "from keras.models import Sequential, Model,load_model\n",
    "from keras.callbacks import EarlyStopping,ModelCheckpoint\n",
    "from keras.layers import Dropout, Input, Add, Dense, Activation, ZeroPadding2D, BatchNormalization, Flatten, Conv2D, AveragePooling2D, MaxPooling2D, GlobalMaxPooling2D,MaxPool2D\n",
    "from keras.preprocessing import image\n",
    "from keras.initializers import glorot_uniform\n",
    "from sklearn.metrics import classification_report\n",
    "\n",
    "from sklearn.metrics import accuracy_score\n",
    "from sklearn.metrics import precision_score\n",
    "from sklearn.metrics import recall_score\n",
    "from sklearn.metrics import f1_score\n",
    "from sklearn.metrics import roc_auc_score\n",
    "\n",
    "\n",
    "import matplotlib.pyplot as plt \n",
    "from sklearn.preprocessing import LabelBinarizer\n",
    "from sklearn.metrics import roc_curve, auc, roc_auc_score\n",
    "from itertools import cycle\n",
    "import itertools \n",
    "\n",
    "#Model Graphs\n",
    "from sklearn.metrics import confusion_matrix\n",
    "from sklearn.metrics import ConfusionMatrixDisplay\n",
    "\n",
    "\n",
    "from tensorflow.keras.layers import Input, Conv2D, BatchNormalization, Dense\n",
    "from tensorflow.keras.layers import AvgPool2D, GlobalAveragePooling2D, MaxPool2D\n",
    "from tensorflow.keras.models import Model\n",
    "from tensorflow.keras.layers import ReLU, concatenate\n",
    "import tensorflow.keras.backend as K\n",
    "from tensorflow.keras import layers"
   ]
  },
  {
   "cell_type": "code",
   "execution_count": 2,
   "id": "e1ddff21",
   "metadata": {
    "execution": {
     "iopub.execute_input": "2024-04-03T20:59:29.905914Z",
     "iopub.status.busy": "2024-04-03T20:59:29.905355Z",
     "iopub.status.idle": "2024-04-03T20:59:43.862010Z",
     "shell.execute_reply": "2024-04-03T20:59:43.860887Z"
    },
    "id": "nivPNlXnNF3S",
    "outputId": "0cfaffbf-4ac7-451a-c6ac-32a4de7da851",
    "papermill": {
     "duration": 13.969724,
     "end_time": "2024-04-03T20:59:43.864514",
     "exception": false,
     "start_time": "2024-04-03T20:59:29.894790",
     "status": "completed"
    },
    "tags": []
   },
   "outputs": [
    {
     "name": "stdout",
     "output_type": "stream",
     "text": [
      "Collecting split-folders\r\n",
      "  Downloading split_folders-0.5.1-py3-none-any.whl.metadata (6.2 kB)\r\n",
      "Downloading split_folders-0.5.1-py3-none-any.whl (8.4 kB)\r\n",
      "Installing collected packages: split-folders\r\n",
      "Successfully installed split-folders-0.5.1\r\n"
     ]
    }
   ],
   "source": [
    "!pip install split-folders"
   ]
  },
  {
   "cell_type": "code",
   "execution_count": 3,
   "id": "d7fc54e6",
   "metadata": {
    "execution": {
     "iopub.execute_input": "2024-04-03T20:59:43.888204Z",
     "iopub.status.busy": "2024-04-03T20:59:43.887344Z",
     "iopub.status.idle": "2024-04-03T20:59:54.581981Z",
     "shell.execute_reply": "2024-04-03T20:59:54.581007Z"
    },
    "id": "h6EIyFq8NF3Y",
    "outputId": "0a1f7851-271d-4c2e-9a9e-21483c07b816",
    "papermill": {
     "duration": 10.708744,
     "end_time": "2024-04-03T20:59:54.584179",
     "exception": false,
     "start_time": "2024-04-03T20:59:43.875435",
     "status": "completed"
    },
    "tags": []
   },
   "outputs": [
    {
     "name": "stderr",
     "output_type": "stream",
     "text": [
      "Copying files: 1896 files [00:10, 177.79 files/s]\n"
     ]
    }
   ],
   "source": [
    "import splitfolders\n",
    "\n",
    "# Split with a ratio.\n",
    "# To only split into training and validation set, set a tuple to `ratio`, i.e, `(.8, .2)`.\n",
    "splitfolders.ratio(\"/kaggle/input/meat-quality-assessment-based-on-deep-learning/\", output=\"./new\",\n",
    "    seed=1337, ratio=(.8, .1, .1), group_prefix=None, move=False)"
   ]
  },
  {
   "cell_type": "code",
   "execution_count": 4,
   "id": "1dc94e0d",
   "metadata": {
    "execution": {
     "iopub.execute_input": "2024-04-03T20:59:54.624957Z",
     "iopub.status.busy": "2024-04-03T20:59:54.624148Z",
     "iopub.status.idle": "2024-04-03T20:59:54.628623Z",
     "shell.execute_reply": "2024-04-03T20:59:54.627875Z"
    },
    "id": "XZIDSMdwNF3d",
    "papermill": {
     "duration": 0.027688,
     "end_time": "2024-04-03T20:59:54.630929",
     "exception": false,
     "start_time": "2024-04-03T20:59:54.603241",
     "status": "completed"
    },
    "tags": []
   },
   "outputs": [],
   "source": [
    "train_path='/kaggle/working/new/train/'\n",
    "test_path='/kaggle/working/new/test/'\n",
    "val_path='/kaggle/working/new/val/'"
   ]
  },
  {
   "cell_type": "code",
   "execution_count": 5,
   "id": "8c9e3bc7",
   "metadata": {
    "execution": {
     "iopub.execute_input": "2024-04-03T20:59:54.669485Z",
     "iopub.status.busy": "2024-04-03T20:59:54.668941Z",
     "iopub.status.idle": "2024-04-03T20:59:54.673491Z",
     "shell.execute_reply": "2024-04-03T20:59:54.672607Z"
    },
    "id": "IxP2BPegNF3f",
    "papermill": {
     "duration": 0.026403,
     "end_time": "2024-04-03T20:59:54.675445",
     "exception": false,
     "start_time": "2024-04-03T20:59:54.649042",
     "status": "completed"
    },
    "tags": []
   },
   "outputs": [],
   "source": [
    "traingen = tf.keras.preprocessing.image.ImageDataGenerator()\n",
    "testgen = tf.keras.preprocessing.image.ImageDataGenerator()\n",
    "validgen =tf.keras.preprocessing.image.ImageDataGenerator()"
   ]
  },
  {
   "cell_type": "code",
   "execution_count": 6,
   "id": "6e912b2e",
   "metadata": {
    "execution": {
     "iopub.execute_input": "2024-04-03T20:59:54.712971Z",
     "iopub.status.busy": "2024-04-03T20:59:54.712435Z",
     "iopub.status.idle": "2024-04-03T20:59:54.787043Z",
     "shell.execute_reply": "2024-04-03T20:59:54.786116Z"
    },
    "id": "GuXw2uzFNF3h",
    "outputId": "67481c8a-a91a-4854-a60e-e744ce5bec97",
    "papermill": {
     "duration": 0.09531,
     "end_time": "2024-04-03T20:59:54.788996",
     "exception": false,
     "start_time": "2024-04-03T20:59:54.693686",
     "status": "completed"
    },
    "tags": []
   },
   "outputs": [
    {
     "name": "stdout",
     "output_type": "stream",
     "text": [
      "Found 1516 images belonging to 2 classes.\n",
      "Found 192 images belonging to 2 classes.\n",
      "Found 188 images belonging to 2 classes.\n"
     ]
    }
   ],
   "source": [
    "train_ds=traingen.flow_from_directory(batch_size=32,directory=train_path,shuffle=True,\n",
    "                                                 target_size=(224,224),class_mode='categorical')\n",
    "test_ds=traingen.flow_from_directory(batch_size=32,directory=test_path,shuffle=False,target_size=(224,224), \n",
    "                                                 class_mode='categorical')\n",
    "\n",
    "val_ds=traingen.flow_from_directory(batch_size=32,directory=val_path,shuffle=True,target_size=(224,224), \n",
    "                                                 class_mode='categorical')"
   ]
  },
  {
   "cell_type": "code",
   "execution_count": 7,
   "id": "b4e6c9a4",
   "metadata": {
    "execution": {
     "iopub.execute_input": "2024-04-03T20:59:54.827733Z",
     "iopub.status.busy": "2024-04-03T20:59:54.827099Z",
     "iopub.status.idle": "2024-04-03T21:00:00.289058Z",
     "shell.execute_reply": "2024-04-03T21:00:00.288005Z"
    },
    "papermill": {
     "duration": 5.484351,
     "end_time": "2024-04-03T21:00:00.291539",
     "exception": false,
     "start_time": "2024-04-03T20:59:54.807188",
     "status": "completed"
    },
    "tags": []
   },
   "outputs": [
    {
     "name": "stdout",
     "output_type": "stream",
     "text": [
      "Downloading data from https://storage.googleapis.com/tensorflow/keras-applications/resnet/resnet50_weights_tf_dim_ordering_tf_kernels_notop.h5\n",
      "\u001b[1m94765736/94765736\u001b[0m \u001b[32m━━━━━━━━━━━━━━━━━━━━\u001b[0m\u001b[37m\u001b[0m \u001b[1m3s\u001b[0m 0us/step\n"
     ]
    }
   ],
   "source": [
    "from tensorflow.keras.applications import ResNet50\n",
    "\n",
    "base_model = ResNet50(weights=\"imagenet\", include_top=False, input_shape=(224,224,3))\n",
    "base_model.trainable = False"
   ]
  },
  {
   "cell_type": "code",
   "execution_count": 8,
   "id": "1bd4769e",
   "metadata": {
    "execution": {
     "iopub.execute_input": "2024-04-03T21:00:00.348002Z",
     "iopub.status.busy": "2024-04-03T21:00:00.347651Z",
     "iopub.status.idle": "2024-04-03T21:00:00.355707Z",
     "shell.execute_reply": "2024-04-03T21:00:00.354710Z"
    },
    "papermill": {
     "duration": 0.041916,
     "end_time": "2024-04-03T21:00:00.357879",
     "exception": false,
     "start_time": "2024-04-03T21:00:00.315963",
     "status": "completed"
    },
    "tags": []
   },
   "outputs": [],
   "source": [
    "from tensorflow.keras import layers, models\n",
    "\n",
    "global_layer = GlobalAveragePooling2D()\n",
    "prediction_layer = layers.Dense(2, activation='softmax')\n",
    "\n",
    "\n",
    "model = models.Sequential([\n",
    "    base_model,\n",
    "    global_layer,\n",
    "   \n",
    "    prediction_layer\n",
    "])"
   ]
  },
  {
   "cell_type": "code",
   "execution_count": 9,
   "id": "406f38dd",
   "metadata": {
    "execution": {
     "iopub.execute_input": "2024-04-03T21:00:00.413574Z",
     "iopub.status.busy": "2024-04-03T21:00:00.412589Z",
     "iopub.status.idle": "2024-04-03T21:00:00.442376Z",
     "shell.execute_reply": "2024-04-03T21:00:00.441507Z"
    },
    "papermill": {
     "duration": 0.059943,
     "end_time": "2024-04-03T21:00:00.444668",
     "exception": false,
     "start_time": "2024-04-03T21:00:00.384725",
     "status": "completed"
    },
    "tags": []
   },
   "outputs": [
    {
     "data": {
      "text/html": [
       "<pre style=\"white-space:pre;overflow-x:auto;line-height:normal;font-family:Menlo,'DejaVu Sans Mono',consolas,'Courier New',monospace\"><span style=\"font-weight: bold\">Model: \"sequential\"</span>\n",
       "</pre>\n"
      ],
      "text/plain": [
       "\u001b[1mModel: \"sequential\"\u001b[0m\n"
      ]
     },
     "metadata": {},
     "output_type": "display_data"
    },
    {
     "data": {
      "text/html": [
       "<pre style=\"white-space:pre;overflow-x:auto;line-height:normal;font-family:Menlo,'DejaVu Sans Mono',consolas,'Courier New',monospace\">┏━━━━━━━━━━━━━━━━━━━━━━━━━━━━━━━━━┳━━━━━━━━━━━━━━━━━━━━━━━━┳━━━━━━━━━━━━━━━┓\n",
       "┃<span style=\"font-weight: bold\"> Layer (type)                    </span>┃<span style=\"font-weight: bold\"> Output Shape           </span>┃<span style=\"font-weight: bold\">       Param # </span>┃\n",
       "┡━━━━━━━━━━━━━━━━━━━━━━━━━━━━━━━━━╇━━━━━━━━━━━━━━━━━━━━━━━━╇━━━━━━━━━━━━━━━┩\n",
       "│ resnet50 (<span style=\"color: #0087ff; text-decoration-color: #0087ff\">Functional</span>)           │ ?                      │    <span style=\"color: #00af00; text-decoration-color: #00af00\">23,587,712</span> │\n",
       "├─────────────────────────────────┼────────────────────────┼───────────────┤\n",
       "│ global_average_pooling2d        │ ?                      │   <span style=\"color: #00af00; text-decoration-color: #00af00\">0</span> (unbuilt) │\n",
       "│ (<span style=\"color: #0087ff; text-decoration-color: #0087ff\">GlobalAveragePooling2D</span>)        │                        │               │\n",
       "├─────────────────────────────────┼────────────────────────┼───────────────┤\n",
       "│ dense (<span style=\"color: #0087ff; text-decoration-color: #0087ff\">Dense</span>)                   │ ?                      │   <span style=\"color: #00af00; text-decoration-color: #00af00\">0</span> (unbuilt) │\n",
       "└─────────────────────────────────┴────────────────────────┴───────────────┘\n",
       "</pre>\n"
      ],
      "text/plain": [
       "┏━━━━━━━━━━━━━━━━━━━━━━━━━━━━━━━━━┳━━━━━━━━━━━━━━━━━━━━━━━━┳━━━━━━━━━━━━━━━┓\n",
       "┃\u001b[1m \u001b[0m\u001b[1mLayer (type)                   \u001b[0m\u001b[1m \u001b[0m┃\u001b[1m \u001b[0m\u001b[1mOutput Shape          \u001b[0m\u001b[1m \u001b[0m┃\u001b[1m \u001b[0m\u001b[1m      Param #\u001b[0m\u001b[1m \u001b[0m┃\n",
       "┡━━━━━━━━━━━━━━━━━━━━━━━━━━━━━━━━━╇━━━━━━━━━━━━━━━━━━━━━━━━╇━━━━━━━━━━━━━━━┩\n",
       "│ resnet50 (\u001b[38;5;33mFunctional\u001b[0m)           │ ?                      │    \u001b[38;5;34m23,587,712\u001b[0m │\n",
       "├─────────────────────────────────┼────────────────────────┼───────────────┤\n",
       "│ global_average_pooling2d        │ ?                      │   \u001b[38;5;34m0\u001b[0m (unbuilt) │\n",
       "│ (\u001b[38;5;33mGlobalAveragePooling2D\u001b[0m)        │                        │               │\n",
       "├─────────────────────────────────┼────────────────────────┼───────────────┤\n",
       "│ dense (\u001b[38;5;33mDense\u001b[0m)                   │ ?                      │   \u001b[38;5;34m0\u001b[0m (unbuilt) │\n",
       "└─────────────────────────────────┴────────────────────────┴───────────────┘\n"
      ]
     },
     "metadata": {},
     "output_type": "display_data"
    },
    {
     "data": {
      "text/html": [
       "<pre style=\"white-space:pre;overflow-x:auto;line-height:normal;font-family:Menlo,'DejaVu Sans Mono',consolas,'Courier New',monospace\"><span style=\"font-weight: bold\"> Total params: </span><span style=\"color: #00af00; text-decoration-color: #00af00\">23,587,712</span> (89.98 MB)\n",
       "</pre>\n"
      ],
      "text/plain": [
       "\u001b[1m Total params: \u001b[0m\u001b[38;5;34m23,587,712\u001b[0m (89.98 MB)\n"
      ]
     },
     "metadata": {},
     "output_type": "display_data"
    },
    {
     "data": {
      "text/html": [
       "<pre style=\"white-space:pre;overflow-x:auto;line-height:normal;font-family:Menlo,'DejaVu Sans Mono',consolas,'Courier New',monospace\"><span style=\"font-weight: bold\"> Trainable params: </span><span style=\"color: #00af00; text-decoration-color: #00af00\">0</span> (0.00 B)\n",
       "</pre>\n"
      ],
      "text/plain": [
       "\u001b[1m Trainable params: \u001b[0m\u001b[38;5;34m0\u001b[0m (0.00 B)\n"
      ]
     },
     "metadata": {},
     "output_type": "display_data"
    },
    {
     "data": {
      "text/html": [
       "<pre style=\"white-space:pre;overflow-x:auto;line-height:normal;font-family:Menlo,'DejaVu Sans Mono',consolas,'Courier New',monospace\"><span style=\"font-weight: bold\"> Non-trainable params: </span><span style=\"color: #00af00; text-decoration-color: #00af00\">23,587,712</span> (89.98 MB)\n",
       "</pre>\n"
      ],
      "text/plain": [
       "\u001b[1m Non-trainable params: \u001b[0m\u001b[38;5;34m23,587,712\u001b[0m (89.98 MB)\n"
      ]
     },
     "metadata": {},
     "output_type": "display_data"
    }
   ],
   "source": [
    "model.summary()"
   ]
  },
  {
   "cell_type": "code",
   "execution_count": 10,
   "id": "a4f1ab3b",
   "metadata": {
    "execution": {
     "iopub.execute_input": "2024-04-03T21:00:00.502767Z",
     "iopub.status.busy": "2024-04-03T21:00:00.501714Z",
     "iopub.status.idle": "2024-04-03T21:00:00.508604Z",
     "shell.execute_reply": "2024-04-03T21:00:00.507778Z"
    },
    "id": "qxnjxaIjNF3y",
    "papermill": {
     "duration": 0.037233,
     "end_time": "2024-04-03T21:00:00.510516",
     "exception": false,
     "start_time": "2024-04-03T21:00:00.473283",
     "status": "completed"
    },
    "tags": []
   },
   "outputs": [],
   "source": [
    "callback = tf.keras.callbacks.EarlyStopping(monitor='val_loss', patience=10)"
   ]
  },
  {
   "cell_type": "code",
   "execution_count": 11,
   "id": "cc4c3700",
   "metadata": {
    "execution": {
     "iopub.execute_input": "2024-04-03T21:00:00.576052Z",
     "iopub.status.busy": "2024-04-03T21:00:00.575367Z",
     "iopub.status.idle": "2024-04-03T21:00:00.596485Z",
     "shell.execute_reply": "2024-04-03T21:00:00.595597Z"
    },
    "id": "7qic40JXNF3y",
    "papermill": {
     "duration": 0.059218,
     "end_time": "2024-04-03T21:00:00.598957",
     "exception": false,
     "start_time": "2024-04-03T21:00:00.539739",
     "status": "completed"
    },
    "tags": []
   },
   "outputs": [],
   "source": [
    "model.compile(\n",
    "    loss=keras.losses.CategoricalCrossentropy(),optimizer = tf.keras.optimizers.Adam(beta_1=0.9,\n",
    "    beta_2=0.999),\n",
    "    metrics=[keras.metrics.CategoricalAccuracy(name=\"accuracy\")],\n",
    ")"
   ]
  },
  {
   "cell_type": "code",
   "execution_count": 12,
   "id": "cef26458",
   "metadata": {
    "execution": {
     "iopub.execute_input": "2024-04-03T21:00:00.652749Z",
     "iopub.status.busy": "2024-04-03T21:00:00.652030Z",
     "iopub.status.idle": "2024-04-03T21:05:51.223578Z",
     "shell.execute_reply": "2024-04-03T21:05:51.222785Z"
    },
    "id": "kUox8hWbSjqX",
    "outputId": "164b0024-0167-4ade-fffa-de8c8c095045",
    "papermill": {
     "duration": 350.598209,
     "end_time": "2024-04-03T21:05:51.225668",
     "exception": false,
     "start_time": "2024-04-03T21:00:00.627459",
     "status": "completed"
    },
    "tags": []
   },
   "outputs": [
    {
     "name": "stdout",
     "output_type": "stream",
     "text": [
      "Epoch 1/30\n",
      "\u001b[1m 2/48\u001b[0m \u001b[37m━━━━━━━━━━━━━━━━━━━━\u001b[0m \u001b[1m2s\u001b[0m 51ms/step - accuracy: 0.8672 - loss: 0.5790  "
     ]
    },
    {
     "name": "stderr",
     "output_type": "stream",
     "text": [
      "WARNING: All log messages before absl::InitializeLog() is called are written to STDERR\n",
      "I0000 00:00:1712178016.229774      95 device_compiler.h:186] Compiled cluster using XLA!  This line is logged at most once for the lifetime of the process.\n",
      "W0000 00:00:1712178016.282778      95 graph_launch.cc:671] Fallback to op-by-op mode because memset node breaks graph update\n"
     ]
    },
    {
     "name": "stdout",
     "output_type": "stream",
     "text": [
      "\u001b[1m47/48\u001b[0m \u001b[32m━━━━━━━━━━━━━━━━━━━\u001b[0m\u001b[37m━\u001b[0m \u001b[1m0s\u001b[0m 258ms/step - accuracy: 0.9016 - loss: 0.3429"
     ]
    },
    {
     "name": "stderr",
     "output_type": "stream",
     "text": [
      "W0000 00:00:1712178032.701607      98 graph_launch.cc:671] Fallback to op-by-op mode because memset node breaks graph update\n"
     ]
    },
    {
     "name": "stdout",
     "output_type": "stream",
     "text": [
      "\u001b[1m48/48\u001b[0m \u001b[32m━━━━━━━━━━━━━━━━━━━━\u001b[0m\u001b[37m\u001b[0m \u001b[1m37s\u001b[0m 462ms/step - accuracy: 0.9032 - loss: 0.3379 - val_accuracy: 0.9787 - val_loss: 0.0887\n",
      "Epoch 2/30\n",
      "\u001b[1m48/48\u001b[0m \u001b[32m━━━━━━━━━━━━━━━━━━━━\u001b[0m\u001b[37m\u001b[0m \u001b[1m11s\u001b[0m 195ms/step - accuracy: 0.9745 - loss: 0.0906 - val_accuracy: 0.9894 - val_loss: 0.0644\n",
      "Epoch 3/30\n",
      "\u001b[1m48/48\u001b[0m \u001b[32m━━━━━━━━━━━━━━━━━━━━\u001b[0m\u001b[37m\u001b[0m \u001b[1m10s\u001b[0m 190ms/step - accuracy: 0.9714 - loss: 0.0772 - val_accuracy: 0.9894 - val_loss: 0.0499\n",
      "Epoch 4/30\n",
      "\u001b[1m48/48\u001b[0m \u001b[32m━━━━━━━━━━━━━━━━━━━━\u001b[0m\u001b[37m\u001b[0m \u001b[1m11s\u001b[0m 205ms/step - accuracy: 0.9815 - loss: 0.0587 - val_accuracy: 0.9787 - val_loss: 0.0433\n",
      "Epoch 5/30\n",
      "\u001b[1m48/48\u001b[0m \u001b[32m━━━━━━━━━━━━━━━━━━━━\u001b[0m\u001b[37m\u001b[0m \u001b[1m11s\u001b[0m 201ms/step - accuracy: 0.9763 - loss: 0.0580 - val_accuracy: 0.9894 - val_loss: 0.0389\n",
      "Epoch 6/30\n",
      "\u001b[1m48/48\u001b[0m \u001b[32m━━━━━━━━━━━━━━━━━━━━\u001b[0m\u001b[37m\u001b[0m \u001b[1m11s\u001b[0m 203ms/step - accuracy: 0.9837 - loss: 0.0470 - val_accuracy: 0.9894 - val_loss: 0.0496\n",
      "Epoch 7/30\n",
      "\u001b[1m48/48\u001b[0m \u001b[32m━━━━━━━━━━━━━━━━━━━━\u001b[0m\u001b[37m\u001b[0m \u001b[1m11s\u001b[0m 196ms/step - accuracy: 0.9826 - loss: 0.0499 - val_accuracy: 0.9894 - val_loss: 0.0304\n",
      "Epoch 8/30\n",
      "\u001b[1m48/48\u001b[0m \u001b[32m━━━━━━━━━━━━━━━━━━━━\u001b[0m\u001b[37m\u001b[0m \u001b[1m11s\u001b[0m 197ms/step - accuracy: 0.9873 - loss: 0.0375 - val_accuracy: 0.9947 - val_loss: 0.0288\n",
      "Epoch 9/30\n",
      "\u001b[1m48/48\u001b[0m \u001b[32m━━━━━━━━━━━━━━━━━━━━\u001b[0m\u001b[37m\u001b[0m \u001b[1m10s\u001b[0m 191ms/step - accuracy: 0.9804 - loss: 0.0445 - val_accuracy: 0.9894 - val_loss: 0.0264\n",
      "Epoch 10/30\n",
      "\u001b[1m48/48\u001b[0m \u001b[32m━━━━━━━━━━━━━━━━━━━━\u001b[0m\u001b[37m\u001b[0m \u001b[1m11s\u001b[0m 200ms/step - accuracy: 0.9865 - loss: 0.0426 - val_accuracy: 0.9787 - val_loss: 0.0384\n",
      "Epoch 11/30\n",
      "\u001b[1m48/48\u001b[0m \u001b[32m━━━━━━━━━━━━━━━━━━━━\u001b[0m\u001b[37m\u001b[0m \u001b[1m11s\u001b[0m 195ms/step - accuracy: 0.9805 - loss: 0.0440 - val_accuracy: 0.9894 - val_loss: 0.0239\n",
      "Epoch 12/30\n",
      "\u001b[1m48/48\u001b[0m \u001b[32m━━━━━━━━━━━━━━━━━━━━\u001b[0m\u001b[37m\u001b[0m \u001b[1m11s\u001b[0m 196ms/step - accuracy: 0.9792 - loss: 0.0395 - val_accuracy: 0.9947 - val_loss: 0.0214\n",
      "Epoch 13/30\n",
      "\u001b[1m48/48\u001b[0m \u001b[32m━━━━━━━━━━━━━━━━━━━━\u001b[0m\u001b[37m\u001b[0m \u001b[1m11s\u001b[0m 192ms/step - accuracy: 0.9932 - loss: 0.0304 - val_accuracy: 0.9947 - val_loss: 0.0207\n",
      "Epoch 14/30\n",
      "\u001b[1m48/48\u001b[0m \u001b[32m━━━━━━━━━━━━━━━━━━━━\u001b[0m\u001b[37m\u001b[0m \u001b[1m10s\u001b[0m 190ms/step - accuracy: 0.9900 - loss: 0.0332 - val_accuracy: 0.9894 - val_loss: 0.0241\n",
      "Epoch 15/30\n",
      "\u001b[1m48/48\u001b[0m \u001b[32m━━━━━━━━━━━━━━━━━━━━\u001b[0m\u001b[37m\u001b[0m \u001b[1m11s\u001b[0m 201ms/step - accuracy: 0.9898 - loss: 0.0299 - val_accuracy: 1.0000 - val_loss: 0.0197\n",
      "Epoch 16/30\n",
      "\u001b[1m48/48\u001b[0m \u001b[32m━━━━━━━━━━━━━━━━━━━━\u001b[0m\u001b[37m\u001b[0m \u001b[1m11s\u001b[0m 199ms/step - accuracy: 0.9895 - loss: 0.0282 - val_accuracy: 0.9947 - val_loss: 0.0182\n",
      "Epoch 17/30\n",
      "\u001b[1m48/48\u001b[0m \u001b[32m━━━━━━━━━━━━━━━━━━━━\u001b[0m\u001b[37m\u001b[0m \u001b[1m11s\u001b[0m 193ms/step - accuracy: 0.9927 - loss: 0.0288 - val_accuracy: 0.9947 - val_loss: 0.0184\n",
      "Epoch 18/30\n",
      "\u001b[1m48/48\u001b[0m \u001b[32m━━━━━━━━━━━━━━━━━━━━\u001b[0m\u001b[37m\u001b[0m \u001b[1m11s\u001b[0m 195ms/step - accuracy: 0.9904 - loss: 0.0289 - val_accuracy: 0.9894 - val_loss: 0.0239\n",
      "Epoch 19/30\n",
      "\u001b[1m48/48\u001b[0m \u001b[32m━━━━━━━━━━━━━━━━━━━━\u001b[0m\u001b[37m\u001b[0m \u001b[1m11s\u001b[0m 191ms/step - accuracy: 0.9874 - loss: 0.0256 - val_accuracy: 0.9947 - val_loss: 0.0200\n",
      "Epoch 20/30\n",
      "\u001b[1m48/48\u001b[0m \u001b[32m━━━━━━━━━━━━━━━━━━━━\u001b[0m\u001b[37m\u001b[0m \u001b[1m10s\u001b[0m 186ms/step - accuracy: 0.9943 - loss: 0.0236 - val_accuracy: 0.9947 - val_loss: 0.0159\n",
      "Epoch 21/30\n",
      "\u001b[1m48/48\u001b[0m \u001b[32m━━━━━━━━━━━━━━━━━━━━\u001b[0m\u001b[37m\u001b[0m \u001b[1m11s\u001b[0m 193ms/step - accuracy: 0.9967 - loss: 0.0204 - val_accuracy: 0.9894 - val_loss: 0.0185\n",
      "Epoch 22/30\n",
      "\u001b[1m48/48\u001b[0m \u001b[32m━━━━━━━━━━━━━━━━━━━━\u001b[0m\u001b[37m\u001b[0m \u001b[1m11s\u001b[0m 192ms/step - accuracy: 0.9927 - loss: 0.0241 - val_accuracy: 1.0000 - val_loss: 0.0145\n",
      "Epoch 23/30\n",
      "\u001b[1m48/48\u001b[0m \u001b[32m━━━━━━━━━━━━━━━━━━━━\u001b[0m\u001b[37m\u001b[0m \u001b[1m11s\u001b[0m 192ms/step - accuracy: 0.9897 - loss: 0.0235 - val_accuracy: 0.9947 - val_loss: 0.0191\n",
      "Epoch 24/30\n",
      "\u001b[1m48/48\u001b[0m \u001b[32m━━━━━━━━━━━━━━━━━━━━\u001b[0m\u001b[37m\u001b[0m \u001b[1m11s\u001b[0m 204ms/step - accuracy: 0.9841 - loss: 0.0326 - val_accuracy: 0.9947 - val_loss: 0.0134\n",
      "Epoch 25/30\n",
      "\u001b[1m48/48\u001b[0m \u001b[32m━━━━━━━━━━━━━━━━━━━━\u001b[0m\u001b[37m\u001b[0m \u001b[1m11s\u001b[0m 196ms/step - accuracy: 0.9950 - loss: 0.0181 - val_accuracy: 1.0000 - val_loss: 0.0131\n",
      "Epoch 26/30\n",
      "\u001b[1m48/48\u001b[0m \u001b[32m━━━━━━━━━━━━━━━━━━━━\u001b[0m\u001b[37m\u001b[0m \u001b[1m11s\u001b[0m 198ms/step - accuracy: 0.9915 - loss: 0.0245 - val_accuracy: 1.0000 - val_loss: 0.0129\n",
      "Epoch 27/30\n",
      "\u001b[1m48/48\u001b[0m \u001b[32m━━━━━━━━━━━━━━━━━━━━\u001b[0m\u001b[37m\u001b[0m \u001b[1m11s\u001b[0m 204ms/step - accuracy: 0.9863 - loss: 0.0275 - val_accuracy: 0.9947 - val_loss: 0.0151\n",
      "Epoch 28/30\n",
      "\u001b[1m48/48\u001b[0m \u001b[32m━━━━━━━━━━━━━━━━━━━━\u001b[0m\u001b[37m\u001b[0m \u001b[1m11s\u001b[0m 194ms/step - accuracy: 0.9939 - loss: 0.0236 - val_accuracy: 0.9947 - val_loss: 0.0123\n",
      "Epoch 29/30\n",
      "\u001b[1m48/48\u001b[0m \u001b[32m━━━━━━━━━━━━━━━━━━━━\u001b[0m\u001b[37m\u001b[0m \u001b[1m11s\u001b[0m 191ms/step - accuracy: 0.9953 - loss: 0.0182 - val_accuracy: 0.9947 - val_loss: 0.0133\n",
      "Epoch 30/30\n",
      "\u001b[1m48/48\u001b[0m \u001b[32m━━━━━━━━━━━━━━━━━━━━\u001b[0m\u001b[37m\u001b[0m \u001b[1m11s\u001b[0m 194ms/step - accuracy: 0.9946 - loss: 0.0200 - val_accuracy: 0.9894 - val_loss: 0.0171\n"
     ]
    }
   ],
   "source": [
    "history = model.fit(train_ds,\n",
    "                 validation_data=val_ds,batch_size=32,epochs=30,\n",
    "                    verbose=1 )"
   ]
  },
  {
   "cell_type": "code",
   "execution_count": 13,
   "id": "402243fe",
   "metadata": {
    "execution": {
     "iopub.execute_input": "2024-04-03T21:05:51.507875Z",
     "iopub.status.busy": "2024-04-03T21:05:51.507246Z",
     "iopub.status.idle": "2024-04-03T21:05:56.864916Z",
     "shell.execute_reply": "2024-04-03T21:05:56.863883Z"
    },
    "id": "MMkmRvtYNF32",
    "papermill": {
     "duration": 5.50052,
     "end_time": "2024-04-03T21:05:56.867186",
     "exception": false,
     "start_time": "2024-04-03T21:05:51.366666",
     "status": "completed"
    },
    "tags": []
   },
   "outputs": [
    {
     "name": "stdout",
     "output_type": "stream",
     "text": [
      "\u001b[1m1/6\u001b[0m \u001b[32m━━━\u001b[0m\u001b[37m━━━━━━━━━━━━━━━━━\u001b[0m \u001b[1m21s\u001b[0m 4s/step"
     ]
    },
    {
     "name": "stderr",
     "output_type": "stream",
     "text": [
      "W0000 00:00:1712178356.021808      96 graph_launch.cc:671] Fallback to op-by-op mode because memset node breaks graph update\n"
     ]
    },
    {
     "name": "stdout",
     "output_type": "stream",
     "text": [
      "\u001b[1m6/6\u001b[0m \u001b[32m━━━━━━━━━━━━━━━━━━━━\u001b[0m\u001b[37m\u001b[0m \u001b[1m5s\u001b[0m 158ms/step\n"
     ]
    }
   ],
   "source": [
    "from tensorflow.keras.utils import to_categorical\n",
    "y_pred = model.predict(test_ds)\n",
    "y_pred2= to_categorical(np.argmax(y_pred, axis=1), 2)\n",
    "\n",
    "y_test= to_categorical(test_ds.labels, 2)\n",
    "\n",
    "# Using it in AUC\n",
    "y_pred1=(np.argmax(y_pred, axis=1))\n",
    "y_test1=(np.argmax(y_test, axis=1))"
   ]
  },
  {
   "cell_type": "code",
   "execution_count": 14,
   "id": "f4f3e4ad",
   "metadata": {
    "execution": {
     "iopub.execute_input": "2024-04-03T21:05:57.145412Z",
     "iopub.status.busy": "2024-04-03T21:05:57.145001Z",
     "iopub.status.idle": "2024-04-03T21:05:57.150408Z",
     "shell.execute_reply": "2024-04-03T21:05:57.149313Z"
    },
    "id": "5T7AcO-qNF39",
    "papermill": {
     "duration": 0.144571,
     "end_time": "2024-04-03T21:05:57.152462",
     "exception": false,
     "start_time": "2024-04-03T21:05:57.007891",
     "status": "completed"
    },
    "tags": []
   },
   "outputs": [],
   "source": [
    "# Computing the Accuracy Score  : ((TP + TN) / float(TP + TN + FP + FN))\n",
    "def Accuracy(y_test , y_pred):\n",
    "    AccScore = accuracy_score(y_test, y_pred, normalize=True)\n",
    "    return AccScore"
   ]
  },
  {
   "cell_type": "code",
   "execution_count": 15,
   "id": "0cae12f5",
   "metadata": {
    "execution": {
     "iopub.execute_input": "2024-04-03T21:05:57.436627Z",
     "iopub.status.busy": "2024-04-03T21:05:57.435736Z",
     "iopub.status.idle": "2024-04-03T21:05:57.440855Z",
     "shell.execute_reply": "2024-04-03T21:05:57.439866Z"
    },
    "id": "F4ybNB84NF3-",
    "papermill": {
     "duration": 0.150191,
     "end_time": "2024-04-03T21:05:57.442905",
     "exception": false,
     "start_time": "2024-04-03T21:05:57.292714",
     "status": "completed"
    },
    "tags": []
   },
   "outputs": [],
   "source": [
    "#Computing the Precision metric (Some times called Specificity): #(True Positives / float(True Positives + False Posivites))  \n",
    "def macro_precision(y_test , y_pred):\n",
    "    PrecisionScore = precision_score(y_test, y_pred, average='macro') \n",
    "    return PrecisionScore"
   ]
  },
  {
   "cell_type": "code",
   "execution_count": 16,
   "id": "f12b3aee",
   "metadata": {
    "execution": {
     "iopub.execute_input": "2024-04-03T21:05:57.728239Z",
     "iopub.status.busy": "2024-04-03T21:05:57.727813Z",
     "iopub.status.idle": "2024-04-03T21:05:57.732966Z",
     "shell.execute_reply": "2024-04-03T21:05:57.731898Z"
    },
    "id": "jGSq3v5gNF3_",
    "papermill": {
     "duration": 0.154066,
     "end_time": "2024-04-03T21:05:57.735074",
     "exception": false,
     "start_time": "2024-04-03T21:05:57.581008",
     "status": "completed"
    },
    "tags": []
   },
   "outputs": [],
   "source": [
    "#Computing the Recall Score : (Some times called Sensitivity) (TP / float(TP + FN))   1 / 1+2  \n",
    "def macro_recall(y_test , y_pred):\n",
    "    RecallScore = recall_score(y_test, y_pred, average='macro') \n",
    "    return  RecallScore"
   ]
  },
  {
   "cell_type": "code",
   "execution_count": 17,
   "id": "ad6977c4",
   "metadata": {
    "execution": {
     "iopub.execute_input": "2024-04-03T21:05:58.019866Z",
     "iopub.status.busy": "2024-04-03T21:05:58.019502Z",
     "iopub.status.idle": "2024-04-03T21:05:58.024529Z",
     "shell.execute_reply": "2024-04-03T21:05:58.023574Z"
    },
    "id": "zbng8rzRNF3_",
    "papermill": {
     "duration": 0.149231,
     "end_time": "2024-04-03T21:05:58.026470",
     "exception": false,
     "start_time": "2024-04-03T21:05:57.877239",
     "status": "completed"
    },
    "tags": []
   },
   "outputs": [],
   "source": [
    "#Computing the F1 Score  : 2 * (precision * recall) / (precision + recall)\n",
    "def macro_F1Score(y_test , y_pred):\n",
    "    F1Score = f1_score(y_test, y_pred, average='macro') \n",
    "    return F1Score"
   ]
  },
  {
   "cell_type": "code",
   "execution_count": 18,
   "id": "ed7e6b16",
   "metadata": {
    "execution": {
     "iopub.execute_input": "2024-04-03T21:05:58.314427Z",
     "iopub.status.busy": "2024-04-03T21:05:58.313564Z",
     "iopub.status.idle": "2024-04-03T21:05:58.320573Z",
     "shell.execute_reply": "2024-04-03T21:05:58.319666Z"
    },
    "id": "SWbpYe9ENF4A",
    "papermill": {
     "duration": 0.156021,
     "end_time": "2024-04-03T21:05:58.322599",
     "exception": false,
     "start_time": "2024-04-03T21:05:58.166578",
     "status": "completed"
    },
    "tags": []
   },
   "outputs": [],
   "source": [
    "from sklearn.metrics import roc_auc_score\n",
    "\n",
    "# Calculating Area under the curve\n",
    "def AUC(actual_class, pred_class, average = \"micro\"):\n",
    "    \n",
    "    #Making a set of all the unique classes \n",
    "    unique_class = set(actual_class)\n",
    "    roc_auc_dict = {}\n",
    "    for per_class in unique_class:\n",
    "        \n",
    "        #Making a list of all the classes except the current class \n",
    "        other_class = [x for x in unique_class if x != per_class]\n",
    "\n",
    "        #Making the current class with label 1 and all other classes as a label 0\n",
    "        new_actual_class = [0 if x in other_class else 1 for x in actual_class]\n",
    "        new_pred_class = [0 if x in other_class else 1 for x in pred_class]\n",
    "\n",
    "        # Calculating the roc_auc_score\n",
    "        roc_auc = roc_auc_score(new_actual_class, new_pred_class, average = average)\n",
    "        roc_auc_dict[per_class] = roc_auc\n",
    "\n",
    "    return roc_auc_dict"
   ]
  },
  {
   "cell_type": "code",
   "execution_count": 19,
   "id": "902959fe",
   "metadata": {
    "execution": {
     "iopub.execute_input": "2024-04-03T21:05:58.594397Z",
     "iopub.status.busy": "2024-04-03T21:05:58.593584Z",
     "iopub.status.idle": "2024-04-03T21:06:00.100213Z",
     "shell.execute_reply": "2024-04-03T21:06:00.098805Z"
    },
    "id": "OIJ_0Cd3NF4B",
    "outputId": "1f5d13ea-6730-4838-d974-3e03fa9452fc",
    "papermill": {
     "duration": 1.644659,
     "end_time": "2024-04-03T21:06:00.102579",
     "exception": false,
     "start_time": "2024-04-03T21:05:58.457920",
     "status": "completed"
    },
    "tags": []
   },
   "outputs": [
    {
     "name": "stdout",
     "output_type": "stream",
     "text": [
      "***** Model Evaluations Details ******** \n",
      "\n",
      "\u001b[1m6/6\u001b[0m \u001b[32m━━━━━━━━━━━━━━━━━━━━\u001b[0m\u001b[37m\u001b[0m \u001b[1m1s\u001b[0m 200ms/step - accuracy: 0.9815 - loss: 0.0218\n",
      "Test loss, Test acc :  [0.024001799523830414, 0.9791666865348816]\n",
      "******************************\n",
      "Accurayc  :  0.9791666666666666\n",
      "******************************\n",
      "Precision Score is :  0.9793747286148502\n",
      "******************************\n",
      "Recall Scores is :  0.9791666666666667\n",
      "******************************\n",
      "F1 Score is :  0.9791644058600109\n",
      "******************************\n",
      "AUC Score is :  {0: 0.9791666666666666, 1: 0.9791666666666667}\n"
     ]
    }
   ],
   "source": [
    "print(\"***** Model Evaluations Details ******** \\n\")\n",
    "print(\"Test loss, Test acc : \" , model.evaluate(test_ds)) \n",
    "print(\"******************************\")\n",
    "print(\"Accurayc  : \" , Accuracy(test_ds.classes , y_pred1)) \n",
    "print(\"******************************\")\n",
    "print(\"Precision Score is : \" , macro_precision(test_ds.classes , y_pred1))\n",
    "print(\"******************************\")\n",
    "print(\"Recall Scores is : \" , macro_recall(test_ds.classes , y_pred1))\n",
    "print(\"******************************\")\n",
    "print('F1 Score is : ', macro_F1Score(test_ds.classes , y_pred1))\n",
    "print(\"******************************\")\n",
    "print('AUC Score is : ' , AUC(test_ds.classes, y_pred1))"
   ]
  },
  {
   "cell_type": "code",
   "execution_count": 20,
   "id": "74b6f7dd",
   "metadata": {
    "execution": {
     "iopub.execute_input": "2024-04-03T21:06:00.409078Z",
     "iopub.status.busy": "2024-04-03T21:06:00.408394Z",
     "iopub.status.idle": "2024-04-03T21:06:00.412904Z",
     "shell.execute_reply": "2024-04-03T21:06:00.411974Z"
    },
    "papermill": {
     "duration": 0.156127,
     "end_time": "2024-04-03T21:06:00.415005",
     "exception": false,
     "start_time": "2024-04-03T21:06:00.258878",
     "status": "completed"
    },
    "tags": []
   },
   "outputs": [],
   "source": [
    "labels=[\"Class 0\",\"Class 1\"]"
   ]
  },
  {
   "cell_type": "code",
   "execution_count": 21,
   "id": "d6d0cc36",
   "metadata": {
    "execution": {
     "iopub.execute_input": "2024-04-03T21:06:00.713690Z",
     "iopub.status.busy": "2024-04-03T21:06:00.713328Z",
     "iopub.status.idle": "2024-04-03T21:06:00.727928Z",
     "shell.execute_reply": "2024-04-03T21:06:00.726760Z"
    },
    "papermill": {
     "duration": 0.157077,
     "end_time": "2024-04-03T21:06:00.730101",
     "exception": false,
     "start_time": "2024-04-03T21:06:00.573024",
     "status": "completed"
    },
    "tags": []
   },
   "outputs": [
    {
     "name": "stdout",
     "output_type": "stream",
     "text": [
      "              precision    recall  f1-score   support\n",
      "\n",
      "     Class 0       0.99      0.97      0.98        96\n",
      "     Class 1       0.97      0.99      0.98        96\n",
      "\n",
      "    accuracy                           0.98       192\n",
      "   macro avg       0.98      0.98      0.98       192\n",
      "weighted avg       0.98      0.98      0.98       192\n",
      "\n"
     ]
    }
   ],
   "source": [
    "print(classification_report(test_ds.classes, y_pred1,target_names=labels))\n"
   ]
  },
  {
   "cell_type": "code",
   "execution_count": 22,
   "id": "c2a5dfc2",
   "metadata": {
    "execution": {
     "iopub.execute_input": "2024-04-03T21:06:01.013009Z",
     "iopub.status.busy": "2024-04-03T21:06:01.012125Z",
     "iopub.status.idle": "2024-04-03T21:06:01.020120Z",
     "shell.execute_reply": "2024-04-03T21:06:01.019226Z"
    },
    "papermill": {
     "duration": 0.151526,
     "end_time": "2024-04-03T21:06:01.022329",
     "exception": false,
     "start_time": "2024-04-03T21:06:00.870803",
     "status": "completed"
    },
    "tags": []
   },
   "outputs": [
    {
     "data": {
      "text/plain": [
       "RcParams({'axes.axisbelow': True,\n",
       "          'axes.edgecolor': '.8',\n",
       "          'axes.facecolor': 'white',\n",
       "          'axes.grid': True,\n",
       "          'axes.labelcolor': '.15',\n",
       "          'axes.linewidth': 1.0,\n",
       "          'figure.facecolor': 'white',\n",
       "          'font.family': ['sans-serif'],\n",
       "          'font.sans-serif': ['Arial',\n",
       "                              'Liberation Sans',\n",
       "                              'DejaVu Sans',\n",
       "                              'Bitstream Vera Sans',\n",
       "                              'sans-serif'],\n",
       "          'grid.color': '.8',\n",
       "          'grid.linestyle': '-',\n",
       "          'image.cmap': 'Greys',\n",
       "          'legend.frameon': False,\n",
       "          'legend.numpoints': 1,\n",
       "          'legend.scatterpoints': 1,\n",
       "          'lines.solid_capstyle': <CapStyle.round: 'round'>,\n",
       "          'text.color': '.15',\n",
       "          'xtick.color': '.15',\n",
       "          'xtick.direction': 'out',\n",
       "          'xtick.major.size': 0.0,\n",
       "          'xtick.minor.size': 0.0,\n",
       "          'ytick.color': '.15',\n",
       "          'ytick.direction': 'out',\n",
       "          'ytick.major.size': 0.0,\n",
       "          'ytick.minor.size': 0.0})"
      ]
     },
     "execution_count": 22,
     "metadata": {},
     "output_type": "execute_result"
    }
   ],
   "source": [
    "import seaborn as sns\n",
    "import matplotlib.pyplot as plt\n",
    "sns.set_style('whitegrid')\n",
    "plt.style.library['seaborn-whitegrid']"
   ]
  },
  {
   "cell_type": "code",
   "execution_count": 23,
   "id": "d2c80474",
   "metadata": {
    "execution": {
     "iopub.execute_input": "2024-04-03T21:06:01.297466Z",
     "iopub.status.busy": "2024-04-03T21:06:01.296579Z",
     "iopub.status.idle": "2024-04-03T21:06:01.314211Z",
     "shell.execute_reply": "2024-04-03T21:06:01.313386Z"
    },
    "id": "V93RKPJKNF4C",
    "papermill": {
     "duration": 0.157876,
     "end_time": "2024-04-03T21:06:01.316106",
     "exception": false,
     "start_time": "2024-04-03T21:06:01.158230",
     "status": "completed"
    },
    "tags": []
   },
   "outputs": [],
   "source": [
    "def plot_roc_curve(y_test,y_pred):\n",
    "    n_classes=2\n",
    "    fpr = dict()\n",
    "    tpr = dict()\n",
    "    roc_auc = dict()\n",
    "    for i in range(n_classes):\n",
    "        fpr[i], tpr[i], _ = roc_curve(y_test[:, i], y_pred[:, i])\n",
    "        roc_auc[i] = auc(fpr[i], tpr[i])\n",
    "    fpr[\"micro\"], tpr[\"micro\"], _ = roc_curve(y_test.ravel(), y_pred.ravel())\n",
    "    roc_auc[\"micro\"] = auc(fpr[\"micro\"], tpr[\"micro\"])\n",
    "    lw=2\n",
    "    all_fpr = np.unique(np.concatenate([fpr[i] for i in range(n_classes)]))\n",
    "\n",
    "    mean_tpr = np.zeros_like(all_fpr)\n",
    "    for i in range(n_classes):\n",
    "        mean_tpr += np.interp(all_fpr, fpr[i], tpr[i])\n",
    "\n",
    "    mean_tpr /= n_classes\n",
    "\n",
    "    fpr[\"macro\"] = all_fpr\n",
    "    tpr[\"macro\"] = mean_tpr\n",
    "    roc_auc[\"macro\"] = auc(fpr[\"macro\"], tpr[\"macro\"])\n",
    "\n",
    "# Plot all ROC curves\n",
    "    plt.figure(figsize=(10, 10))\n",
    "    plt.plot(fpr[\"micro\"],\n",
    "    tpr[\"micro\"],\n",
    "    label=\"micro-average ROC curve (area = {0:0.2f})\".format(roc_auc[\"micro\"]),\n",
    "    color=\"deeppink\",\n",
    "    linestyle=\":\",\n",
    "    linewidth=4,)\n",
    "\n",
    "    plt.plot(fpr[\"macro\"],\n",
    "    tpr[\"macro\"],\n",
    "    label=\"macro-average ROC curve (area = {0:0.2f})\".format(roc_auc[\"macro\"]),\n",
    "    color=\"navy\",\n",
    "    linestyle=\":\",\n",
    "    linewidth=4,\n",
    ")\n",
    "    colors = cycle([\"aqua\", \"darkorange\", \"cornflowerblue\",'#9e9e9e','#b19a7e','#CD5C5C','#DFFF00',\n",
    "                   '#DE3163','#ff4d4d','#CCCCFF','#800080','#4F1D25','#ccffcc','#ff0040'\n",
    "                   ,'#4000ff','#0080ff','#ff8000','#666600','#b37700','#00b3b3','#003300','#FFC300','#A6F7BD',\n",
    "                   '#A6BDF7','#CAA6F7','#F7A6AC','#ADF7A6','#F5F7A6','#F7CCA6','#EE4949',\n",
    "                    '#DEA41F','#334471','#33716F','#343371','#772CE3','#B8BF20','#666B01','#0B6B01',\n",
    "                    '#F4B708','#179690'\n",
    "                   ])\n",
    "\n",
    "    for i, color in zip(range(n_classes), colors):\n",
    "        plt.plot(\n",
    "           fpr[i],\n",
    "           tpr[i],\n",
    "           color=color,\n",
    "           lw=lw,\n",
    "        label=\"ROC curve of class {0} (area = {1:0.2f})\".format(i, roc_auc[i]),\n",
    "    )\n",
    "\n",
    "    plt.plot([0, 1], [0, 1], \"k--\", lw=lw)\n",
    "    plt.xlim([0.0, 1.0])\n",
    "    plt.ylim([0.0, 1.05])\n",
    "    plt.xlabel(\"False Positive Rate\")\n",
    "    plt.ylabel(\"True Positive Rate\")\n",
    "    plt.title(\"Roc Curve\")\n",
    "    plt.legend(bbox_to_anchor=(1, 1))\n",
    "    plt.show()"
   ]
  },
  {
   "cell_type": "code",
   "execution_count": 24,
   "id": "479d2863",
   "metadata": {
    "execution": {
     "iopub.execute_input": "2024-04-03T21:06:01.598748Z",
     "iopub.status.busy": "2024-04-03T21:06:01.598029Z",
     "iopub.status.idle": "2024-04-03T21:06:01.604479Z",
     "shell.execute_reply": "2024-04-03T21:06:01.603500Z"
    },
    "id": "DEOkUcuvNF4C",
    "papermill": {
     "duration": 0.151649,
     "end_time": "2024-04-03T21:06:01.606437",
     "exception": false,
     "start_time": "2024-04-03T21:06:01.454788",
     "status": "completed"
    },
    "tags": []
   },
   "outputs": [],
   "source": [
    "def Acc_Loss_Graph(history):\n",
    "    # converting hsitory to dataframe\n",
    "    pd.DataFrame(history.history)\n",
    "\n",
    "    pd.DataFrame(history.history)[['accuracy', 'val_accuracy']].plot()\n",
    "    plt.title('Training Accuracy')\n",
    "    plt.xlabel('Epochs')\n",
    "    plt.ylabel('accuracy')\n",
    "\n",
    "    pd.DataFrame(history.history)[['loss', 'val_loss']].plot()\n",
    "    plt.title('Model Loss')\n",
    "    plt.xlabel('Epochs')\n",
    "    plt.ylabel('Loss')"
   ]
  },
  {
   "cell_type": "code",
   "execution_count": 25,
   "id": "9de80c83",
   "metadata": {
    "execution": {
     "iopub.execute_input": "2024-04-03T21:06:01.886739Z",
     "iopub.status.busy": "2024-04-03T21:06:01.885906Z",
     "iopub.status.idle": "2024-04-03T21:06:01.890573Z",
     "shell.execute_reply": "2024-04-03T21:06:01.889588Z"
    },
    "papermill": {
     "duration": 0.147601,
     "end_time": "2024-04-03T21:06:01.892632",
     "exception": false,
     "start_time": "2024-04-03T21:06:01.745031",
     "status": "completed"
    },
    "tags": []
   },
   "outputs": [],
   "source": [
    "labels=np.array([\"Class 0\",\"Class 1\"])"
   ]
  },
  {
   "cell_type": "code",
   "execution_count": 26,
   "id": "4d909068",
   "metadata": {
    "execution": {
     "iopub.execute_input": "2024-04-03T21:06:02.176124Z",
     "iopub.status.busy": "2024-04-03T21:06:02.175615Z",
     "iopub.status.idle": "2024-04-03T21:06:02.181275Z",
     "shell.execute_reply": "2024-04-03T21:06:02.180224Z"
    },
    "id": "lGA3LmwQNF4D",
    "papermill": {
     "duration": 0.15206,
     "end_time": "2024-04-03T21:06:02.183507",
     "exception": false,
     "start_time": "2024-04-03T21:06:02.031447",
     "status": "completed"
    },
    "tags": []
   },
   "outputs": [],
   "source": [
    "def Confusion_Matrix(y_test , y_pred):\n",
    "    fig, ax = plt.subplots(figsize=(5,5))\n",
    "\n",
    "    #cnf_matrix = confusion_matrix()\n",
    "    disp = ConfusionMatrixDisplay.from_predictions(y_test, y_pred,display_labels=labels,ax=ax,xticks_rotation='vertical'\n",
    "                                                  ,cmap=\"Blues\")"
   ]
  },
  {
   "cell_type": "markdown",
   "id": "44aa1591",
   "metadata": {
    "id": "-F5dvUt-NF4E",
    "papermill": {
     "duration": 0.1395,
     "end_time": "2024-04-03T21:06:02.461400",
     "exception": false,
     "start_time": "2024-04-03T21:06:02.321900",
     "status": "completed"
    },
    "tags": []
   },
   "source": []
  },
  {
   "cell_type": "code",
   "execution_count": 27,
   "id": "732c82aa",
   "metadata": {
    "execution": {
     "iopub.execute_input": "2024-04-03T21:06:02.739478Z",
     "iopub.status.busy": "2024-04-03T21:06:02.739136Z",
     "iopub.status.idle": "2024-04-03T21:06:03.658993Z",
     "shell.execute_reply": "2024-04-03T21:06:03.658076Z"
    },
    "id": "xUfvuLXMNF4H",
    "outputId": "4035144f-3ba6-4f6e-c668-9492e1f00f8f",
    "papermill": {
     "duration": 1.064247,
     "end_time": "2024-04-03T21:06:03.661184",
     "exception": false,
     "start_time": "2024-04-03T21:06:02.596937",
     "status": "completed"
    },
    "tags": []
   },
   "outputs": [
    {
     "data": {
      "image/png": "[encoded data removed]",
      "text/plain": [
       "<Figure size 640x480 with 1 Axes>"
      ]
     },
     "metadata": {},
     "output_type": "display_data"
    },
    {
     "data": {
      "image/png": "[encoded data removed]",
      "text/plain": [
       "<Figure size 640x480 with 1 Axes>"
      ]
     },
     "metadata": {},
     "output_type": "display_data"
    }
   ],
   "source": [
    "Acc_Loss_Graph(history)"
   ]
  },
  {
   "cell_type": "code",
   "execution_count": 28,
   "id": "a367ae50",
   "metadata": {
    "execution": {
     "iopub.execute_input": "2024-04-03T21:06:03.944032Z",
     "iopub.status.busy": "2024-04-03T21:06:03.943289Z",
     "iopub.status.idle": "2024-04-03T21:06:04.345005Z",
     "shell.execute_reply": "2024-04-03T21:06:04.343965Z"
    },
    "id": "dsXTjrCQNF4I",
    "outputId": "90859e23-d618-45f8-f939-4e44e2a0d93c",
    "papermill": {
     "duration": 0.545687,
     "end_time": "2024-04-03T21:06:04.347367",
     "exception": false,
     "start_time": "2024-04-03T21:06:03.801680",
     "status": "completed"
    },
    "tags": []
   },
   "outputs": [
    {
     "data": {
      "image/png": "[encoded data removed]",
      "text/plain": [
       "<Figure size 1000x1000 with 1 Axes>"
      ]
     },
     "metadata": {},
     "output_type": "display_data"
    }
   ],
   "source": [
    "plot_roc_curve(y_test,y_pred2)"
   ]
  },
  {
   "cell_type": "code",
   "execution_count": 29,
   "id": "52cdc6fa",
   "metadata": {
    "execution": {
     "iopub.execute_input": "2024-04-03T21:06:04.625632Z",
     "iopub.status.busy": "2024-04-03T21:06:04.625267Z",
     "iopub.status.idle": "2024-04-03T21:06:04.958957Z",
     "shell.execute_reply": "2024-04-03T21:06:04.957975Z"
    },
    "id": "Sv_qoovZNF4I",
    "outputId": "1ae0ce96-b37c-43b4-b3ca-33d66b1ae904",
    "papermill": {
     "duration": 0.47488,
     "end_time": "2024-04-03T21:06:04.961124",
     "exception": false,
     "start_time": "2024-04-03T21:06:04.486244",
     "status": "completed"
    },
    "tags": []
   },
   "outputs": [
    {
     "data": {
      "image/png": "[encoded data removed]",
      "text/plain": [
       "<Figure size 500x500 with 2 Axes>"
      ]
     },
     "metadata": {},
     "output_type": "display_data"
    }
   ],
   "source": [
    "Confusion_Matrix(test_ds.classes , y_pred1)"
   ]
  },
  {
   "cell_type": "code",
   "execution_count": 30,
   "id": "f02e3fac",
   "metadata": {
    "execution": {
     "iopub.execute_input": "2024-04-03T21:06:05.244383Z",
     "iopub.status.busy": "2024-04-03T21:06:05.243604Z",
     "iopub.status.idle": "2024-04-03T21:06:05.250400Z",
     "shell.execute_reply": "2024-04-03T21:06:05.249518Z"
    },
    "papermill": {
     "duration": 0.148659,
     "end_time": "2024-04-03T21:06:05.252491",
     "exception": false,
     "start_time": "2024-04-03T21:06:05.103832",
     "status": "completed"
    },
    "tags": []
   },
   "outputs": [],
   "source": [
    "target_name={0:\"Class 0\",1:\"Class 1\",2:\"Class 2\",3:\"Class 3\",4:\"Class 4\",5:\"Class 5\",6:\"Class 6\",7:\"Class 7\",8:\"Class 8\",9:\"Class 9\",\n",
    "             10:\"Class 10\",11:\"Class 11\",12:\"Class 12\",\n",
    "               13:\"Class 13\",14:\"Class 14\",15:\"Class 15\",16:\"Class 16\",17:\"Class 17\",18:\"Class 18\",19:\"Class 19\",20:\"Class 20\",21:\"Class 21\",\n",
    "             22:\"Class 22\",23:\"Class 23\",24:\"Class 24\",25:\"Class 25\",26:\"Class 26\",27:\"Class 27\",28:\"Class 28\",29:\"Class 29\",30:\"Class 30\",31:\"Class 31\",32:\"Class 32\",33:\"Class 33\",34:\"Class 34\"\n",
    "                ,35:\"Class 35\",36:\"Class 36\",37:\"Class 37\"}"
   ]
  },
  {
   "cell_type": "code",
   "execution_count": 31,
   "id": "1c9ae87b",
   "metadata": {
    "execution": {
     "iopub.execute_input": "2024-04-03T21:06:05.578675Z",
     "iopub.status.busy": "2024-04-03T21:06:05.577770Z",
     "iopub.status.idle": "2024-04-03T21:06:06.186844Z",
     "shell.execute_reply": "2024-04-03T21:06:06.185807Z"
    },
    "papermill": {
     "duration": 0.79866,
     "end_time": "2024-04-03T21:06:06.189445",
     "exception": false,
     "start_time": "2024-04-03T21:06:05.390785",
     "status": "completed"
    },
    "tags": []
   },
   "outputs": [],
   "source": [
    "from sklearn.manifold import TSNE\n",
    "tsne1 = TSNE(random_state = 42, n_components=2, verbose=0, perplexity=40, n_iter=300).fit_transform(y_pred)"
   ]
  },
  {
   "cell_type": "code",
   "execution_count": 32,
   "id": "da7a21fd",
   "metadata": {
    "execution": {
     "iopub.execute_input": "2024-04-03T21:06:06.491569Z",
     "iopub.status.busy": "2024-04-03T21:06:06.491181Z",
     "iopub.status.idle": "2024-04-03T21:06:06.506368Z",
     "shell.execute_reply": "2024-04-03T21:06:06.505360Z"
    },
    "papermill": {
     "duration": 0.162698,
     "end_time": "2024-04-03T21:06:06.508532",
     "exception": false,
     "start_time": "2024-04-03T21:06:06.345834",
     "status": "completed"
    },
    "tags": []
   },
   "outputs": [],
   "source": [
    "# create dataframe\n",
    "cps_df = pd.DataFrame(columns=['CP1', 'CP2', 'target'],\n",
    "                       data=np.column_stack((tsne1, \n",
    "                                            y_test1)))# cast targets column to int\n",
    "cps_df.loc[:, 'target'] = cps_df.target.astype(int)\n",
    "cps_df.loc[:, 'target'] = cps_df.target.map(target_name)"
   ]
  },
  {
   "cell_type": "code",
   "execution_count": 33,
   "id": "522a30bc",
   "metadata": {
    "execution": {
     "iopub.execute_input": "2024-04-03T21:06:06.830126Z",
     "iopub.status.busy": "2024-04-03T21:06:06.829200Z",
     "iopub.status.idle": "2024-04-03T21:06:07.692342Z",
     "shell.execute_reply": "2024-04-03T21:06:07.691334Z"
    },
    "papermill": {
     "duration": 1.019432,
     "end_time": "2024-04-03T21:06:07.694869",
     "exception": false,
     "start_time": "2024-04-03T21:06:06.675437",
     "status": "completed"
    },
    "tags": []
   },
   "outputs": [
    {
     "data": {
      "text/plain": [
       "<seaborn.axisgrid.FacetGrid at 0x786abc1f6d10>"
      ]
     },
     "execution_count": 33,
     "metadata": {},
     "output_type": "execute_result"
    },
    {
     "data": {
      "image/png": "[encoded data removed]",
      "text/plain": [
       "<Figure size 899.75x800 with 1 Axes>"
      ]
     },
     "metadata": {},
     "output_type": "display_data"
    }
   ],
   "source": [
    "import seaborn as sns\n",
    "d = {'color': [\"aqua\", \"darkorange\", \"cornflowerblue\",'#9e9e9e','#b19a7e','#CD5C5C','#DFFF00',\n",
    "                   '#DE3163','#ff4d4d','#CCCCFF','#800080','#4F1D25','#ccffcc','#ff0040'\n",
    "                   ,'#4000ff','#0080ff','#ff8000','#666600','#b37700','#00b3b3','#003300','#FFC300','#A6F7BD',\n",
    "                   '#A6BDF7','#CAA6F7','#F7A6AC','#ADF7A6','#F5F7A6','#F7CCA6','#EE4949',\n",
    "                    '#DEA41F','#334471','#33716F','#343371','#772CE3','#B8BF20','#666B01','#0B6B01',\n",
    "                    '#F4B708','#179690'] }\n",
    "grid = sns.FacetGrid(cps_df, hue=\"target\",hue_kws=d, height=8)\n",
    "grid.map(plt.scatter, 'CP1', 'CP2').add_legend()"
   ]
  },
  {
   "cell_type": "code",
   "execution_count": 34,
   "id": "f4006780",
   "metadata": {
    "execution": {
     "iopub.execute_input": "2024-04-03T21:06:07.984315Z",
     "iopub.status.busy": "2024-04-03T21:06:07.983975Z",
     "iopub.status.idle": "2024-04-03T21:06:08.428599Z",
     "shell.execute_reply": "2024-04-03T21:06:08.427775Z"
    },
    "papermill": {
     "duration": 0.591159,
     "end_time": "2024-04-03T21:06:08.430854",
     "exception": false,
     "start_time": "2024-04-03T21:06:07.839695",
     "status": "completed"
    },
    "tags": []
   },
   "outputs": [],
   "source": [
    "model.save_weights('/kaggle/working/model1.weights.h5')"
   ]
  }
 ],
 "metadata": {
  "kaggle": {
   "accelerator": "gpu",
   "dataSources": [
    {
     "datasetId": 1254197,
     "sourceId": 2091656,
     "sourceType": "datasetVersion"
    }
   ],
   "isGpuEnabled": true,
   "isInternetEnabled": true,
   "language": "python",
   "sourceType": "notebook"
  },
  "kernelspec": {
   "display_name": "Python 3",
   "language": "python",
   "name": "python3"
  },
  "language_info": {
   "codemirror_mode": {
    "name": "ipython",
    "version": 3
   },
   "file_extension": ".py",
   "mimetype": "text/x-python",
   "name": "python",
   "nbconvert_exporter": "python",
   "pygments_lexer": "ipython3",
   "version": "3.10.13"
  },
  "papermill": {
   "default_parameters": {},
   "duration": 418.524812,
   "end_time": "2024-04-03T21:06:11.324588",
   "environment_variables": {},
   "exception": null,
   "input_path": "__notebook__.ipynb",
   "output_path": "__notebook__.ipynb",
   "parameters": {},
   "start_time": "2024-04-03T20:59:12.799776",
   "version": "2.4.0"
  }
 },
 "nbformat": 4,
 "nbformat_minor": 5
}
