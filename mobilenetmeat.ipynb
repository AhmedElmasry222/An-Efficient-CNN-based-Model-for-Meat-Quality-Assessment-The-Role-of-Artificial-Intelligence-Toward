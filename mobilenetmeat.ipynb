{
 "cells": [
  {
   "cell_type": "code",
   "execution_count": 1,
   "id": "08198a47",
   "metadata": {
    "execution": {
     "iopub.execute_input": "2024-04-06T15:00:47.603163Z",
     "iopub.status.busy": "2024-04-06T15:00:47.602459Z",
     "iopub.status.idle": "2024-04-06T15:01:01.774079Z",
     "shell.execute_reply": "2024-04-06T15:01:01.772619Z"
    },
    "id": "zvP8pw6FhmeM",
    "outputId": "38657371-b3d9-4aee-9706-0284f2708292",
    "papermill": {
     "duration": 14.186736,
     "end_time": "2024-04-06T15:01:01.777335",
     "exception": false,
     "start_time": "2024-04-06T15:00:47.590599",
     "status": "completed"
    },
    "tags": []
   },
   "outputs": [
    {
     "name": "stderr",
     "output_type": "stream",
     "text": [
      "2024-04-06 15:00:49.376747: E external/local_xla/xla/stream_executor/cuda/cuda_dnn.cc:9261] Unable to register cuDNN factory: Attempting to register factory for plugin cuDNN when one has already been registered\n",
      "2024-04-06 15:00:49.376847: E external/local_xla/xla/stream_executor/cuda/cuda_fft.cc:607] Unable to register cuFFT factory: Attempting to register factory for plugin cuFFT when one has already been registered\n",
      "2024-04-06 15:00:49.518162: E external/local_xla/xla/stream_executor/cuda/cuda_blas.cc:1515] Unable to register cuBLAS factory: Attempting to register factory for plugin cuBLAS when one has already been registered\n"
     ]
    }
   ],
   "source": [
    "import numpy as np\n",
    "import tensorflow as tf\n",
    "from tensorflow import keras\n",
    "from tensorflow.keras import layers\n",
    "import tensorflow as tf\n",
    "import matplotlib.pyplot as plt\n",
    "from tensorflow.keras.preprocessing.image import ImageDataGenerator\n",
    "from PIL import Image\n",
    "import matplotlib.pyplot as plt\n",
    "import pandas as pd\n",
    "import numpy as np\n",
    "import seaborn as sb\n",
    "import os\n",
    "import warnings\n",
    "warnings.filterwarnings('ignore')\n",
    "import tensorflow as tf\n",
    "import glob as gb\n",
    "import cv2\n",
    "import keras\n",
    "import io\n",
    "import typing\n",
    "from keras import backend\n",
    "import math\n",
    "from keras.models import Sequential, Model,load_model\n",
    "from keras.callbacks import EarlyStopping,ModelCheckpoint\n",
    "from keras.layers import Dropout, Input, Add, Dense, Activation, ZeroPadding2D, BatchNormalization, Flatten, Conv2D, AveragePooling2D, MaxPooling2D, GlobalMaxPooling2D,MaxPool2D\n",
    "from keras.preprocessing import image\n",
    "from keras.initializers import glorot_uniform\n",
    "from sklearn.metrics import classification_report\n",
    "\n",
    "from sklearn.metrics import accuracy_score\n",
    "from sklearn.metrics import precision_score\n",
    "from sklearn.metrics import recall_score\n",
    "from sklearn.metrics import f1_score\n",
    "from sklearn.metrics import roc_auc_score\n",
    "\n",
    "\n",
    "import matplotlib.pyplot as plt \n",
    "from sklearn.preprocessing import LabelBinarizer\n",
    "from sklearn.metrics import roc_curve, auc, roc_auc_score\n",
    "from itertools import cycle\n",
    "import itertools \n",
    "\n",
    "#Model Graphs\n",
    "from sklearn.metrics import confusion_matrix\n",
    "from sklearn.metrics import ConfusionMatrixDisplay\n",
    "\n",
    "\n",
    "from tensorflow.keras.layers import Input, Conv2D, BatchNormalization, Dense\n",
    "from tensorflow.keras.layers import AvgPool2D, GlobalAveragePooling2D, MaxPool2D\n",
    "from tensorflow.keras.models import Model\n",
    "from tensorflow.keras.layers import ReLU, concatenate\n",
    "import tensorflow.keras.backend as K\n",
    "from tensorflow.keras import layers"
   ]
  },
  {
   "cell_type": "code",
   "execution_count": 2,
   "id": "083b9f56",
   "metadata": {
    "execution": {
     "iopub.execute_input": "2024-04-06T15:01:01.803971Z",
     "iopub.status.busy": "2024-04-06T15:01:01.803033Z",
     "iopub.status.idle": "2024-04-06T15:01:15.673016Z",
     "shell.execute_reply": "2024-04-06T15:01:15.671865Z"
    },
    "id": "nivPNlXnNF3S",
    "outputId": "0cfaffbf-4ac7-451a-c6ac-32a4de7da851",
    "papermill": {
     "duration": 13.884127,
     "end_time": "2024-04-06T15:01:15.675461",
     "exception": false,
     "start_time": "2024-04-06T15:01:01.791334",
     "status": "completed"
    },
    "tags": []
   },
   "outputs": [
    {
     "name": "stdout",
     "output_type": "stream",
     "text": [
      "Collecting split-folders\r\n",
      "  Downloading split_folders-0.5.1-py3-none-any.whl.metadata (6.2 kB)\r\n",
      "Downloading split_folders-0.5.1-py3-none-any.whl (8.4 kB)\r\n",
      "Installing collected packages: split-folders\r\n",
      "Successfully installed split-folders-0.5.1\r\n"
     ]
    }
   ],
   "source": [
    "!pip install split-folders"
   ]
  },
  {
   "cell_type": "code",
   "execution_count": 3,
   "id": "5b61160e",
   "metadata": {
    "execution": {
     "iopub.execute_input": "2024-04-06T15:01:15.697211Z",
     "iopub.status.busy": "2024-04-06T15:01:15.696873Z",
     "iopub.status.idle": "2024-04-06T15:01:35.745317Z",
     "shell.execute_reply": "2024-04-06T15:01:35.744255Z"
    },
    "id": "h6EIyFq8NF3Y",
    "outputId": "0a1f7851-271d-4c2e-9a9e-21483c07b816",
    "papermill": {
     "duration": 20.061794,
     "end_time": "2024-04-06T15:01:35.747551",
     "exception": false,
     "start_time": "2024-04-06T15:01:15.685757",
     "status": "completed"
    },
    "tags": []
   },
   "outputs": [
    {
     "name": "stderr",
     "output_type": "stream",
     "text": [
      "Copying files: 1896 files [00:20, 94.72 files/s]\n"
     ]
    }
   ],
   "source": [
    "import splitfolders\n",
    "\n",
    "# Split with a ratio.\n",
    "# To only split into training and validation set, set a tuple to `ratio`, i.e, `(.8, .2)`.\n",
    "splitfolders.ratio(\"/kaggle/input/meat-quality-assessment-based-on-deep-learning/\", output=\"./new\",\n",
    "    seed=1337, ratio=(.8, .1, .1), group_prefix=None, move=False)"
   ]
  },
  {
   "cell_type": "code",
   "execution_count": 4,
   "id": "e89f3c66",
   "metadata": {
    "execution": {
     "iopub.execute_input": "2024-04-06T15:01:35.796878Z",
     "iopub.status.busy": "2024-04-06T15:01:35.796573Z",
     "iopub.status.idle": "2024-04-06T15:01:35.801217Z",
     "shell.execute_reply": "2024-04-06T15:01:35.800244Z"
    },
    "id": "XZIDSMdwNF3d",
    "papermill": {
     "duration": 0.032532,
     "end_time": "2024-04-06T15:01:35.803464",
     "exception": false,
     "start_time": "2024-04-06T15:01:35.770932",
     "status": "completed"
    },
    "tags": []
   },
   "outputs": [],
   "source": [
    "train_path='/kaggle/working/new/train/'\n",
    "test_path='/kaggle/working/new/test/'\n",
    "val_path='/kaggle/working/new/val/'"
   ]
  },
  {
   "cell_type": "code",
   "execution_count": 5,
   "id": "fc5bcbe3",
   "metadata": {
    "execution": {
     "iopub.execute_input": "2024-04-06T15:01:35.852535Z",
     "iopub.status.busy": "2024-04-06T15:01:35.852201Z",
     "iopub.status.idle": "2024-04-06T15:01:35.857234Z",
     "shell.execute_reply": "2024-04-06T15:01:35.856234Z"
    },
    "id": "IxP2BPegNF3f",
    "papermill": {
     "duration": 0.031731,
     "end_time": "2024-04-06T15:01:35.859406",
     "exception": false,
     "start_time": "2024-04-06T15:01:35.827675",
     "status": "completed"
    },
    "tags": []
   },
   "outputs": [],
   "source": [
    "traingen = tf.keras.preprocessing.image.ImageDataGenerator()\n",
    "testgen = tf.keras.preprocessing.image.ImageDataGenerator()\n",
    "validgen =tf.keras.preprocessing.image.ImageDataGenerator()"
   ]
  },
  {
   "cell_type": "code",
   "execution_count": 6,
   "id": "71e66511",
   "metadata": {
    "execution": {
     "iopub.execute_input": "2024-04-06T15:01:35.907481Z",
     "iopub.status.busy": "2024-04-06T15:01:35.907186Z",
     "iopub.status.idle": "2024-04-06T15:01:35.978223Z",
     "shell.execute_reply": "2024-04-06T15:01:35.977462Z"
    },
    "id": "GuXw2uzFNF3h",
    "outputId": "67481c8a-a91a-4854-a60e-e744ce5bec97",
    "papermill": {
     "duration": 0.097812,
     "end_time": "2024-04-06T15:01:35.980197",
     "exception": false,
     "start_time": "2024-04-06T15:01:35.882385",
     "status": "completed"
    },
    "tags": []
   },
   "outputs": [
    {
     "name": "stdout",
     "output_type": "stream",
     "text": [
      "Found 1516 images belonging to 2 classes.\n",
      "Found 192 images belonging to 2 classes.\n",
      "Found 188 images belonging to 2 classes.\n"
     ]
    }
   ],
   "source": [
    "train_ds=traingen.flow_from_directory(batch_size=32,directory=train_path,shuffle=True,\n",
    "                                                 target_size=(224,224),class_mode='categorical')\n",
    "test_ds=traingen.flow_from_directory(batch_size=32,directory=test_path,shuffle=False,target_size=(224,224), \n",
    "                                                 class_mode='categorical')\n",
    "\n",
    "val_ds=traingen.flow_from_directory(batch_size=32,directory=val_path,shuffle=True,target_size=(224,224), \n",
    "                                                 class_mode='categorical')"
   ]
  },
  {
   "cell_type": "code",
   "execution_count": 7,
   "id": "a60e2495",
   "metadata": {
    "execution": {
     "iopub.execute_input": "2024-04-06T15:01:36.028586Z",
     "iopub.status.busy": "2024-04-06T15:01:36.028238Z",
     "iopub.status.idle": "2024-04-06T15:01:37.727023Z",
     "shell.execute_reply": "2024-04-06T15:01:37.726066Z"
    },
    "papermill": {
     "duration": 1.72558,
     "end_time": "2024-04-06T15:01:37.729721",
     "exception": false,
     "start_time": "2024-04-06T15:01:36.004141",
     "status": "completed"
    },
    "tags": []
   },
   "outputs": [
    {
     "name": "stdout",
     "output_type": "stream",
     "text": [
      "Downloading data from https://storage.googleapis.com/tensorflow/keras-applications/mobilenet/mobilenet_1_0_224_tf_no_top.h5\n",
      "\u001b[1m17225924/17225924\u001b[0m \u001b[32m━━━━━━━━━━━━━━━━━━━━\u001b[0m\u001b[37m\u001b[0m \u001b[1m0s\u001b[0m 0us/step\n"
     ]
    }
   ],
   "source": [
    "from tensorflow.keras.applications import MobileNet\n",
    "\n",
    "base_model = MobileNet(weights=\"imagenet\", include_top=False, input_shape=(224,224,3))\n",
    "base_model.trainable = False"
   ]
  },
  {
   "cell_type": "code",
   "execution_count": 8,
   "id": "d1ad7225",
   "metadata": {
    "execution": {
     "iopub.execute_input": "2024-04-06T15:01:37.778737Z",
     "iopub.status.busy": "2024-04-06T15:01:37.778403Z",
     "iopub.status.idle": "2024-04-06T15:01:37.786213Z",
     "shell.execute_reply": "2024-04-06T15:01:37.785290Z"
    },
    "papermill": {
     "duration": 0.034837,
     "end_time": "2024-04-06T15:01:37.788340",
     "exception": false,
     "start_time": "2024-04-06T15:01:37.753503",
     "status": "completed"
    },
    "tags": []
   },
   "outputs": [],
   "source": [
    "from tensorflow.keras import layers, models\n",
    "\n",
    "global_layer = GlobalAveragePooling2D()\n",
    "prediction_layer = layers.Dense(2, activation='softmax')\n",
    "\n",
    "\n",
    "model = models.Sequential([\n",
    "    base_model,\n",
    "    global_layer,\n",
    "   \n",
    "    prediction_layer\n",
    "])"
   ]
  },
  {
   "cell_type": "code",
   "execution_count": 9,
   "id": "591ce741",
   "metadata": {
    "execution": {
     "iopub.execute_input": "2024-04-06T15:01:37.836203Z",
     "iopub.status.busy": "2024-04-06T15:01:37.835923Z",
     "iopub.status.idle": "2024-04-06T15:01:37.858018Z",
     "shell.execute_reply": "2024-04-06T15:01:37.857178Z"
    },
    "papermill": {
     "duration": 0.047679,
     "end_time": "2024-04-06T15:01:37.859875",
     "exception": false,
     "start_time": "2024-04-06T15:01:37.812196",
     "status": "completed"
    },
    "tags": []
   },
   "outputs": [
    {
     "data": {
      "text/html": [
       "<pre style=\"white-space:pre;overflow-x:auto;line-height:normal;font-family:Menlo,'DejaVu Sans Mono',consolas,'Courier New',monospace\"><span style=\"font-weight: bold\">Model: \"sequential\"</span>\n",
       "</pre>\n"
      ],
      "text/plain": [
       "\u001b[1mModel: \"sequential\"\u001b[0m\n"
      ]
     },
     "metadata": {},
     "output_type": "display_data"
    },
    {
     "data": {
      "text/html": [
       "<pre style=\"white-space:pre;overflow-x:auto;line-height:normal;font-family:Menlo,'DejaVu Sans Mono',consolas,'Courier New',monospace\">┏━━━━━━━━━━━━━━━━━━━━━━━━━━━━━━━━━┳━━━━━━━━━━━━━━━━━━━━━━━━┳━━━━━━━━━━━━━━━┓\n",
       "┃<span style=\"font-weight: bold\"> Layer (type)                    </span>┃<span style=\"font-weight: bold\"> Output Shape           </span>┃<span style=\"font-weight: bold\">       Param # </span>┃\n",
       "┡━━━━━━━━━━━━━━━━━━━━━━━━━━━━━━━━━╇━━━━━━━━━━━━━━━━━━━━━━━━╇━━━━━━━━━━━━━━━┩\n",
       "│ mobilenet_1.00_224 (<span style=\"color: #0087ff; text-decoration-color: #0087ff\">Functional</span>) │ ?                      │     <span style=\"color: #00af00; text-decoration-color: #00af00\">3,228,864</span> │\n",
       "├─────────────────────────────────┼────────────────────────┼───────────────┤\n",
       "│ global_average_pooling2d        │ ?                      │   <span style=\"color: #00af00; text-decoration-color: #00af00\">0</span> (unbuilt) │\n",
       "│ (<span style=\"color: #0087ff; text-decoration-color: #0087ff\">GlobalAveragePooling2D</span>)        │                        │               │\n",
       "├─────────────────────────────────┼────────────────────────┼───────────────┤\n",
       "│ dense (<span style=\"color: #0087ff; text-decoration-color: #0087ff\">Dense</span>)                   │ ?                      │   <span style=\"color: #00af00; text-decoration-color: #00af00\">0</span> (unbuilt) │\n",
       "└─────────────────────────────────┴────────────────────────┴───────────────┘\n",
       "</pre>\n"
      ],
      "text/plain": [
       "┏━━━━━━━━━━━━━━━━━━━━━━━━━━━━━━━━━┳━━━━━━━━━━━━━━━━━━━━━━━━┳━━━━━━━━━━━━━━━┓\n",
       "┃\u001b[1m \u001b[0m\u001b[1mLayer (type)                   \u001b[0m\u001b[1m \u001b[0m┃\u001b[1m \u001b[0m\u001b[1mOutput Shape          \u001b[0m\u001b[1m \u001b[0m┃\u001b[1m \u001b[0m\u001b[1m      Param #\u001b[0m\u001b[1m \u001b[0m┃\n",
       "┡━━━━━━━━━━━━━━━━━━━━━━━━━━━━━━━━━╇━━━━━━━━━━━━━━━━━━━━━━━━╇━━━━━━━━━━━━━━━┩\n",
       "│ mobilenet_1.00_224 (\u001b[38;5;33mFunctional\u001b[0m) │ ?                      │     \u001b[38;5;34m3,228,864\u001b[0m │\n",
       "├─────────────────────────────────┼────────────────────────┼───────────────┤\n",
       "│ global_average_pooling2d        │ ?                      │   \u001b[38;5;34m0\u001b[0m (unbuilt) │\n",
       "│ (\u001b[38;5;33mGlobalAveragePooling2D\u001b[0m)        │                        │               │\n",
       "├─────────────────────────────────┼────────────────────────┼───────────────┤\n",
       "│ dense (\u001b[38;5;33mDense\u001b[0m)                   │ ?                      │   \u001b[38;5;34m0\u001b[0m (unbuilt) │\n",
       "└─────────────────────────────────┴────────────────────────┴───────────────┘\n"
      ]
     },
     "metadata": {},
     "output_type": "display_data"
    },
    {
     "data": {
      "text/html": [
       "<pre style=\"white-space:pre;overflow-x:auto;line-height:normal;font-family:Menlo,'DejaVu Sans Mono',consolas,'Courier New',monospace\"><span style=\"font-weight: bold\"> Total params: </span><span style=\"color: #00af00; text-decoration-color: #00af00\">3,228,864</span> (12.32 MB)\n",
       "</pre>\n"
      ],
      "text/plain": [
       "\u001b[1m Total params: \u001b[0m\u001b[38;5;34m3,228,864\u001b[0m (12.32 MB)\n"
      ]
     },
     "metadata": {},
     "output_type": "display_data"
    },
    {
     "data": {
      "text/html": [
       "<pre style=\"white-space:pre;overflow-x:auto;line-height:normal;font-family:Menlo,'DejaVu Sans Mono',consolas,'Courier New',monospace\"><span style=\"font-weight: bold\"> Trainable params: </span><span style=\"color: #00af00; text-decoration-color: #00af00\">0</span> (0.00 B)\n",
       "</pre>\n"
      ],
      "text/plain": [
       "\u001b[1m Trainable params: \u001b[0m\u001b[38;5;34m0\u001b[0m (0.00 B)\n"
      ]
     },
     "metadata": {},
     "output_type": "display_data"
    },
    {
     "data": {
      "text/html": [
       "<pre style=\"white-space:pre;overflow-x:auto;line-height:normal;font-family:Menlo,'DejaVu Sans Mono',consolas,'Courier New',monospace\"><span style=\"font-weight: bold\"> Non-trainable params: </span><span style=\"color: #00af00; text-decoration-color: #00af00\">3,228,864</span> (12.32 MB)\n",
       "</pre>\n"
      ],
      "text/plain": [
       "\u001b[1m Non-trainable params: \u001b[0m\u001b[38;5;34m3,228,864\u001b[0m (12.32 MB)\n"
      ]
     },
     "metadata": {},
     "output_type": "display_data"
    }
   ],
   "source": [
    "model.summary()"
   ]
  },
  {
   "cell_type": "code",
   "execution_count": 10,
   "id": "5aad82a5",
   "metadata": {
    "execution": {
     "iopub.execute_input": "2024-04-06T15:01:37.909456Z",
     "iopub.status.busy": "2024-04-06T15:01:37.909189Z",
     "iopub.status.idle": "2024-04-06T15:01:37.913308Z",
     "shell.execute_reply": "2024-04-06T15:01:37.912366Z"
    },
    "id": "qxnjxaIjNF3y",
    "papermill": {
     "duration": 0.031038,
     "end_time": "2024-04-06T15:01:37.915224",
     "exception": false,
     "start_time": "2024-04-06T15:01:37.884186",
     "status": "completed"
    },
    "tags": []
   },
   "outputs": [],
   "source": [
    "callback = tf.keras.callbacks.EarlyStopping(monitor='val_loss', patience=10)"
   ]
  },
  {
   "cell_type": "code",
   "execution_count": 11,
   "id": "93862022",
   "metadata": {
    "execution": {
     "iopub.execute_input": "2024-04-06T15:01:37.964716Z",
     "iopub.status.busy": "2024-04-06T15:01:37.964459Z",
     "iopub.status.idle": "2024-04-06T15:01:37.982578Z",
     "shell.execute_reply": "2024-04-06T15:01:37.981839Z"
    },
    "id": "7qic40JXNF3y",
    "papermill": {
     "duration": 0.044998,
     "end_time": "2024-04-06T15:01:37.984455",
     "exception": false,
     "start_time": "2024-04-06T15:01:37.939457",
     "status": "completed"
    },
    "tags": []
   },
   "outputs": [],
   "source": [
    "model.compile(\n",
    "    loss=keras.losses.CategoricalCrossentropy(),optimizer = tf.keras.optimizers.Adam(beta_1=0.9,\n",
    "    beta_2=0.999),\n",
    "    metrics=[keras.metrics.CategoricalAccuracy(name=\"accuracy\")],\n",
    ")"
   ]
  },
  {
   "cell_type": "code",
   "execution_count": 12,
   "id": "10689a15",
   "metadata": {
    "execution": {
     "iopub.execute_input": "2024-04-06T15:01:38.033886Z",
     "iopub.status.busy": "2024-04-06T15:01:38.033634Z",
     "iopub.status.idle": "2024-04-06T15:06:59.748055Z",
     "shell.execute_reply": "2024-04-06T15:06:59.747248Z"
    },
    "id": "kUox8hWbSjqX",
    "outputId": "164b0024-0167-4ade-fffa-de8c8c095045",
    "papermill": {
     "duration": 321.741603,
     "end_time": "2024-04-06T15:06:59.750183",
     "exception": false,
     "start_time": "2024-04-06T15:01:38.008580",
     "status": "completed"
    },
    "tags": []
   },
   "outputs": [
    {
     "name": "stdout",
     "output_type": "stream",
     "text": [
      "Epoch 1/30\n",
      "\u001b[1m 1/48\u001b[0m \u001b[37m━━━━━━━━━━━━━━━━━━━━\u001b[0m \u001b[1m7:01\u001b[0m 9s/step - accuracy: 0.6562 - loss: 0.6192"
     ]
    },
    {
     "name": "stderr",
     "output_type": "stream",
     "text": [
      "WARNING: All log messages before absl::InitializeLog() is called are written to STDERR\n",
      "I0000 00:00:1712415707.225969      94 device_compiler.h:186] Compiled cluster using XLA!  This line is logged at most once for the lifetime of the process.\n"
     ]
    },
    {
     "name": "stdout",
     "output_type": "stream",
     "text": [
      "\u001b[1m48/48\u001b[0m \u001b[32m━━━━━━━━━━━━━━━━━━━━\u001b[0m\u001b[37m\u001b[0m \u001b[1m25s\u001b[0m 343ms/step - accuracy: 0.8182 - loss: 0.4765 - val_accuracy: 0.9628 - val_loss: 0.2133\n",
      "Epoch 2/30\n",
      "\u001b[1m48/48\u001b[0m \u001b[32m━━━━━━━━━━━━━━━━━━━━\u001b[0m\u001b[37m\u001b[0m \u001b[1m11s\u001b[0m 195ms/step - accuracy: 0.9454 - loss: 0.2119 - val_accuracy: 0.9734 - val_loss: 0.1382\n",
      "Epoch 3/30\n",
      "\u001b[1m48/48\u001b[0m \u001b[32m━━━━━━━━━━━━━━━━━━━━\u001b[0m\u001b[37m\u001b[0m \u001b[1m11s\u001b[0m 193ms/step - accuracy: 0.9649 - loss: 0.1463 - val_accuracy: 0.9734 - val_loss: 0.1093\n",
      "Epoch 4/30\n",
      "\u001b[1m48/48\u001b[0m \u001b[32m━━━━━━━━━━━━━━━━━━━━\u001b[0m\u001b[37m\u001b[0m \u001b[1m10s\u001b[0m 184ms/step - accuracy: 0.9629 - loss: 0.1218 - val_accuracy: 0.9681 - val_loss: 0.1004\n",
      "Epoch 5/30\n",
      "\u001b[1m48/48\u001b[0m \u001b[32m━━━━━━━━━━━━━━━━━━━━\u001b[0m\u001b[37m\u001b[0m \u001b[1m10s\u001b[0m 184ms/step - accuracy: 0.9735 - loss: 0.1024 - val_accuracy: 0.9787 - val_loss: 0.0775\n",
      "Epoch 6/30\n",
      "\u001b[1m48/48\u001b[0m \u001b[32m━━━━━━━━━━━━━━━━━━━━\u001b[0m\u001b[37m\u001b[0m \u001b[1m10s\u001b[0m 182ms/step - accuracy: 0.9718 - loss: 0.1001 - val_accuracy: 0.9947 - val_loss: 0.0708\n",
      "Epoch 7/30\n",
      "\u001b[1m48/48\u001b[0m \u001b[32m━━━━━━━━━━━━━━━━━━━━\u001b[0m\u001b[37m\u001b[0m \u001b[1m11s\u001b[0m 191ms/step - accuracy: 0.9733 - loss: 0.0881 - val_accuracy: 0.9734 - val_loss: 0.0647\n",
      "Epoch 8/30\n",
      "\u001b[1m48/48\u001b[0m \u001b[32m━━━━━━━━━━━━━━━━━━━━\u001b[0m\u001b[37m\u001b[0m \u001b[1m10s\u001b[0m 184ms/step - accuracy: 0.9738 - loss: 0.0816 - val_accuracy: 0.9734 - val_loss: 0.0673\n",
      "Epoch 9/30\n",
      "\u001b[1m48/48\u001b[0m \u001b[32m━━━━━━━━━━━━━━━━━━━━\u001b[0m\u001b[37m\u001b[0m \u001b[1m10s\u001b[0m 180ms/step - accuracy: 0.9662 - loss: 0.0810 - val_accuracy: 0.9894 - val_loss: 0.0541\n",
      "Epoch 10/30\n",
      "\u001b[1m48/48\u001b[0m \u001b[32m━━━━━━━━━━━━━━━━━━━━\u001b[0m\u001b[37m\u001b[0m \u001b[1m10s\u001b[0m 189ms/step - accuracy: 0.9780 - loss: 0.0674 - val_accuracy: 0.9947 - val_loss: 0.0491\n",
      "Epoch 11/30\n",
      "\u001b[1m48/48\u001b[0m \u001b[32m━━━━━━━━━━━━━━━━━━━━\u001b[0m\u001b[37m\u001b[0m \u001b[1m10s\u001b[0m 183ms/step - accuracy: 0.9827 - loss: 0.0616 - val_accuracy: 0.9787 - val_loss: 0.0512\n",
      "Epoch 12/30\n",
      "\u001b[1m48/48\u001b[0m \u001b[32m━━━━━━━━━━━━━━━━━━━━\u001b[0m\u001b[37m\u001b[0m \u001b[1m10s\u001b[0m 182ms/step - accuracy: 0.9807 - loss: 0.0612 - val_accuracy: 0.9787 - val_loss: 0.0453\n",
      "Epoch 13/30\n",
      "\u001b[1m48/48\u001b[0m \u001b[32m━━━━━━━━━━━━━━━━━━━━\u001b[0m\u001b[37m\u001b[0m \u001b[1m10s\u001b[0m 183ms/step - accuracy: 0.9817 - loss: 0.0565 - val_accuracy: 0.9947 - val_loss: 0.0416\n",
      "Epoch 14/30\n",
      "\u001b[1m48/48\u001b[0m \u001b[32m━━━━━━━━━━━━━━━━━━━━\u001b[0m\u001b[37m\u001b[0m \u001b[1m11s\u001b[0m 193ms/step - accuracy: 0.9747 - loss: 0.0652 - val_accuracy: 0.9947 - val_loss: 0.0385\n",
      "Epoch 15/30\n",
      "\u001b[1m48/48\u001b[0m \u001b[32m━━━━━━━━━━━━━━━━━━━━\u001b[0m\u001b[37m\u001b[0m \u001b[1m10s\u001b[0m 184ms/step - accuracy: 0.9764 - loss: 0.0632 - val_accuracy: 0.9894 - val_loss: 0.0473\n",
      "Epoch 16/30\n",
      "\u001b[1m48/48\u001b[0m \u001b[32m━━━━━━━━━━━━━━━━━━━━\u001b[0m\u001b[37m\u001b[0m \u001b[1m10s\u001b[0m 185ms/step - accuracy: 0.9772 - loss: 0.0635 - val_accuracy: 0.9787 - val_loss: 0.0436\n",
      "Epoch 17/30\n",
      "\u001b[1m48/48\u001b[0m \u001b[32m━━━━━━━━━━━━━━━━━━━━\u001b[0m\u001b[37m\u001b[0m \u001b[1m10s\u001b[0m 182ms/step - accuracy: 0.9794 - loss: 0.0490 - val_accuracy: 0.9947 - val_loss: 0.0340\n",
      "Epoch 18/30\n",
      "\u001b[1m48/48\u001b[0m \u001b[32m━━━━━━━━━━━━━━━━━━━━\u001b[0m\u001b[37m\u001b[0m \u001b[1m10s\u001b[0m 186ms/step - accuracy: 0.9845 - loss: 0.0466 - val_accuracy: 0.9894 - val_loss: 0.0350\n",
      "Epoch 19/30\n",
      "\u001b[1m48/48\u001b[0m \u001b[32m━━━━━━━━━━━━━━━━━━━━\u001b[0m\u001b[37m\u001b[0m \u001b[1m10s\u001b[0m 187ms/step - accuracy: 0.9834 - loss: 0.0510 - val_accuracy: 0.9947 - val_loss: 0.0318\n",
      "Epoch 20/30\n",
      "\u001b[1m48/48\u001b[0m \u001b[32m━━━━━━━━━━━━━━━━━━━━\u001b[0m\u001b[37m\u001b[0m \u001b[1m10s\u001b[0m 188ms/step - accuracy: 0.9877 - loss: 0.0433 - val_accuracy: 0.9894 - val_loss: 0.0350\n",
      "Epoch 21/30\n",
      "\u001b[1m48/48\u001b[0m \u001b[32m━━━━━━━━━━━━━━━━━━━━\u001b[0m\u001b[37m\u001b[0m \u001b[1m10s\u001b[0m 188ms/step - accuracy: 0.9809 - loss: 0.0502 - val_accuracy: 0.9947 - val_loss: 0.0287\n",
      "Epoch 22/30\n",
      "\u001b[1m48/48\u001b[0m \u001b[32m━━━━━━━━━━━━━━━━━━━━\u001b[0m\u001b[37m\u001b[0m \u001b[1m10s\u001b[0m 187ms/step - accuracy: 0.9796 - loss: 0.0474 - val_accuracy: 0.9947 - val_loss: 0.0288\n",
      "Epoch 23/30\n",
      "\u001b[1m48/48\u001b[0m \u001b[32m━━━━━━━━━━━━━━━━━━━━\u001b[0m\u001b[37m\u001b[0m \u001b[1m10s\u001b[0m 185ms/step - accuracy: 0.9809 - loss: 0.0475 - val_accuracy: 0.9947 - val_loss: 0.0272\n",
      "Epoch 24/30\n",
      "\u001b[1m48/48\u001b[0m \u001b[32m━━━━━━━━━━━━━━━━━━━━\u001b[0m\u001b[37m\u001b[0m \u001b[1m10s\u001b[0m 184ms/step - accuracy: 0.9848 - loss: 0.0405 - val_accuracy: 0.9947 - val_loss: 0.0256\n",
      "Epoch 25/30\n",
      "\u001b[1m48/48\u001b[0m \u001b[32m━━━━━━━━━━━━━━━━━━━━\u001b[0m\u001b[37m\u001b[0m \u001b[1m10s\u001b[0m 176ms/step - accuracy: 0.9798 - loss: 0.0494 - val_accuracy: 0.9947 - val_loss: 0.0257\n",
      "Epoch 26/30\n",
      "\u001b[1m48/48\u001b[0m \u001b[32m━━━━━━━━━━━━━━━━━━━━\u001b[0m\u001b[37m\u001b[0m \u001b[1m10s\u001b[0m 183ms/step - accuracy: 0.9848 - loss: 0.0383 - val_accuracy: 0.9947 - val_loss: 0.0271\n",
      "Epoch 27/30\n",
      "\u001b[1m48/48\u001b[0m \u001b[32m━━━━━━━━━━━━━━━━━━━━\u001b[0m\u001b[37m\u001b[0m \u001b[1m10s\u001b[0m 176ms/step - accuracy: 0.9899 - loss: 0.0346 - val_accuracy: 0.9947 - val_loss: 0.0239\n",
      "Epoch 28/30\n",
      "\u001b[1m48/48\u001b[0m \u001b[32m━━━━━━━━━━━━━━━━━━━━\u001b[0m\u001b[37m\u001b[0m \u001b[1m10s\u001b[0m 180ms/step - accuracy: 0.9851 - loss: 0.0386 - val_accuracy: 0.9947 - val_loss: 0.0246\n",
      "Epoch 29/30\n",
      "\u001b[1m48/48\u001b[0m \u001b[32m━━━━━━━━━━━━━━━━━━━━\u001b[0m\u001b[37m\u001b[0m \u001b[1m10s\u001b[0m 180ms/step - accuracy: 0.9909 - loss: 0.0335 - val_accuracy: 0.9894 - val_loss: 0.0303\n",
      "Epoch 30/30\n",
      "\u001b[1m48/48\u001b[0m \u001b[32m━━━━━━━━━━━━━━━━━━━━\u001b[0m\u001b[37m\u001b[0m \u001b[1m10s\u001b[0m 181ms/step - accuracy: 0.9841 - loss: 0.0373 - val_accuracy: 0.9947 - val_loss: 0.0216\n"
     ]
    }
   ],
   "source": [
    "history = model.fit(train_ds,\n",
    "                 validation_data=val_ds,batch_size=32,epochs=30,\n",
    "                    verbose=1 )"
   ]
  },
  {
   "cell_type": "code",
   "execution_count": 13,
   "id": "55b09945",
   "metadata": {
    "execution": {
     "iopub.execute_input": "2024-04-06T15:07:00.010330Z",
     "iopub.status.busy": "2024-04-06T15:07:00.009990Z",
     "iopub.status.idle": "2024-04-06T15:07:02.855907Z",
     "shell.execute_reply": "2024-04-06T15:07:02.855106Z"
    },
    "id": "MMkmRvtYNF32",
    "papermill": {
     "duration": 2.977948,
     "end_time": "2024-04-06T15:07:02.858049",
     "exception": false,
     "start_time": "2024-04-06T15:06:59.880101",
     "status": "completed"
    },
    "tags": []
   },
   "outputs": [
    {
     "name": "stdout",
     "output_type": "stream",
     "text": [
      "\u001b[1m6/6\u001b[0m \u001b[32m━━━━━━━━━━━━━━━━━━━━\u001b[0m\u001b[37m\u001b[0m \u001b[1m3s\u001b[0m 141ms/step\n"
     ]
    }
   ],
   "source": [
    "from tensorflow.keras.utils import to_categorical\n",
    "y_pred = model.predict(test_ds)\n",
    "y_pred2= to_categorical(np.argmax(y_pred, axis=1), 2)\n",
    "\n",
    "y_test= to_categorical(test_ds.labels, 2)\n",
    "\n",
    "# Using it in AUC\n",
    "y_pred1=(np.argmax(y_pred, axis=1))\n",
    "y_test1=(np.argmax(y_test, axis=1))"
   ]
  },
  {
   "cell_type": "code",
   "execution_count": 14,
   "id": "07f1f6d9",
   "metadata": {
    "execution": {
     "iopub.execute_input": "2024-04-06T15:07:03.122190Z",
     "iopub.status.busy": "2024-04-06T15:07:03.121340Z",
     "iopub.status.idle": "2024-04-06T15:07:03.126372Z",
     "shell.execute_reply": "2024-04-06T15:07:03.125385Z"
    },
    "id": "5T7AcO-qNF39",
    "papermill": {
     "duration": 0.137742,
     "end_time": "2024-04-06T15:07:03.128280",
     "exception": false,
     "start_time": "2024-04-06T15:07:02.990538",
     "status": "completed"
    },
    "tags": []
   },
   "outputs": [],
   "source": [
    "# Computing the Accuracy Score  : ((TP + TN) / float(TP + TN + FP + FN))\n",
    "def Accuracy(y_test , y_pred):\n",
    "    AccScore = accuracy_score(y_test, y_pred, normalize=True)\n",
    "    return AccScore"
   ]
  },
  {
   "cell_type": "code",
   "execution_count": 15,
   "id": "28bbab3b",
   "metadata": {
    "execution": {
     "iopub.execute_input": "2024-04-06T15:07:03.387736Z",
     "iopub.status.busy": "2024-04-06T15:07:03.387429Z",
     "iopub.status.idle": "2024-04-06T15:07:03.391886Z",
     "shell.execute_reply": "2024-04-06T15:07:03.391163Z"
    },
    "id": "F4ybNB84NF3-",
    "papermill": {
     "duration": 0.135312,
     "end_time": "2024-04-06T15:07:03.393759",
     "exception": false,
     "start_time": "2024-04-06T15:07:03.258447",
     "status": "completed"
    },
    "tags": []
   },
   "outputs": [],
   "source": [
    "#Computing the Precision metric (Some times called Specificity): #(True Positives / float(True Positives + False Posivites))  \n",
    "def macro_precision(y_test , y_pred):\n",
    "    PrecisionScore = precision_score(y_test, y_pred, average='macro') \n",
    "    return PrecisionScore"
   ]
  },
  {
   "cell_type": "code",
   "execution_count": 16,
   "id": "10c65807",
   "metadata": {
    "execution": {
     "iopub.execute_input": "2024-04-06T15:07:03.653390Z",
     "iopub.status.busy": "2024-04-06T15:07:03.652766Z",
     "iopub.status.idle": "2024-04-06T15:07:03.657490Z",
     "shell.execute_reply": "2024-04-06T15:07:03.656636Z"
    },
    "id": "jGSq3v5gNF3_",
    "papermill": {
     "duration": 0.137832,
     "end_time": "2024-04-06T15:07:03.659368",
     "exception": false,
     "start_time": "2024-04-06T15:07:03.521536",
     "status": "completed"
    },
    "tags": []
   },
   "outputs": [],
   "source": [
    "#Computing the Recall Score : (Some times called Sensitivity) (TP / float(TP + FN))   1 / 1+2  \n",
    "def macro_recall(y_test , y_pred):\n",
    "    RecallScore = recall_score(y_test, y_pred, average='macro') \n",
    "    return  RecallScore"
   ]
  },
  {
   "cell_type": "code",
   "execution_count": 17,
   "id": "831796c3",
   "metadata": {
    "execution": {
     "iopub.execute_input": "2024-04-06T15:07:03.920757Z",
     "iopub.status.busy": "2024-04-06T15:07:03.920372Z",
     "iopub.status.idle": "2024-04-06T15:07:03.925114Z",
     "shell.execute_reply": "2024-04-06T15:07:03.924232Z"
    },
    "id": "zbng8rzRNF3_",
    "papermill": {
     "duration": 0.13775,
     "end_time": "2024-04-06T15:07:03.927079",
     "exception": false,
     "start_time": "2024-04-06T15:07:03.789329",
     "status": "completed"
    },
    "tags": []
   },
   "outputs": [],
   "source": [
    "#Computing the F1 Score  : 2 * (precision * recall) / (precision + recall)\n",
    "def macro_F1Score(y_test , y_pred):\n",
    "    F1Score = f1_score(y_test, y_pred, average='macro') \n",
    "    return F1Score"
   ]
  },
  {
   "cell_type": "code",
   "execution_count": 18,
   "id": "e9b009a4",
   "metadata": {
    "execution": {
     "iopub.execute_input": "2024-04-06T15:07:04.193947Z",
     "iopub.status.busy": "2024-04-06T15:07:04.193590Z",
     "iopub.status.idle": "2024-04-06T15:07:04.200651Z",
     "shell.execute_reply": "2024-04-06T15:07:04.199779Z"
    },
    "id": "SWbpYe9ENF4A",
    "papermill": {
     "duration": 0.144076,
     "end_time": "2024-04-06T15:07:04.202624",
     "exception": false,
     "start_time": "2024-04-06T15:07:04.058548",
     "status": "completed"
    },
    "tags": []
   },
   "outputs": [],
   "source": [
    "from sklearn.metrics import roc_auc_score\n",
    "\n",
    "# Calculating Area under the curve\n",
    "def AUC(actual_class, pred_class, average = \"micro\"):\n",
    "    \n",
    "    #Making a set of all the unique classes \n",
    "    unique_class = set(actual_class)\n",
    "    roc_auc_dict = {}\n",
    "    for per_class in unique_class:\n",
    "        \n",
    "        #Making a list of all the classes except the current class \n",
    "        other_class = [x for x in unique_class if x != per_class]\n",
    "\n",
    "        #Making the current class with label 1 and all other classes as a label 0\n",
    "        new_actual_class = [0 if x in other_class else 1 for x in actual_class]\n",
    "        new_pred_class = [0 if x in other_class else 1 for x in pred_class]\n",
    "\n",
    "        # Calculating the roc_auc_score\n",
    "        roc_auc = roc_auc_score(new_actual_class, new_pred_class, average = average)\n",
    "        roc_auc_dict[per_class] = roc_auc\n",
    "\n",
    "    return roc_auc_dict"
   ]
  },
  {
   "cell_type": "code",
   "execution_count": 19,
   "id": "cdd51c50",
   "metadata": {
    "execution": {
     "iopub.execute_input": "2024-04-06T15:07:04.462026Z",
     "iopub.status.busy": "2024-04-06T15:07:04.461284Z",
     "iopub.status.idle": "2024-04-06T15:07:05.841018Z",
     "shell.execute_reply": "2024-04-06T15:07:05.839831Z"
    },
    "id": "OIJ_0Cd3NF4B",
    "outputId": "1f5d13ea-6730-4838-d974-3e03fa9452fc",
    "papermill": {
     "duration": 1.511292,
     "end_time": "2024-04-06T15:07:05.843035",
     "exception": false,
     "start_time": "2024-04-06T15:07:04.331743",
     "status": "completed"
    },
    "tags": []
   },
   "outputs": [
    {
     "name": "stdout",
     "output_type": "stream",
     "text": [
      "***** Model Evaluations Details ******** \n",
      "\n",
      "\u001b[1m6/6\u001b[0m \u001b[32m━━━━━━━━━━━━━━━━━━━━\u001b[0m\u001b[37m\u001b[0m \u001b[1m1s\u001b[0m 187ms/step - accuracy: 0.9830 - loss: 0.0309\n",
      "Test loss, Test acc :  [0.036728791892528534, 0.9791666865348816]\n",
      "******************************\n",
      "Accurayc  :  0.9791666666666666\n",
      "******************************\n",
      "Precision Score is :  0.9791666666666666\n",
      "******************************\n",
      "Recall Scores is :  0.9791666666666666\n",
      "******************************\n",
      "F1 Score is :  0.9791666666666666\n",
      "******************************\n",
      "AUC Score is :  {0: 0.9791666666666665, 1: 0.9791666666666665}\n"
     ]
    }
   ],
   "source": [
    "print(\"***** Model Evaluations Details ******** \\n\")\n",
    "print(\"Test loss, Test acc : \" , model.evaluate(test_ds)) \n",
    "print(\"******************************\")\n",
    "print(\"Accurayc  : \" , Accuracy(test_ds.classes , y_pred1)) \n",
    "print(\"******************************\")\n",
    "print(\"Precision Score is : \" , macro_precision(test_ds.classes , y_pred1))\n",
    "print(\"******************************\")\n",
    "print(\"Recall Scores is : \" , macro_recall(test_ds.classes , y_pred1))\n",
    "print(\"******************************\")\n",
    "print('F1 Score is : ', macro_F1Score(test_ds.classes , y_pred1))\n",
    "print(\"******************************\")\n",
    "print('AUC Score is : ' , AUC(test_ds.classes, y_pred1))"
   ]
  },
  {
   "cell_type": "code",
   "execution_count": 20,
   "id": "552c124b",
   "metadata": {
    "execution": {
     "iopub.execute_input": "2024-04-06T15:07:06.105892Z",
     "iopub.status.busy": "2024-04-06T15:07:06.105225Z",
     "iopub.status.idle": "2024-04-06T15:07:06.109728Z",
     "shell.execute_reply": "2024-04-06T15:07:06.108779Z"
    },
    "papermill": {
     "duration": 0.138024,
     "end_time": "2024-04-06T15:07:06.111781",
     "exception": false,
     "start_time": "2024-04-06T15:07:05.973757",
     "status": "completed"
    },
    "tags": []
   },
   "outputs": [],
   "source": [
    "labels=[\"Class 0\",\"Class 1\"]"
   ]
  },
  {
   "cell_type": "code",
   "execution_count": 21,
   "id": "65a8322d",
   "metadata": {
    "execution": {
     "iopub.execute_input": "2024-04-06T15:07:06.377321Z",
     "iopub.status.busy": "2024-04-06T15:07:06.376637Z",
     "iopub.status.idle": "2024-04-06T15:07:06.389154Z",
     "shell.execute_reply": "2024-04-06T15:07:06.388154Z"
    },
    "papermill": {
     "duration": 0.146141,
     "end_time": "2024-04-06T15:07:06.391184",
     "exception": false,
     "start_time": "2024-04-06T15:07:06.245043",
     "status": "completed"
    },
    "tags": []
   },
   "outputs": [
    {
     "name": "stdout",
     "output_type": "stream",
     "text": [
      "              precision    recall  f1-score   support\n",
      "\n",
      "     Class 0       0.98      0.98      0.98        96\n",
      "     Class 1       0.98      0.98      0.98        96\n",
      "\n",
      "    accuracy                           0.98       192\n",
      "   macro avg       0.98      0.98      0.98       192\n",
      "weighted avg       0.98      0.98      0.98       192\n",
      "\n"
     ]
    }
   ],
   "source": [
    "print(classification_report(test_ds.classes, y_pred1,target_names=labels))\n"
   ]
  },
  {
   "cell_type": "code",
   "execution_count": 22,
   "id": "efe6c5c8",
   "metadata": {
    "execution": {
     "iopub.execute_input": "2024-04-06T15:07:06.652472Z",
     "iopub.status.busy": "2024-04-06T15:07:06.652117Z",
     "iopub.status.idle": "2024-04-06T15:07:06.659931Z",
     "shell.execute_reply": "2024-04-06T15:07:06.659030Z"
    },
    "papermill": {
     "duration": 0.14043,
     "end_time": "2024-04-06T15:07:06.661794",
     "exception": false,
     "start_time": "2024-04-06T15:07:06.521364",
     "status": "completed"
    },
    "tags": []
   },
   "outputs": [
    {
     "data": {
      "text/plain": [
       "RcParams({'axes.axisbelow': True,\n",
       "          'axes.edgecolor': '.8',\n",
       "          'axes.facecolor': 'white',\n",
       "          'axes.grid': True,\n",
       "          'axes.labelcolor': '.15',\n",
       "          'axes.linewidth': 1.0,\n",
       "          'figure.facecolor': 'white',\n",
       "          'font.family': ['sans-serif'],\n",
       "          'font.sans-serif': ['Arial',\n",
       "                              'Liberation Sans',\n",
       "                              'DejaVu Sans',\n",
       "                              'Bitstream Vera Sans',\n",
       "                              'sans-serif'],\n",
       "          'grid.color': '.8',\n",
       "          'grid.linestyle': '-',\n",
       "          'image.cmap': 'Greys',\n",
       "          'legend.frameon': False,\n",
       "          'legend.numpoints': 1,\n",
       "          'legend.scatterpoints': 1,\n",
       "          'lines.solid_capstyle': <CapStyle.round: 'round'>,\n",
       "          'text.color': '.15',\n",
       "          'xtick.color': '.15',\n",
       "          'xtick.direction': 'out',\n",
       "          'xtick.major.size': 0.0,\n",
       "          'xtick.minor.size': 0.0,\n",
       "          'ytick.color': '.15',\n",
       "          'ytick.direction': 'out',\n",
       "          'ytick.major.size': 0.0,\n",
       "          'ytick.minor.size': 0.0})"
      ]
     },
     "execution_count": 22,
     "metadata": {},
     "output_type": "execute_result"
    }
   ],
   "source": [
    "import seaborn as sns\n",
    "import matplotlib.pyplot as plt\n",
    "sns.set_style('whitegrid')\n",
    "plt.style.library['seaborn-whitegrid']"
   ]
  },
  {
   "cell_type": "code",
   "execution_count": 23,
   "id": "b9346e6d",
   "metadata": {
    "execution": {
     "iopub.execute_input": "2024-04-06T15:07:06.968358Z",
     "iopub.status.busy": "2024-04-06T15:07:06.967662Z",
     "iopub.status.idle": "2024-04-06T15:07:06.982818Z",
     "shell.execute_reply": "2024-04-06T15:07:06.981958Z"
    },
    "id": "V93RKPJKNF4C",
    "papermill": {
     "duration": 0.149707,
     "end_time": "2024-04-06T15:07:06.984715",
     "exception": false,
     "start_time": "2024-04-06T15:07:06.835008",
     "status": "completed"
    },
    "tags": []
   },
   "outputs": [],
   "source": [
    "def plot_roc_curve(y_test,y_pred):\n",
    "    n_classes=2\n",
    "    fpr = dict()\n",
    "    tpr = dict()\n",
    "    roc_auc = dict()\n",
    "    for i in range(n_classes):\n",
    "        fpr[i], tpr[i], _ = roc_curve(y_test[:, i], y_pred[:, i])\n",
    "        roc_auc[i] = auc(fpr[i], tpr[i])\n",
    "    fpr[\"micro\"], tpr[\"micro\"], _ = roc_curve(y_test.ravel(), y_pred.ravel())\n",
    "    roc_auc[\"micro\"] = auc(fpr[\"micro\"], tpr[\"micro\"])\n",
    "    lw=2\n",
    "    all_fpr = np.unique(np.concatenate([fpr[i] for i in range(n_classes)]))\n",
    "\n",
    "    mean_tpr = np.zeros_like(all_fpr)\n",
    "    for i in range(n_classes):\n",
    "        mean_tpr += np.interp(all_fpr, fpr[i], tpr[i])\n",
    "\n",
    "    mean_tpr /= n_classes\n",
    "\n",
    "    fpr[\"macro\"] = all_fpr\n",
    "    tpr[\"macro\"] = mean_tpr\n",
    "    roc_auc[\"macro\"] = auc(fpr[\"macro\"], tpr[\"macro\"])\n",
    "\n",
    "# Plot all ROC curves\n",
    "    plt.figure(figsize=(10, 10))\n",
    "    plt.plot(fpr[\"micro\"],\n",
    "    tpr[\"micro\"],\n",
    "    label=\"micro-average ROC curve (area = {0:0.2f})\".format(roc_auc[\"micro\"]),\n",
    "    color=\"deeppink\",\n",
    "    linestyle=\":\",\n",
    "    linewidth=4,)\n",
    "\n",
    "    plt.plot(fpr[\"macro\"],\n",
    "    tpr[\"macro\"],\n",
    "    label=\"macro-average ROC curve (area = {0:0.2f})\".format(roc_auc[\"macro\"]),\n",
    "    color=\"navy\",\n",
    "    linestyle=\":\",\n",
    "    linewidth=4,\n",
    ")\n",
    "    colors = cycle([\"aqua\", \"darkorange\", \"cornflowerblue\",'#9e9e9e','#b19a7e','#CD5C5C','#DFFF00',\n",
    "                   '#DE3163','#ff4d4d','#CCCCFF','#800080','#4F1D25','#ccffcc','#ff0040'\n",
    "                   ,'#4000ff','#0080ff','#ff8000','#666600','#b37700','#00b3b3','#003300','#FFC300','#A6F7BD',\n",
    "                   '#A6BDF7','#CAA6F7','#F7A6AC','#ADF7A6','#F5F7A6','#F7CCA6','#EE4949',\n",
    "                    '#DEA41F','#334471','#33716F','#343371','#772CE3','#B8BF20','#666B01','#0B6B01',\n",
    "                    '#F4B708','#179690'\n",
    "                   ])\n",
    "\n",
    "    for i, color in zip(range(n_classes), colors):\n",
    "        plt.plot(\n",
    "           fpr[i],\n",
    "           tpr[i],\n",
    "           color=color,\n",
    "           lw=lw,\n",
    "        label=\"ROC curve of class {0} (area = {1:0.2f})\".format(i, roc_auc[i]),\n",
    "    )\n",
    "\n",
    "    plt.plot([0, 1], [0, 1], \"k--\", lw=lw)\n",
    "    plt.xlim([0.0, 1.0])\n",
    "    plt.ylim([0.0, 1.05])\n",
    "    plt.xlabel(\"False Positive Rate\")\n",
    "    plt.ylabel(\"True Positive Rate\")\n",
    "    plt.title(\"Roc Curve\")\n",
    "    plt.legend(bbox_to_anchor=(1, 1))\n",
    "    plt.show()"
   ]
  },
  {
   "cell_type": "code",
   "execution_count": 24,
   "id": "30a6ff09",
   "metadata": {
    "execution": {
     "iopub.execute_input": "2024-04-06T15:07:07.250546Z",
     "iopub.status.busy": "2024-04-06T15:07:07.249679Z",
     "iopub.status.idle": "2024-04-06T15:07:07.255468Z",
     "shell.execute_reply": "2024-04-06T15:07:07.254727Z"
    },
    "id": "DEOkUcuvNF4C",
    "papermill": {
     "duration": 0.141652,
     "end_time": "2024-04-06T15:07:07.257688",
     "exception": false,
     "start_time": "2024-04-06T15:07:07.116036",
     "status": "completed"
    },
    "tags": []
   },
   "outputs": [],
   "source": [
    "def Acc_Loss_Graph(history):\n",
    "    # converting hsitory to dataframe\n",
    "    pd.DataFrame(history.history)\n",
    "\n",
    "    pd.DataFrame(history.history)[['accuracy', 'val_accuracy']].plot()\n",
    "    plt.title('Training Accuracy')\n",
    "    plt.xlabel('Epochs')\n",
    "    plt.ylabel('accuracy')\n",
    "\n",
    "    pd.DataFrame(history.history)[['loss', 'val_loss']].plot()\n",
    "    plt.title('Model Loss')\n",
    "    plt.xlabel('Epochs')\n",
    "    plt.ylabel('Loss')"
   ]
  },
  {
   "cell_type": "code",
   "execution_count": 25,
   "id": "11f77b3c",
   "metadata": {
    "execution": {
     "iopub.execute_input": "2024-04-06T15:07:07.521476Z",
     "iopub.status.busy": "2024-04-06T15:07:07.521117Z",
     "iopub.status.idle": "2024-04-06T15:07:07.525307Z",
     "shell.execute_reply": "2024-04-06T15:07:07.524466Z"
    },
    "papermill": {
     "duration": 0.138778,
     "end_time": "2024-04-06T15:07:07.527485",
     "exception": false,
     "start_time": "2024-04-06T15:07:07.388707",
     "status": "completed"
    },
    "tags": []
   },
   "outputs": [],
   "source": [
    "labels=np.array([\"Class 0\",\"Class 1\"])"
   ]
  },
  {
   "cell_type": "code",
   "execution_count": 26,
   "id": "34d5d15b",
   "metadata": {
    "execution": {
     "iopub.execute_input": "2024-04-06T15:07:07.792142Z",
     "iopub.status.busy": "2024-04-06T15:07:07.791488Z",
     "iopub.status.idle": "2024-04-06T15:07:07.796925Z",
     "shell.execute_reply": "2024-04-06T15:07:07.795864Z"
    },
    "id": "lGA3LmwQNF4D",
    "papermill": {
     "duration": 0.140758,
     "end_time": "2024-04-06T15:07:07.798898",
     "exception": false,
     "start_time": "2024-04-06T15:07:07.658140",
     "status": "completed"
    },
    "tags": []
   },
   "outputs": [],
   "source": [
    "def Confusion_Matrix(y_test , y_pred):\n",
    "    fig, ax = plt.subplots(figsize=(5,5))\n",
    "\n",
    "    #cnf_matrix = confusion_matrix()\n",
    "    disp = ConfusionMatrixDisplay.from_predictions(y_test, y_pred,display_labels=labels,ax=ax,xticks_rotation='vertical'\n",
    "                                                  ,cmap=\"Blues\")"
   ]
  },
  {
   "cell_type": "markdown",
   "id": "6ffe40d1",
   "metadata": {
    "id": "-F5dvUt-NF4E",
    "papermill": {
     "duration": 0.135393,
     "end_time": "2024-04-06T15:07:08.067243",
     "exception": false,
     "start_time": "2024-04-06T15:07:07.931850",
     "status": "completed"
    },
    "tags": []
   },
   "source": []
  },
  {
   "cell_type": "code",
   "execution_count": 27,
   "id": "2087b2f1",
   "metadata": {
    "execution": {
     "iopub.execute_input": "2024-04-06T15:07:08.337530Z",
     "iopub.status.busy": "2024-04-06T15:07:08.337128Z",
     "iopub.status.idle": "2024-04-06T15:07:09.301374Z",
     "shell.execute_reply": "2024-04-06T15:07:09.300315Z"
    },
    "id": "xUfvuLXMNF4H",
    "outputId": "4035144f-3ba6-4f6e-c668-9492e1f00f8f",
    "papermill": {
     "duration": 1.09895,
     "end_time": "2024-04-06T15:07:09.303712",
     "exception": false,
     "start_time": "2024-04-06T15:07:08.204762",
     "status": "completed"
    },
    "tags": []
   },
   "outputs": [
    {
     "data": {
      "image/png": "[encoded data removed]",
      "text/plain": [
       "<Figure size 640x480 with 1 Axes>"
      ]
     },
     "metadata": {},
     "output_type": "display_data"
    },
    {
     "data": {
      "image/png": "[encoded data removed]",
      "text/plain": [
       "<Figure size 640x480 with 1 Axes>"
      ]
     },
     "metadata": {},
     "output_type": "display_data"
    }
   ],
   "source": [
    "Acc_Loss_Graph(history)"
   ]
  },
  {
   "cell_type": "code",
   "execution_count": 28,
   "id": "22176f8a",
   "metadata": {
    "execution": {
     "iopub.execute_input": "2024-04-06T15:07:09.580025Z",
     "iopub.status.busy": "2024-04-06T15:07:09.579589Z",
     "iopub.status.idle": "2024-04-06T15:07:10.019229Z",
     "shell.execute_reply": "2024-04-06T15:07:10.018295Z"
    },
    "id": "dsXTjrCQNF4I",
    "outputId": "90859e23-d618-45f8-f939-4e44e2a0d93c",
    "papermill": {
     "duration": 0.576844,
     "end_time": "2024-04-06T15:07:10.021943",
     "exception": false,
     "start_time": "2024-04-06T15:07:09.445099",
     "status": "completed"
    },
    "tags": []
   },
   "outputs": [
    {
     "data": {
      "image/png": "[encoded data removed]",
      "text/plain": [
       "<Figure size 1000x1000 with 1 Axes>"
      ]
     },
     "metadata": {},
     "output_type": "display_data"
    }
   ],
   "source": [
    "plot_roc_curve(y_test,y_pred2)"
   ]
  },
  {
   "cell_type": "code",
   "execution_count": 29,
   "id": "b45c009d",
   "metadata": {
    "execution": {
     "iopub.execute_input": "2024-04-06T15:07:10.297447Z",
     "iopub.status.busy": "2024-04-06T15:07:10.297066Z",
     "iopub.status.idle": "2024-04-06T15:07:10.530836Z",
     "shell.execute_reply": "2024-04-06T15:07:10.529979Z"
    },
    "id": "Sv_qoovZNF4I",
    "outputId": "1ae0ce96-b37c-43b4-b3ca-33d66b1ae904",
    "papermill": {
     "duration": 0.37343,
     "end_time": "2024-04-06T15:07:10.532767",
     "exception": false,
     "start_time": "2024-04-06T15:07:10.159337",
     "status": "completed"
    },
    "tags": []
   },
   "outputs": [
    {
     "data": {
      "image/png": "[encoded data removed]",
      "text/plain": [
       "<Figure size 500x500 with 2 Axes>"
      ]
     },
     "metadata": {},
     "output_type": "display_data"
    }
   ],
   "source": [
    "Confusion_Matrix(test_ds.classes , y_pred1)"
   ]
  },
  {
   "cell_type": "code",
   "execution_count": 30,
   "id": "b2bb3e47",
   "metadata": {
    "execution": {
     "iopub.execute_input": "2024-04-06T15:07:10.802053Z",
     "iopub.status.busy": "2024-04-06T15:07:10.801220Z",
     "iopub.status.idle": "2024-04-06T15:07:10.808122Z",
     "shell.execute_reply": "2024-04-06T15:07:10.807215Z"
    },
    "papermill": {
     "duration": 0.142924,
     "end_time": "2024-04-06T15:07:10.810028",
     "exception": false,
     "start_time": "2024-04-06T15:07:10.667104",
     "status": "completed"
    },
    "tags": []
   },
   "outputs": [],
   "source": [
    "target_name={0:\"Class 0\",1:\"Class 1\",2:\"Class 2\",3:\"Class 3\",4:\"Class 4\",5:\"Class 5\",6:\"Class 6\",7:\"Class 7\",8:\"Class 8\",9:\"Class 9\",\n",
    "             10:\"Class 10\",11:\"Class 11\",12:\"Class 12\",\n",
    "               13:\"Class 13\",14:\"Class 14\",15:\"Class 15\",16:\"Class 16\",17:\"Class 17\",18:\"Class 18\",19:\"Class 19\",20:\"Class 20\",21:\"Class 21\",\n",
    "             22:\"Class 22\",23:\"Class 23\",24:\"Class 24\",25:\"Class 25\",26:\"Class 26\",27:\"Class 27\",28:\"Class 28\",29:\"Class 29\",30:\"Class 30\",31:\"Class 31\",32:\"Class 32\",33:\"Class 33\",34:\"Class 34\"\n",
    "                ,35:\"Class 35\",36:\"Class 36\",37:\"Class 37\"}"
   ]
  },
  {
   "cell_type": "code",
   "execution_count": 31,
   "id": "2bd91c36",
   "metadata": {
    "execution": {
     "iopub.execute_input": "2024-04-06T15:07:11.075759Z",
     "iopub.status.busy": "2024-04-06T15:07:11.075391Z",
     "iopub.status.idle": "2024-04-06T15:07:11.644822Z",
     "shell.execute_reply": "2024-04-06T15:07:11.643912Z"
    },
    "papermill": {
     "duration": 0.705055,
     "end_time": "2024-04-06T15:07:11.647122",
     "exception": false,
     "start_time": "2024-04-06T15:07:10.942067",
     "status": "completed"
    },
    "tags": []
   },
   "outputs": [],
   "source": [
    "from sklearn.manifold import TSNE\n",
    "tsne1 = TSNE(random_state = 42, n_components=2, verbose=0, perplexity=40, n_iter=300).fit_transform(y_pred)"
   ]
  },
  {
   "cell_type": "code",
   "execution_count": 32,
   "id": "9f20d25b",
   "metadata": {
    "execution": {
     "iopub.execute_input": "2024-04-06T15:07:11.932022Z",
     "iopub.status.busy": "2024-04-06T15:07:11.931460Z",
     "iopub.status.idle": "2024-04-06T15:07:11.945930Z",
     "shell.execute_reply": "2024-04-06T15:07:11.944764Z"
    },
    "papermill": {
     "duration": 0.161921,
     "end_time": "2024-04-06T15:07:11.948011",
     "exception": false,
     "start_time": "2024-04-06T15:07:11.786090",
     "status": "completed"
    },
    "tags": []
   },
   "outputs": [],
   "source": [
    "# create dataframe\n",
    "cps_df = pd.DataFrame(columns=['CP1', 'CP2', 'target'],\n",
    "                       data=np.column_stack((tsne1, \n",
    "                                            y_test1)))# cast targets column to int\n",
    "cps_df.loc[:, 'target'] = cps_df.target.astype(int)\n",
    "cps_df.loc[:, 'target'] = cps_df.target.map(target_name)"
   ]
  },
  {
   "cell_type": "code",
   "execution_count": 33,
   "id": "2bde7b8e",
   "metadata": {
    "execution": {
     "iopub.execute_input": "2024-04-06T15:07:12.220755Z",
     "iopub.status.busy": "2024-04-06T15:07:12.220039Z",
     "iopub.status.idle": "2024-04-06T15:07:13.043471Z",
     "shell.execute_reply": "2024-04-06T15:07:13.042603Z"
    },
    "papermill": {
     "duration": 0.961865,
     "end_time": "2024-04-06T15:07:13.045819",
     "exception": false,
     "start_time": "2024-04-06T15:07:12.083954",
     "status": "completed"
    },
    "tags": []
   },
   "outputs": [
    {
     "data": {
      "text/plain": [
       "<seaborn.axisgrid.FacetGrid at 0x7b33e01fba00>"
      ]
     },
     "execution_count": 33,
     "metadata": {},
     "output_type": "execute_result"
    },
    {
     "data": {
      "image/png": "[encoded data removed]",
      "text/plain": [
       "<Figure size 899.75x800 with 1 Axes>"
      ]
     },
     "metadata": {},
     "output_type": "display_data"
    }
   ],
   "source": [
    "import seaborn as sns\n",
    "d = {'color': [\"aqua\", \"darkorange\", \"cornflowerblue\",'#9e9e9e','#b19a7e','#CD5C5C','#DFFF00',\n",
    "                   '#DE3163','#ff4d4d','#CCCCFF','#800080','#4F1D25','#ccffcc','#ff0040'\n",
    "                   ,'#4000ff','#0080ff','#ff8000','#666600','#b37700','#00b3b3','#003300','#FFC300','#A6F7BD',\n",
    "                   '#A6BDF7','#CAA6F7','#F7A6AC','#ADF7A6','#F5F7A6','#F7CCA6','#EE4949',\n",
    "                    '#DEA41F','#334471','#33716F','#343371','#772CE3','#B8BF20','#666B01','#0B6B01',\n",
    "                    '#F4B708','#179690'] }\n",
    "grid = sns.FacetGrid(cps_df, hue=\"target\",hue_kws=d, height=8)\n",
    "grid.map(plt.scatter, 'CP1', 'CP2').add_legend()"
   ]
  },
  {
   "cell_type": "code",
   "execution_count": 34,
   "id": "88bbd1ff",
   "metadata": {
    "execution": {
     "iopub.execute_input": "2024-04-06T15:07:13.314784Z",
     "iopub.status.busy": "2024-04-06T15:07:13.314137Z",
     "iopub.status.idle": "2024-04-06T15:07:13.492031Z",
     "shell.execute_reply": "2024-04-06T15:07:13.491089Z"
    },
    "papermill": {
     "duration": 0.315266,
     "end_time": "2024-04-06T15:07:13.494376",
     "exception": false,
     "start_time": "2024-04-06T15:07:13.179110",
     "status": "completed"
    },
    "tags": []
   },
   "outputs": [],
   "source": [
    "model.save_weights('/kaggle/working/model1.weights.h5')"
   ]
  }
 ],
 "metadata": {
  "kaggle": {
   "accelerator": "none",
   "dataSources": [
    {
     "datasetId": 1254197,
     "sourceId": 2091656,
     "sourceType": "datasetVersion"
    }
   ],
   "isGpuEnabled": false,
   "isInternetEnabled": true,
   "language": "python",
   "sourceType": "notebook"
  },
  "kernelspec": {
   "display_name": "Python 3",
   "language": "python",
   "name": "python3"
  },
  "language_info": {
   "codemirror_mode": {
    "name": "ipython",
    "version": 3
   },
   "file_extension": ".py",
   "mimetype": "text/x-python",
   "name": "python",
   "nbconvert_exporter": "python",
   "pygments_lexer": "ipython3",
   "version": "3.10.13"
  },
  "papermill": {
   "default_parameters": {},
   "duration": 391.442242,
   "end_time": "2024-04-06T15:07:16.239320",
   "environment_variables": {},
   "exception": null,
   "input_path": "__notebook__.ipynb",
   "output_path": "__notebook__.ipynb",
   "parameters": {},
   "start_time": "2024-04-06T15:00:44.797078",
   "version": "2.4.0"
  }
 },
 "nbformat": 4,
 "nbformat_minor": 5
}
